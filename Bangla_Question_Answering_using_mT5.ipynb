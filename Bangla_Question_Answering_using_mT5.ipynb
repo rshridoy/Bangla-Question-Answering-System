{
  "nbformat": 4,
  "nbformat_minor": 0,
  "metadata": {
    "colab": {
      "provenance": [],
      "include_colab_link": true
    },
    "kernelspec": {
      "name": "python3",
      "display_name": "Python 3"
    },
    "language_info": {
      "name": "python"
    }
  },
  "cells": [
    {
      "cell_type": "markdown",
      "metadata": {
        "id": "view-in-github",
        "colab_type": "text"
      },
      "source": [
        "<a href=\"https://colab.research.google.com/github/fatemafaria142/Bangla-Reading-Comprehension-Based-Question-Answering/blob/main/Bangla_Question_Answering_using_mT5.ipynb\" target=\"_parent\"><img src=\"https://colab.research.google.com/assets/colab-badge.svg\" alt=\"Open In Colab\"/></a>"
      ]
    },
    {
      "cell_type": "code",
      "execution_count": 1,
      "metadata": {
        "id": "OfCjVtiVhUX9"
      },
      "outputs": [],
      "source": [
        "import pandas as pd\n",
        "import numpy as np\n",
        "import matplotlib.pyplot as plt\n",
        "import seaborn as sns\n",
        "import nltk\n",
        "from nltk.util import ngrams"
      ]
    },
    {
      "cell_type": "code",
      "source": [
        "from google.colab import drive\n",
        "drive.mount('/content/drive')"
      ],
      "metadata": {
        "colab": {
          "base_uri": "https://localhost:8080/"
        },
        "id": "8tO2EyQHeTir",
        "outputId": "28c480a5-2dd6-49bc-f4e7-dfae0236855e"
      },
      "execution_count": 2,
      "outputs": [
        {
          "output_type": "stream",
          "name": "stdout",
          "text": [
            "Mounted at /content/drive\n"
          ]
        }
      ]
    },
    {
      "cell_type": "markdown",
      "source": [
        "# **Loading Dataset**\n",
        "* UDDIPOK: Reading Comprehension Based Question Answering Dataset in Bangla Language\n",
        "* Dataset link: https://data.mendeley.com/datasets/s9pb3h2cjy/1"
      ],
      "metadata": {
        "id": "7_S-3Q4Hxz3J"
      }
    },
    {
      "cell_type": "code",
      "source": [
        "df = pd.read_csv('/content/drive/MyDrive/RC_Dataset.csv')\n",
        "df.head()"
      ],
      "metadata": {
        "colab": {
          "base_uri": "https://localhost:8080/",
          "height": 206
        },
        "id": "lCVAGt6mMf86",
        "outputId": "6a03e997-a3a3-4582-bbba-d6ecd4ea984f"
      },
      "execution_count": 3,
      "outputs": [
        {
          "output_type": "execute_result",
          "data": {
            "text/plain": [
              "   Unnamed: 0                                            passage  \\\n",
              "0           0  বাংলাদেশ একটি ক্ষুদ্র আয়তনের জনবহুল দেশ এ দেশে...   \n",
              "1           1  বাংলাদেশ একটি ক্ষুদ্র আয়তনের জনবহুল দেশ এ দেশে...   \n",
              "2           2  বাংলাদেশ একটি ক্ষুদ্র আয়তনের জনবহুল দেশ এ দেশে...   \n",
              "3           3  বাংলাদেশ একটি ক্ষুদ্র আয়তনের জনবহুল দেশ এ দেশে...   \n",
              "4           4  বাংলাদেশের মোট জনসংখ্যা প্রায় ১৬ কোটির মতো পৃথ...   \n",
              "\n",
              "                               question  ans_txt  strt_ind  \n",
              "0      বাংলাদেশের আয়তন কত বর্গকিলোমিটার   ১৪৭৫৭০        53  \n",
              "1            মোট আয়তনের কত শতাংশ বনভূমি       ১৭        93  \n",
              "2            বাংলাদেশের রাজধানীর নাম কি     ঢাকা       133  \n",
              "3  বাংলাদেশে মোট কয়টি বিভাগীয় শহর রয়েছে    আটটি        152  \n",
              "4    বাংলাদেশের মোট জনসংখ্যা প্রায় কোটি       ১৬        30  "
            ],
            "text/html": [
              "\n",
              "  <div id=\"df-878afec8-9c60-4fb4-9ac8-b20154afc3c2\" class=\"colab-df-container\">\n",
              "    <div>\n",
              "<style scoped>\n",
              "    .dataframe tbody tr th:only-of-type {\n",
              "        vertical-align: middle;\n",
              "    }\n",
              "\n",
              "    .dataframe tbody tr th {\n",
              "        vertical-align: top;\n",
              "    }\n",
              "\n",
              "    .dataframe thead th {\n",
              "        text-align: right;\n",
              "    }\n",
              "</style>\n",
              "<table border=\"1\" class=\"dataframe\">\n",
              "  <thead>\n",
              "    <tr style=\"text-align: right;\">\n",
              "      <th></th>\n",
              "      <th>Unnamed: 0</th>\n",
              "      <th>passage</th>\n",
              "      <th>question</th>\n",
              "      <th>ans_txt</th>\n",
              "      <th>strt_ind</th>\n",
              "    </tr>\n",
              "  </thead>\n",
              "  <tbody>\n",
              "    <tr>\n",
              "      <th>0</th>\n",
              "      <td>0</td>\n",
              "      <td>বাংলাদেশ একটি ক্ষুদ্র আয়তনের জনবহুল দেশ এ দেশে...</td>\n",
              "      <td>বাংলাদেশের আয়তন কত বর্গকিলোমিটার</td>\n",
              "      <td>১৪৭৫৭০</td>\n",
              "      <td>53</td>\n",
              "    </tr>\n",
              "    <tr>\n",
              "      <th>1</th>\n",
              "      <td>1</td>\n",
              "      <td>বাংলাদেশ একটি ক্ষুদ্র আয়তনের জনবহুল দেশ এ দেশে...</td>\n",
              "      <td>মোট আয়তনের কত শতাংশ বনভূমি</td>\n",
              "      <td>১৭</td>\n",
              "      <td>93</td>\n",
              "    </tr>\n",
              "    <tr>\n",
              "      <th>2</th>\n",
              "      <td>2</td>\n",
              "      <td>বাংলাদেশ একটি ক্ষুদ্র আয়তনের জনবহুল দেশ এ দেশে...</td>\n",
              "      <td>বাংলাদেশের রাজধানীর নাম কি</td>\n",
              "      <td>ঢাকা</td>\n",
              "      <td>133</td>\n",
              "    </tr>\n",
              "    <tr>\n",
              "      <th>3</th>\n",
              "      <td>3</td>\n",
              "      <td>বাংলাদেশ একটি ক্ষুদ্র আয়তনের জনবহুল দেশ এ দেশে...</td>\n",
              "      <td>বাংলাদেশে মোট কয়টি বিভাগীয় শহর রয়েছে</td>\n",
              "      <td>আটটি</td>\n",
              "      <td>152</td>\n",
              "    </tr>\n",
              "    <tr>\n",
              "      <th>4</th>\n",
              "      <td>4</td>\n",
              "      <td>বাংলাদেশের মোট জনসংখ্যা প্রায় ১৬ কোটির মতো পৃথ...</td>\n",
              "      <td>বাংলাদেশের মোট জনসংখ্যা প্রায় কোটি</td>\n",
              "      <td>১৬</td>\n",
              "      <td>30</td>\n",
              "    </tr>\n",
              "  </tbody>\n",
              "</table>\n",
              "</div>\n",
              "    <div class=\"colab-df-buttons\">\n",
              "\n",
              "  <div class=\"colab-df-container\">\n",
              "    <button class=\"colab-df-convert\" onclick=\"convertToInteractive('df-878afec8-9c60-4fb4-9ac8-b20154afc3c2')\"\n",
              "            title=\"Convert this dataframe to an interactive table.\"\n",
              "            style=\"display:none;\">\n",
              "\n",
              "  <svg xmlns=\"http://www.w3.org/2000/svg\" height=\"24px\" viewBox=\"0 -960 960 960\">\n",
              "    <path d=\"M120-120v-720h720v720H120Zm60-500h600v-160H180v160Zm220 220h160v-160H400v160Zm0 220h160v-160H400v160ZM180-400h160v-160H180v160Zm440 0h160v-160H620v160ZM180-180h160v-160H180v160Zm440 0h160v-160H620v160Z\"/>\n",
              "  </svg>\n",
              "    </button>\n",
              "\n",
              "  <style>\n",
              "    .colab-df-container {\n",
              "      display:flex;\n",
              "      gap: 12px;\n",
              "    }\n",
              "\n",
              "    .colab-df-convert {\n",
              "      background-color: #E8F0FE;\n",
              "      border: none;\n",
              "      border-radius: 50%;\n",
              "      cursor: pointer;\n",
              "      display: none;\n",
              "      fill: #1967D2;\n",
              "      height: 32px;\n",
              "      padding: 0 0 0 0;\n",
              "      width: 32px;\n",
              "    }\n",
              "\n",
              "    .colab-df-convert:hover {\n",
              "      background-color: #E2EBFA;\n",
              "      box-shadow: 0px 1px 2px rgba(60, 64, 67, 0.3), 0px 1px 3px 1px rgba(60, 64, 67, 0.15);\n",
              "      fill: #174EA6;\n",
              "    }\n",
              "\n",
              "    .colab-df-buttons div {\n",
              "      margin-bottom: 4px;\n",
              "    }\n",
              "\n",
              "    [theme=dark] .colab-df-convert {\n",
              "      background-color: #3B4455;\n",
              "      fill: #D2E3FC;\n",
              "    }\n",
              "\n",
              "    [theme=dark] .colab-df-convert:hover {\n",
              "      background-color: #434B5C;\n",
              "      box-shadow: 0px 1px 3px 1px rgba(0, 0, 0, 0.15);\n",
              "      filter: drop-shadow(0px 1px 2px rgba(0, 0, 0, 0.3));\n",
              "      fill: #FFFFFF;\n",
              "    }\n",
              "  </style>\n",
              "\n",
              "    <script>\n",
              "      const buttonEl =\n",
              "        document.querySelector('#df-878afec8-9c60-4fb4-9ac8-b20154afc3c2 button.colab-df-convert');\n",
              "      buttonEl.style.display =\n",
              "        google.colab.kernel.accessAllowed ? 'block' : 'none';\n",
              "\n",
              "      async function convertToInteractive(key) {\n",
              "        const element = document.querySelector('#df-878afec8-9c60-4fb4-9ac8-b20154afc3c2');\n",
              "        const dataTable =\n",
              "          await google.colab.kernel.invokeFunction('convertToInteractive',\n",
              "                                                    [key], {});\n",
              "        if (!dataTable) return;\n",
              "\n",
              "        const docLinkHtml = 'Like what you see? Visit the ' +\n",
              "          '<a target=\"_blank\" href=https://colab.research.google.com/notebooks/data_table.ipynb>data table notebook</a>'\n",
              "          + ' to learn more about interactive tables.';\n",
              "        element.innerHTML = '';\n",
              "        dataTable['output_type'] = 'display_data';\n",
              "        await google.colab.output.renderOutput(dataTable, element);\n",
              "        const docLink = document.createElement('div');\n",
              "        docLink.innerHTML = docLinkHtml;\n",
              "        element.appendChild(docLink);\n",
              "      }\n",
              "    </script>\n",
              "  </div>\n",
              "\n",
              "\n",
              "<div id=\"df-c98a38d5-4a87-4961-814e-07e3ac8d9114\">\n",
              "  <button class=\"colab-df-quickchart\" onclick=\"quickchart('df-c98a38d5-4a87-4961-814e-07e3ac8d9114')\"\n",
              "            title=\"Suggest charts\"\n",
              "            style=\"display:none;\">\n",
              "\n",
              "<svg xmlns=\"http://www.w3.org/2000/svg\" height=\"24px\"viewBox=\"0 0 24 24\"\n",
              "     width=\"24px\">\n",
              "    <g>\n",
              "        <path d=\"M19 3H5c-1.1 0-2 .9-2 2v14c0 1.1.9 2 2 2h14c1.1 0 2-.9 2-2V5c0-1.1-.9-2-2-2zM9 17H7v-7h2v7zm4 0h-2V7h2v10zm4 0h-2v-4h2v4z\"/>\n",
              "    </g>\n",
              "</svg>\n",
              "  </button>\n",
              "\n",
              "<style>\n",
              "  .colab-df-quickchart {\n",
              "      --bg-color: #E8F0FE;\n",
              "      --fill-color: #1967D2;\n",
              "      --hover-bg-color: #E2EBFA;\n",
              "      --hover-fill-color: #174EA6;\n",
              "      --disabled-fill-color: #AAA;\n",
              "      --disabled-bg-color: #DDD;\n",
              "  }\n",
              "\n",
              "  [theme=dark] .colab-df-quickchart {\n",
              "      --bg-color: #3B4455;\n",
              "      --fill-color: #D2E3FC;\n",
              "      --hover-bg-color: #434B5C;\n",
              "      --hover-fill-color: #FFFFFF;\n",
              "      --disabled-bg-color: #3B4455;\n",
              "      --disabled-fill-color: #666;\n",
              "  }\n",
              "\n",
              "  .colab-df-quickchart {\n",
              "    background-color: var(--bg-color);\n",
              "    border: none;\n",
              "    border-radius: 50%;\n",
              "    cursor: pointer;\n",
              "    display: none;\n",
              "    fill: var(--fill-color);\n",
              "    height: 32px;\n",
              "    padding: 0;\n",
              "    width: 32px;\n",
              "  }\n",
              "\n",
              "  .colab-df-quickchart:hover {\n",
              "    background-color: var(--hover-bg-color);\n",
              "    box-shadow: 0 1px 2px rgba(60, 64, 67, 0.3), 0 1px 3px 1px rgba(60, 64, 67, 0.15);\n",
              "    fill: var(--button-hover-fill-color);\n",
              "  }\n",
              "\n",
              "  .colab-df-quickchart-complete:disabled,\n",
              "  .colab-df-quickchart-complete:disabled:hover {\n",
              "    background-color: var(--disabled-bg-color);\n",
              "    fill: var(--disabled-fill-color);\n",
              "    box-shadow: none;\n",
              "  }\n",
              "\n",
              "  .colab-df-spinner {\n",
              "    border: 2px solid var(--fill-color);\n",
              "    border-color: transparent;\n",
              "    border-bottom-color: var(--fill-color);\n",
              "    animation:\n",
              "      spin 1s steps(1) infinite;\n",
              "  }\n",
              "\n",
              "  @keyframes spin {\n",
              "    0% {\n",
              "      border-color: transparent;\n",
              "      border-bottom-color: var(--fill-color);\n",
              "      border-left-color: var(--fill-color);\n",
              "    }\n",
              "    20% {\n",
              "      border-color: transparent;\n",
              "      border-left-color: var(--fill-color);\n",
              "      border-top-color: var(--fill-color);\n",
              "    }\n",
              "    30% {\n",
              "      border-color: transparent;\n",
              "      border-left-color: var(--fill-color);\n",
              "      border-top-color: var(--fill-color);\n",
              "      border-right-color: var(--fill-color);\n",
              "    }\n",
              "    40% {\n",
              "      border-color: transparent;\n",
              "      border-right-color: var(--fill-color);\n",
              "      border-top-color: var(--fill-color);\n",
              "    }\n",
              "    60% {\n",
              "      border-color: transparent;\n",
              "      border-right-color: var(--fill-color);\n",
              "    }\n",
              "    80% {\n",
              "      border-color: transparent;\n",
              "      border-right-color: var(--fill-color);\n",
              "      border-bottom-color: var(--fill-color);\n",
              "    }\n",
              "    90% {\n",
              "      border-color: transparent;\n",
              "      border-bottom-color: var(--fill-color);\n",
              "    }\n",
              "  }\n",
              "</style>\n",
              "\n",
              "  <script>\n",
              "    async function quickchart(key) {\n",
              "      const quickchartButtonEl =\n",
              "        document.querySelector('#' + key + ' button');\n",
              "      quickchartButtonEl.disabled = true;  // To prevent multiple clicks.\n",
              "      quickchartButtonEl.classList.add('colab-df-spinner');\n",
              "      try {\n",
              "        const charts = await google.colab.kernel.invokeFunction(\n",
              "            'suggestCharts', [key], {});\n",
              "      } catch (error) {\n",
              "        console.error('Error during call to suggestCharts:', error);\n",
              "      }\n",
              "      quickchartButtonEl.classList.remove('colab-df-spinner');\n",
              "      quickchartButtonEl.classList.add('colab-df-quickchart-complete');\n",
              "    }\n",
              "    (() => {\n",
              "      let quickchartButtonEl =\n",
              "        document.querySelector('#df-c98a38d5-4a87-4961-814e-07e3ac8d9114 button');\n",
              "      quickchartButtonEl.style.display =\n",
              "        google.colab.kernel.accessAllowed ? 'block' : 'none';\n",
              "    })();\n",
              "  </script>\n",
              "</div>\n",
              "\n",
              "    </div>\n",
              "  </div>\n"
            ]
          },
          "metadata": {},
          "execution_count": 3
        }
      ]
    },
    {
      "cell_type": "markdown",
      "source": [
        "# **Before droping any NaN**"
      ],
      "metadata": {
        "id": "DQ87J5YQVFua"
      }
    },
    {
      "cell_type": "code",
      "source": [
        "import pandas as pd\n",
        "from sklearn.model_selection import train_test_split\n",
        "\n",
        "# Splitting the data into 80% training, 10% testing, and 10% validation\n",
        "train_data, temp = train_test_split(df, test_size=0.2, random_state=42)\n",
        "test_data, validation_data = train_test_split(temp, test_size=0.5, random_state=42)\n",
        "\n",
        "# Checking the lengths of the splits\n",
        "print(\"Train Dataset Length:\",len(train_data))\n",
        "print(\"Test Dataset Length:\",len(test_data))\n",
        "print(\"Validation Dataset Length:\",len(train_data))"
      ],
      "metadata": {
        "colab": {
          "base_uri": "https://localhost:8080/"
        },
        "id": "ALffyaRXNi7N",
        "outputId": "f1569098-68b8-4ea5-ab63-7bdc09db42ec"
      },
      "execution_count": 4,
      "outputs": [
        {
          "output_type": "stream",
          "name": "stdout",
          "text": [
            "Train Dataset Length: 2908\n",
            "Test Dataset Length: 364\n",
            "Validation Dataset Length: 2908\n"
          ]
        }
      ]
    },
    {
      "cell_type": "markdown",
      "source": [
        "# **80% data for training**"
      ],
      "metadata": {
        "id": "cjCZasZvcBXS"
      }
    },
    {
      "cell_type": "code",
      "source": [
        "# Extracting specific columns from train_data DataFrame\n",
        "new_df_train = train_data[['passage', 'question', 'ans_txt']]\n",
        "\n",
        "# Saving the new DataFrame to a CSV file\n",
        "new_df_train.to_csv('/content/drive/MyDrive/QA_Dataset/new_file_train.csv', index=False)\n"
      ],
      "metadata": {
        "id": "pHY9IpZeNc5i"
      },
      "execution_count": 5,
      "outputs": []
    },
    {
      "cell_type": "markdown",
      "source": [
        "# **10% data for testing**"
      ],
      "metadata": {
        "id": "Y-Qo9g0acFBr"
      }
    },
    {
      "cell_type": "code",
      "source": [
        "# Extracting specific columns from train_data DataFrame\n",
        "new_df_test= test_data[['passage', 'question', 'ans_txt']]\n",
        "\n",
        "# Saving the new DataFrame to a CSV file\n",
        "new_df_test.to_csv('/content/drive/MyDrive/QA_Dataset/new_file_test.csv', index=False)\n"
      ],
      "metadata": {
        "id": "jJayNfgGPxNQ"
      },
      "execution_count": 7,
      "outputs": []
    },
    {
      "cell_type": "markdown",
      "source": [
        "# **10% data for validation**"
      ],
      "metadata": {
        "id": "PI5nEHjTcIIs"
      }
    },
    {
      "cell_type": "code",
      "source": [
        "# Extracting specific columns from train_data DataFrame\n",
        "new_df_validation = validation_data[['passage', 'question', 'ans_txt']]\n",
        "\n",
        "# Saving the new DataFrame to a CSV file\n",
        "new_df_validation.to_csv('/content/drive/MyDrive/QA_Dataset/new_file_validation.csv', index=False)\n"
      ],
      "metadata": {
        "id": "b_UvaywmPxTX"
      },
      "execution_count": 6,
      "outputs": []
    },
    {
      "cell_type": "markdown",
      "source": [
        "# **Main Dataset**"
      ],
      "metadata": {
        "id": "UELZ3OoGx3LT"
      }
    },
    {
      "cell_type": "markdown",
      "source": [
        "# **Train dataset**"
      ],
      "metadata": {
        "id": "hKYUftQcTHUR"
      }
    },
    {
      "cell_type": "code",
      "source": [
        "df_train = pd.read_csv('/content/drive/MyDrive/QA_Dataset/new_file_train.csv')\n",
        "df_train.head()"
      ],
      "metadata": {
        "colab": {
          "base_uri": "https://localhost:8080/",
          "height": 206
        },
        "id": "fz8h4WlZMgeh",
        "outputId": "3672ebc2-28b1-4e75-f2a5-a25c2fafc234"
      },
      "execution_count": 8,
      "outputs": [
        {
          "output_type": "execute_result",
          "data": {
            "text/plain": [
              "                                             passage  \\\n",
              "0  চিকিৎসাক্ষেত্রে বিজ্ঞানের ব্যাপক সাফল্য এসেছে ...   \n",
              "1  তিনি ইংরেজ সরকারের কাছে তাঁর প্রতিবাদপত্রে লিখ...   \n",
              "2  বাংলা বর্ষপঞ্জি অনুযায়ী বছরের প্রথম দুই মাস ব...   \n",
              "3  কেরম্যাকম্যাককেন্ড্রিক তাদের বিখ্যাত এসআইআর সা...   \n",
              "4  ল্যাটিন শব্দ কম্পিউট Compute থেকে কম্পিউটার কথ...   \n",
              "\n",
              "                                            question         ans_txt  \n",
              "0  যেমন গ্লুকোমিটার যন্ত্রের মাধ্যমে মূত্র কি করে...        পরীক্ষা   \n",
              "1  তিনি ইংরেজ সরকারের কাছে তাঁর কিসে লিখেছিলেন এক...  প্রতিবাদপত্রে   \n",
              "2  এই সময় কিসের প্রচন্ড তাপে উত্তপ্ত হয়ে ওঠে ভূ...         সূর্যের  \n",
              "3  কেরম্যাকম্যাককেন্ড্রিক তাদের বিখ্যাত এসআইআর সা...           রোগের  \n",
              "4   কম্পিউটার যেসব কি নিয়ে কাজ করে তাকে ডেটা বলে...            তথ্য  "
            ],
            "text/html": [
              "\n",
              "  <div id=\"df-30ca2ca0-2645-4b4b-b2a6-4a55f534b212\" class=\"colab-df-container\">\n",
              "    <div>\n",
              "<style scoped>\n",
              "    .dataframe tbody tr th:only-of-type {\n",
              "        vertical-align: middle;\n",
              "    }\n",
              "\n",
              "    .dataframe tbody tr th {\n",
              "        vertical-align: top;\n",
              "    }\n",
              "\n",
              "    .dataframe thead th {\n",
              "        text-align: right;\n",
              "    }\n",
              "</style>\n",
              "<table border=\"1\" class=\"dataframe\">\n",
              "  <thead>\n",
              "    <tr style=\"text-align: right;\">\n",
              "      <th></th>\n",
              "      <th>passage</th>\n",
              "      <th>question</th>\n",
              "      <th>ans_txt</th>\n",
              "    </tr>\n",
              "  </thead>\n",
              "  <tbody>\n",
              "    <tr>\n",
              "      <th>0</th>\n",
              "      <td>চিকিৎসাক্ষেত্রে বিজ্ঞানের ব্যাপক সাফল্য এসেছে ...</td>\n",
              "      <td>যেমন গ্লুকোমিটার যন্ত্রের মাধ্যমে মূত্র কি করে...</td>\n",
              "      <td>পরীক্ষা</td>\n",
              "    </tr>\n",
              "    <tr>\n",
              "      <th>1</th>\n",
              "      <td>তিনি ইংরেজ সরকারের কাছে তাঁর প্রতিবাদপত্রে লিখ...</td>\n",
              "      <td>তিনি ইংরেজ সরকারের কাছে তাঁর কিসে লিখেছিলেন এক...</td>\n",
              "      <td>প্রতিবাদপত্রে</td>\n",
              "    </tr>\n",
              "    <tr>\n",
              "      <th>2</th>\n",
              "      <td>বাংলা বর্ষপঞ্জি অনুযায়ী বছরের প্রথম দুই মাস ব...</td>\n",
              "      <td>এই সময় কিসের প্রচন্ড তাপে উত্তপ্ত হয়ে ওঠে ভূ...</td>\n",
              "      <td>সূর্যের</td>\n",
              "    </tr>\n",
              "    <tr>\n",
              "      <th>3</th>\n",
              "      <td>কেরম্যাকম্যাককেন্ড্রিক তাদের বিখ্যাত এসআইআর সা...</td>\n",
              "      <td>কেরম্যাকম্যাককেন্ড্রিক তাদের বিখ্যাত এসআইআর সা...</td>\n",
              "      <td>রোগের</td>\n",
              "    </tr>\n",
              "    <tr>\n",
              "      <th>4</th>\n",
              "      <td>ল্যাটিন শব্দ কম্পিউট Compute থেকে কম্পিউটার কথ...</td>\n",
              "      <td>কম্পিউটার যেসব কি নিয়ে কাজ করে তাকে ডেটা বলে...</td>\n",
              "      <td>তথ্য</td>\n",
              "    </tr>\n",
              "  </tbody>\n",
              "</table>\n",
              "</div>\n",
              "    <div class=\"colab-df-buttons\">\n",
              "\n",
              "  <div class=\"colab-df-container\">\n",
              "    <button class=\"colab-df-convert\" onclick=\"convertToInteractive('df-30ca2ca0-2645-4b4b-b2a6-4a55f534b212')\"\n",
              "            title=\"Convert this dataframe to an interactive table.\"\n",
              "            style=\"display:none;\">\n",
              "\n",
              "  <svg xmlns=\"http://www.w3.org/2000/svg\" height=\"24px\" viewBox=\"0 -960 960 960\">\n",
              "    <path d=\"M120-120v-720h720v720H120Zm60-500h600v-160H180v160Zm220 220h160v-160H400v160Zm0 220h160v-160H400v160ZM180-400h160v-160H180v160Zm440 0h160v-160H620v160ZM180-180h160v-160H180v160Zm440 0h160v-160H620v160Z\"/>\n",
              "  </svg>\n",
              "    </button>\n",
              "\n",
              "  <style>\n",
              "    .colab-df-container {\n",
              "      display:flex;\n",
              "      gap: 12px;\n",
              "    }\n",
              "\n",
              "    .colab-df-convert {\n",
              "      background-color: #E8F0FE;\n",
              "      border: none;\n",
              "      border-radius: 50%;\n",
              "      cursor: pointer;\n",
              "      display: none;\n",
              "      fill: #1967D2;\n",
              "      height: 32px;\n",
              "      padding: 0 0 0 0;\n",
              "      width: 32px;\n",
              "    }\n",
              "\n",
              "    .colab-df-convert:hover {\n",
              "      background-color: #E2EBFA;\n",
              "      box-shadow: 0px 1px 2px rgba(60, 64, 67, 0.3), 0px 1px 3px 1px rgba(60, 64, 67, 0.15);\n",
              "      fill: #174EA6;\n",
              "    }\n",
              "\n",
              "    .colab-df-buttons div {\n",
              "      margin-bottom: 4px;\n",
              "    }\n",
              "\n",
              "    [theme=dark] .colab-df-convert {\n",
              "      background-color: #3B4455;\n",
              "      fill: #D2E3FC;\n",
              "    }\n",
              "\n",
              "    [theme=dark] .colab-df-convert:hover {\n",
              "      background-color: #434B5C;\n",
              "      box-shadow: 0px 1px 3px 1px rgba(0, 0, 0, 0.15);\n",
              "      filter: drop-shadow(0px 1px 2px rgba(0, 0, 0, 0.3));\n",
              "      fill: #FFFFFF;\n",
              "    }\n",
              "  </style>\n",
              "\n",
              "    <script>\n",
              "      const buttonEl =\n",
              "        document.querySelector('#df-30ca2ca0-2645-4b4b-b2a6-4a55f534b212 button.colab-df-convert');\n",
              "      buttonEl.style.display =\n",
              "        google.colab.kernel.accessAllowed ? 'block' : 'none';\n",
              "\n",
              "      async function convertToInteractive(key) {\n",
              "        const element = document.querySelector('#df-30ca2ca0-2645-4b4b-b2a6-4a55f534b212');\n",
              "        const dataTable =\n",
              "          await google.colab.kernel.invokeFunction('convertToInteractive',\n",
              "                                                    [key], {});\n",
              "        if (!dataTable) return;\n",
              "\n",
              "        const docLinkHtml = 'Like what you see? Visit the ' +\n",
              "          '<a target=\"_blank\" href=https://colab.research.google.com/notebooks/data_table.ipynb>data table notebook</a>'\n",
              "          + ' to learn more about interactive tables.';\n",
              "        element.innerHTML = '';\n",
              "        dataTable['output_type'] = 'display_data';\n",
              "        await google.colab.output.renderOutput(dataTable, element);\n",
              "        const docLink = document.createElement('div');\n",
              "        docLink.innerHTML = docLinkHtml;\n",
              "        element.appendChild(docLink);\n",
              "      }\n",
              "    </script>\n",
              "  </div>\n",
              "\n",
              "\n",
              "<div id=\"df-a2af4d55-2c33-44cb-ba49-d06fa17a1132\">\n",
              "  <button class=\"colab-df-quickchart\" onclick=\"quickchart('df-a2af4d55-2c33-44cb-ba49-d06fa17a1132')\"\n",
              "            title=\"Suggest charts\"\n",
              "            style=\"display:none;\">\n",
              "\n",
              "<svg xmlns=\"http://www.w3.org/2000/svg\" height=\"24px\"viewBox=\"0 0 24 24\"\n",
              "     width=\"24px\">\n",
              "    <g>\n",
              "        <path d=\"M19 3H5c-1.1 0-2 .9-2 2v14c0 1.1.9 2 2 2h14c1.1 0 2-.9 2-2V5c0-1.1-.9-2-2-2zM9 17H7v-7h2v7zm4 0h-2V7h2v10zm4 0h-2v-4h2v4z\"/>\n",
              "    </g>\n",
              "</svg>\n",
              "  </button>\n",
              "\n",
              "<style>\n",
              "  .colab-df-quickchart {\n",
              "      --bg-color: #E8F0FE;\n",
              "      --fill-color: #1967D2;\n",
              "      --hover-bg-color: #E2EBFA;\n",
              "      --hover-fill-color: #174EA6;\n",
              "      --disabled-fill-color: #AAA;\n",
              "      --disabled-bg-color: #DDD;\n",
              "  }\n",
              "\n",
              "  [theme=dark] .colab-df-quickchart {\n",
              "      --bg-color: #3B4455;\n",
              "      --fill-color: #D2E3FC;\n",
              "      --hover-bg-color: #434B5C;\n",
              "      --hover-fill-color: #FFFFFF;\n",
              "      --disabled-bg-color: #3B4455;\n",
              "      --disabled-fill-color: #666;\n",
              "  }\n",
              "\n",
              "  .colab-df-quickchart {\n",
              "    background-color: var(--bg-color);\n",
              "    border: none;\n",
              "    border-radius: 50%;\n",
              "    cursor: pointer;\n",
              "    display: none;\n",
              "    fill: var(--fill-color);\n",
              "    height: 32px;\n",
              "    padding: 0;\n",
              "    width: 32px;\n",
              "  }\n",
              "\n",
              "  .colab-df-quickchart:hover {\n",
              "    background-color: var(--hover-bg-color);\n",
              "    box-shadow: 0 1px 2px rgba(60, 64, 67, 0.3), 0 1px 3px 1px rgba(60, 64, 67, 0.15);\n",
              "    fill: var(--button-hover-fill-color);\n",
              "  }\n",
              "\n",
              "  .colab-df-quickchart-complete:disabled,\n",
              "  .colab-df-quickchart-complete:disabled:hover {\n",
              "    background-color: var(--disabled-bg-color);\n",
              "    fill: var(--disabled-fill-color);\n",
              "    box-shadow: none;\n",
              "  }\n",
              "\n",
              "  .colab-df-spinner {\n",
              "    border: 2px solid var(--fill-color);\n",
              "    border-color: transparent;\n",
              "    border-bottom-color: var(--fill-color);\n",
              "    animation:\n",
              "      spin 1s steps(1) infinite;\n",
              "  }\n",
              "\n",
              "  @keyframes spin {\n",
              "    0% {\n",
              "      border-color: transparent;\n",
              "      border-bottom-color: var(--fill-color);\n",
              "      border-left-color: var(--fill-color);\n",
              "    }\n",
              "    20% {\n",
              "      border-color: transparent;\n",
              "      border-left-color: var(--fill-color);\n",
              "      border-top-color: var(--fill-color);\n",
              "    }\n",
              "    30% {\n",
              "      border-color: transparent;\n",
              "      border-left-color: var(--fill-color);\n",
              "      border-top-color: var(--fill-color);\n",
              "      border-right-color: var(--fill-color);\n",
              "    }\n",
              "    40% {\n",
              "      border-color: transparent;\n",
              "      border-right-color: var(--fill-color);\n",
              "      border-top-color: var(--fill-color);\n",
              "    }\n",
              "    60% {\n",
              "      border-color: transparent;\n",
              "      border-right-color: var(--fill-color);\n",
              "    }\n",
              "    80% {\n",
              "      border-color: transparent;\n",
              "      border-right-color: var(--fill-color);\n",
              "      border-bottom-color: var(--fill-color);\n",
              "    }\n",
              "    90% {\n",
              "      border-color: transparent;\n",
              "      border-bottom-color: var(--fill-color);\n",
              "    }\n",
              "  }\n",
              "</style>\n",
              "\n",
              "  <script>\n",
              "    async function quickchart(key) {\n",
              "      const quickchartButtonEl =\n",
              "        document.querySelector('#' + key + ' button');\n",
              "      quickchartButtonEl.disabled = true;  // To prevent multiple clicks.\n",
              "      quickchartButtonEl.classList.add('colab-df-spinner');\n",
              "      try {\n",
              "        const charts = await google.colab.kernel.invokeFunction(\n",
              "            'suggestCharts', [key], {});\n",
              "      } catch (error) {\n",
              "        console.error('Error during call to suggestCharts:', error);\n",
              "      }\n",
              "      quickchartButtonEl.classList.remove('colab-df-spinner');\n",
              "      quickchartButtonEl.classList.add('colab-df-quickchart-complete');\n",
              "    }\n",
              "    (() => {\n",
              "      let quickchartButtonEl =\n",
              "        document.querySelector('#df-a2af4d55-2c33-44cb-ba49-d06fa17a1132 button');\n",
              "      quickchartButtonEl.style.display =\n",
              "        google.colab.kernel.accessAllowed ? 'block' : 'none';\n",
              "    })();\n",
              "  </script>\n",
              "</div>\n",
              "\n",
              "    </div>\n",
              "  </div>\n"
            ]
          },
          "metadata": {},
          "execution_count": 8
        }
      ]
    },
    {
      "cell_type": "markdown",
      "source": [
        "# **Checking NaN values in train dataset**"
      ],
      "metadata": {
        "id": "j9wpuogAcOM_"
      }
    },
    {
      "cell_type": "code",
      "source": [
        "# Check for NaN values in df_train\n",
        "nan_count = df_train.isna().sum()\n",
        "\n",
        "# Display columns with NaN values and their respective counts\n",
        "print(\"Columns with NaN values:\")\n",
        "print(nan_count[nan_count > 0])\n"
      ],
      "metadata": {
        "colab": {
          "base_uri": "https://localhost:8080/"
        },
        "id": "KGu_GglJRsIy",
        "outputId": "37c3ea92-af4a-4de5-dd78-30975e224d16"
      },
      "execution_count": 9,
      "outputs": [
        {
          "output_type": "stream",
          "name": "stdout",
          "text": [
            "Columns with NaN values:\n",
            "question    1\n",
            "dtype: int64\n"
          ]
        }
      ]
    },
    {
      "cell_type": "code",
      "source": [
        "# Find the row with NaN value in the 'question' column\n",
        "row_with_nan = df_train[df_train['question'].isnull()]\n",
        "print(\"Row with NaN value in 'question' column:\")\n",
        "row_with_nan\n"
      ],
      "metadata": {
        "colab": {
          "base_uri": "https://localhost:8080/",
          "height": 106
        },
        "id": "cSYQ3ZtXSnY0",
        "outputId": "c6d86904-407d-45f3-86eb-b81980fd5014"
      },
      "execution_count": 10,
      "outputs": [
        {
          "output_type": "stream",
          "name": "stdout",
          "text": [
            "Row with NaN value in 'question' column:\n"
          ]
        },
        {
          "output_type": "execute_result",
          "data": {
            "text/plain": [
              "                                                passage question       ans_txt\n",
              "1434  সেই ছেলেটি সারাক্ষণ নানা দিক থেকে সমানে তৈরি ক...      NaN  সত্যজিৎ রায়"
            ],
            "text/html": [
              "\n",
              "  <div id=\"df-d93e01e0-ea6c-4e62-889b-df1dbe098a0a\" class=\"colab-df-container\">\n",
              "    <div>\n",
              "<style scoped>\n",
              "    .dataframe tbody tr th:only-of-type {\n",
              "        vertical-align: middle;\n",
              "    }\n",
              "\n",
              "    .dataframe tbody tr th {\n",
              "        vertical-align: top;\n",
              "    }\n",
              "\n",
              "    .dataframe thead th {\n",
              "        text-align: right;\n",
              "    }\n",
              "</style>\n",
              "<table border=\"1\" class=\"dataframe\">\n",
              "  <thead>\n",
              "    <tr style=\"text-align: right;\">\n",
              "      <th></th>\n",
              "      <th>passage</th>\n",
              "      <th>question</th>\n",
              "      <th>ans_txt</th>\n",
              "    </tr>\n",
              "  </thead>\n",
              "  <tbody>\n",
              "    <tr>\n",
              "      <th>1434</th>\n",
              "      <td>সেই ছেলেটি সারাক্ষণ নানা দিক থেকে সমানে তৈরি ক...</td>\n",
              "      <td>NaN</td>\n",
              "      <td>সত্যজিৎ রায়</td>\n",
              "    </tr>\n",
              "  </tbody>\n",
              "</table>\n",
              "</div>\n",
              "    <div class=\"colab-df-buttons\">\n",
              "\n",
              "  <div class=\"colab-df-container\">\n",
              "    <button class=\"colab-df-convert\" onclick=\"convertToInteractive('df-d93e01e0-ea6c-4e62-889b-df1dbe098a0a')\"\n",
              "            title=\"Convert this dataframe to an interactive table.\"\n",
              "            style=\"display:none;\">\n",
              "\n",
              "  <svg xmlns=\"http://www.w3.org/2000/svg\" height=\"24px\" viewBox=\"0 -960 960 960\">\n",
              "    <path d=\"M120-120v-720h720v720H120Zm60-500h600v-160H180v160Zm220 220h160v-160H400v160Zm0 220h160v-160H400v160ZM180-400h160v-160H180v160Zm440 0h160v-160H620v160ZM180-180h160v-160H180v160Zm440 0h160v-160H620v160Z\"/>\n",
              "  </svg>\n",
              "    </button>\n",
              "\n",
              "  <style>\n",
              "    .colab-df-container {\n",
              "      display:flex;\n",
              "      gap: 12px;\n",
              "    }\n",
              "\n",
              "    .colab-df-convert {\n",
              "      background-color: #E8F0FE;\n",
              "      border: none;\n",
              "      border-radius: 50%;\n",
              "      cursor: pointer;\n",
              "      display: none;\n",
              "      fill: #1967D2;\n",
              "      height: 32px;\n",
              "      padding: 0 0 0 0;\n",
              "      width: 32px;\n",
              "    }\n",
              "\n",
              "    .colab-df-convert:hover {\n",
              "      background-color: #E2EBFA;\n",
              "      box-shadow: 0px 1px 2px rgba(60, 64, 67, 0.3), 0px 1px 3px 1px rgba(60, 64, 67, 0.15);\n",
              "      fill: #174EA6;\n",
              "    }\n",
              "\n",
              "    .colab-df-buttons div {\n",
              "      margin-bottom: 4px;\n",
              "    }\n",
              "\n",
              "    [theme=dark] .colab-df-convert {\n",
              "      background-color: #3B4455;\n",
              "      fill: #D2E3FC;\n",
              "    }\n",
              "\n",
              "    [theme=dark] .colab-df-convert:hover {\n",
              "      background-color: #434B5C;\n",
              "      box-shadow: 0px 1px 3px 1px rgba(0, 0, 0, 0.15);\n",
              "      filter: drop-shadow(0px 1px 2px rgba(0, 0, 0, 0.3));\n",
              "      fill: #FFFFFF;\n",
              "    }\n",
              "  </style>\n",
              "\n",
              "    <script>\n",
              "      const buttonEl =\n",
              "        document.querySelector('#df-d93e01e0-ea6c-4e62-889b-df1dbe098a0a button.colab-df-convert');\n",
              "      buttonEl.style.display =\n",
              "        google.colab.kernel.accessAllowed ? 'block' : 'none';\n",
              "\n",
              "      async function convertToInteractive(key) {\n",
              "        const element = document.querySelector('#df-d93e01e0-ea6c-4e62-889b-df1dbe098a0a');\n",
              "        const dataTable =\n",
              "          await google.colab.kernel.invokeFunction('convertToInteractive',\n",
              "                                                    [key], {});\n",
              "        if (!dataTable) return;\n",
              "\n",
              "        const docLinkHtml = 'Like what you see? Visit the ' +\n",
              "          '<a target=\"_blank\" href=https://colab.research.google.com/notebooks/data_table.ipynb>data table notebook</a>'\n",
              "          + ' to learn more about interactive tables.';\n",
              "        element.innerHTML = '';\n",
              "        dataTable['output_type'] = 'display_data';\n",
              "        await google.colab.output.renderOutput(dataTable, element);\n",
              "        const docLink = document.createElement('div');\n",
              "        docLink.innerHTML = docLinkHtml;\n",
              "        element.appendChild(docLink);\n",
              "      }\n",
              "    </script>\n",
              "  </div>\n",
              "\n",
              "\n",
              "  <div id=\"id_134ee6f9-9c5a-4e2e-8d16-d88533fde917\">\n",
              "    <style>\n",
              "      .colab-df-generate {\n",
              "        background-color: #E8F0FE;\n",
              "        border: none;\n",
              "        border-radius: 50%;\n",
              "        cursor: pointer;\n",
              "        display: none;\n",
              "        fill: #1967D2;\n",
              "        height: 32px;\n",
              "        padding: 0 0 0 0;\n",
              "        width: 32px;\n",
              "      }\n",
              "\n",
              "      .colab-df-generate:hover {\n",
              "        background-color: #E2EBFA;\n",
              "        box-shadow: 0px 1px 2px rgba(60, 64, 67, 0.3), 0px 1px 3px 1px rgba(60, 64, 67, 0.15);\n",
              "        fill: #174EA6;\n",
              "      }\n",
              "\n",
              "      [theme=dark] .colab-df-generate {\n",
              "        background-color: #3B4455;\n",
              "        fill: #D2E3FC;\n",
              "      }\n",
              "\n",
              "      [theme=dark] .colab-df-generate:hover {\n",
              "        background-color: #434B5C;\n",
              "        box-shadow: 0px 1px 3px 1px rgba(0, 0, 0, 0.15);\n",
              "        filter: drop-shadow(0px 1px 2px rgba(0, 0, 0, 0.3));\n",
              "        fill: #FFFFFF;\n",
              "      }\n",
              "    </style>\n",
              "    <button class=\"colab-df-generate\" onclick=\"generateWithVariable('row_with_nan')\"\n",
              "            title=\"Generate code using this dataframe.\"\n",
              "            style=\"display:none;\">\n",
              "\n",
              "  <svg xmlns=\"http://www.w3.org/2000/svg\" height=\"24px\"viewBox=\"0 0 24 24\"\n",
              "       width=\"24px\">\n",
              "    <path d=\"M7,19H8.4L18.45,9,17,7.55,7,17.6ZM5,21V16.75L18.45,3.32a2,2,0,0,1,2.83,0l1.4,1.43a1.91,1.91,0,0,1,.58,1.4,1.91,1.91,0,0,1-.58,1.4L9.25,21ZM18.45,9,17,7.55Zm-12,3A5.31,5.31,0,0,0,4.9,8.1,5.31,5.31,0,0,0,1,6.5,5.31,5.31,0,0,0,4.9,4.9,5.31,5.31,0,0,0,6.5,1,5.31,5.31,0,0,0,8.1,4.9,5.31,5.31,0,0,0,12,6.5,5.46,5.46,0,0,0,6.5,12Z\"/>\n",
              "  </svg>\n",
              "    </button>\n",
              "    <script>\n",
              "      (() => {\n",
              "      const buttonEl =\n",
              "        document.querySelector('#id_134ee6f9-9c5a-4e2e-8d16-d88533fde917 button.colab-df-generate');\n",
              "      buttonEl.style.display =\n",
              "        google.colab.kernel.accessAllowed ? 'block' : 'none';\n",
              "\n",
              "      buttonEl.onclick = () => {\n",
              "        google.colab.notebook.generateWithVariable('row_with_nan');\n",
              "      }\n",
              "      })();\n",
              "    </script>\n",
              "  </div>\n",
              "\n",
              "    </div>\n",
              "  </div>\n"
            ]
          },
          "metadata": {},
          "execution_count": 10
        }
      ]
    },
    {
      "cell_type": "code",
      "source": [
        "# Remove rows with NaN values in the 'question' column\n",
        "df_train = df_train.dropna(subset=['question'])\n",
        "\n",
        "# Verify that NaN values have been removed\n",
        "nan_count = df_train.isna().sum()\n",
        "print(\"Columns with NaN values after removing:\")\n",
        "print(nan_count[nan_count > 0])\n"
      ],
      "metadata": {
        "colab": {
          "base_uri": "https://localhost:8080/"
        },
        "id": "ur8SUvkCSvQw",
        "outputId": "acedd6ba-a022-47d2-cb7d-95908a564fc3"
      },
      "execution_count": 11,
      "outputs": [
        {
          "output_type": "stream",
          "name": "stdout",
          "text": [
            "Columns with NaN values after removing:\n",
            "Series([], dtype: int64)\n"
          ]
        }
      ]
    },
    {
      "cell_type": "markdown",
      "source": [
        "# **Visualization of Passage, Question, and Answer Length of Training Dataset**"
      ],
      "metadata": {
        "id": "BUrH4fVdSmRx"
      }
    },
    {
      "cell_type": "code",
      "source": [
        "# Calculate the lengths of the columns\n",
        "df_train['passage_length'] = df_train['passage'].apply(lambda x: len(str(x).split()))\n",
        "df_train['question_length'] = df_train['question'].apply(lambda x: len(str(x).split()))\n",
        "df_train['answer_length'] = df_train['ans_txt'].apply(lambda x: len(str(x).split()))\n",
        "\n",
        "# Set the aesthetic style and font settings\n",
        "sns.set(style=\"whitegrid\")\n",
        "font_label = {'fontfamily': 'serif', 'fontsize': 12, 'fontweight': 'bold'}\n",
        "font_title = {'fontfamily': 'serif', 'fontsize': 14, 'fontweight': 'bold'}\n",
        "\n",
        "# Create subplots\n",
        "fig, axes = plt.subplots(1, 3, figsize=(12, 4))  # 1 row, 3 columns\n",
        "\n",
        "# Plot 1: Distribution of Passage Length\n",
        "sns.histplot(data=df_train, x='passage_length', bins=20, edgecolor='black', color='#79e0f7', ax=axes[0])\n",
        "axes[0].set_title('Distribution of Passage Length', fontdict=font_title)\n",
        "axes[0].set_xlabel('Passage Length', fontdict=font_label)\n",
        "axes[0].set_ylabel('Number of Passages', fontdict=font_label)\n",
        "\n",
        "# Plot 2: Distribution of Question Length\n",
        "sns.histplot(data=df_train, x='question_length', bins=20, edgecolor='black', color='#ff9696', ax=axes[1])\n",
        "axes[1].set_title('Distribution of Question Length', fontdict=font_title)\n",
        "axes[1].set_xlabel('Question Length', fontdict=font_label)\n",
        "axes[1].set_ylabel('Number of Questions', fontdict=font_label)\n",
        "\n",
        "# Plot 3: Distribution of Answer Length\n",
        "sns.histplot(data=df_train, x='answer_length', bins=20, edgecolor='black', color='#8f97ef', ax=axes[2])\n",
        "axes[2].set_title('Distribution of Answer Length', fontdict=font_title)\n",
        "axes[2].set_xlabel('Answer Length', fontdict=font_label)\n",
        "axes[2].set_ylabel('Number of Answers', fontdict=font_label)\n",
        "\n",
        "# Set a title for the set of subplots\n",
        "plt.suptitle('Training Dataset', fontfamily='serif',fontsize=16, fontweight='bold')\n",
        "plt.tight_layout()\n",
        "plt.show()"
      ],
      "metadata": {
        "colab": {
          "base_uri": "https://localhost:8080/",
          "height": 382
        },
        "id": "98bTqUAJR0Ce",
        "outputId": "874aab9e-23d6-4f9f-f002-fcb36bba220d"
      },
      "execution_count": 12,
      "outputs": [
        {
          "output_type": "display_data",
          "data": {
            "text/plain": [
              "<Figure size 1200x400 with 3 Axes>"
            ],
            "image/png": "[encoded data removed]"
          },
          "metadata": {}
        }
      ]
    },
    {
      "cell_type": "markdown",
      "source": [
        "# **Count of unique words for passage and question in Train Dataset**"
      ],
      "metadata": {
        "id": "f2_Qi48dXIi4"
      }
    },
    {
      "cell_type": "code",
      "source": [
        "# Tokenize 'passage' and 'question' columns to count unique words\n",
        "passage_words = ' '.join(df_train['passage']).split()\n",
        "question_words = ' '.join(df_train['question']).split()\n",
        "\n",
        "# Calculate unique words\n",
        "unique_passage_words = len(set(passage_words))\n",
        "unique_question_words = len(set(question_words))\n",
        "\n",
        "# Display the count of unique words\n",
        "print(f\"Number of unique words in 'passage': {unique_passage_words}\")\n",
        "print(f\"Number of unique words in 'question': {unique_question_words}\")"
      ],
      "metadata": {
        "colab": {
          "base_uri": "https://localhost:8080/"
        },
        "id": "sVHj5pvhV4Eq",
        "outputId": "4812b133-eee8-4b24-e28e-e6bc9994350e"
      },
      "execution_count": 13,
      "outputs": [
        {
          "output_type": "stream",
          "name": "stdout",
          "text": [
            "Number of unique words in 'passage': 4086\n",
            "Number of unique words in 'question': 3442\n"
          ]
        }
      ]
    },
    {
      "cell_type": "markdown",
      "source": [
        "# **Test dataset**"
      ],
      "metadata": {
        "id": "hzzgw9-ITLLZ"
      }
    },
    {
      "cell_type": "code",
      "source": [
        "df_test = pd.read_csv('/content/drive/MyDrive/QA_Dataset/new_file_test.csv')\n",
        "df_test.head()"
      ],
      "metadata": {
        "colab": {
          "base_uri": "https://localhost:8080/",
          "height": 206
        },
        "id": "XFKWx6KNQJ_a",
        "outputId": "5f56f43b-640f-4410-b2ca-a2738f224fac"
      },
      "execution_count": 14,
      "outputs": [
        {
          "output_type": "execute_result",
          "data": {
            "text/plain": [
              "                                             passage  \\\n",
              "0  তৃতীয় বিশ্বের মধ্যম আয়ের দেশ হিসেবে বাংলাদেশ...   \n",
              "1  প্রচলিত বিশ্বাসের উর্দ্ধে উঠে বিচার করলে দেখা ...   \n",
              "2  পুলিশ ছাত্র জনসমাবেশের উপর গুলি চালায় ফলে রফিক...   \n",
              "3  দীর্ঘদিন একটানা আর্সেনিক দূষিত পানি পান ও দূষি...   \n",
              "4  ব্রিটিশ সরকারের ওই সিদ্ধান্তের প্রতিবাদে বাংলা...   \n",
              "\n",
              "                                            question    ans_txt  \n",
              "0  তৃতীয় বিশ্বের কেমন আয়ের দেশ হিসেবে বাংলাদেশে...      মধ্যম  \n",
              "1  প্রচলিত বিশ্বাসের উর্দ্ধে উঠে বিচার করলে দেখা ...    লড়াইতে  \n",
              "2  এই ঘটনা কাকে এক নতুন মাত্রা দান করে এবং রাজনৈত...  আন্দোলনকে  \n",
              "3                               কিসের তালু খসখসে হয়  হাতপায়ের  \n",
              "4  ব্রিটিশ সরকারের ওই সিদ্ধান্তের প্রতিবাদে বাংলা...   ব্রিটিশ   "
            ],
            "text/html": [
              "\n",
              "  <div id=\"df-e46b6ef3-558c-4d85-9a85-bbaef3902c3a\" class=\"colab-df-container\">\n",
              "    <div>\n",
              "<style scoped>\n",
              "    .dataframe tbody tr th:only-of-type {\n",
              "        vertical-align: middle;\n",
              "    }\n",
              "\n",
              "    .dataframe tbody tr th {\n",
              "        vertical-align: top;\n",
              "    }\n",
              "\n",
              "    .dataframe thead th {\n",
              "        text-align: right;\n",
              "    }\n",
              "</style>\n",
              "<table border=\"1\" class=\"dataframe\">\n",
              "  <thead>\n",
              "    <tr style=\"text-align: right;\">\n",
              "      <th></th>\n",
              "      <th>passage</th>\n",
              "      <th>question</th>\n",
              "      <th>ans_txt</th>\n",
              "    </tr>\n",
              "  </thead>\n",
              "  <tbody>\n",
              "    <tr>\n",
              "      <th>0</th>\n",
              "      <td>তৃতীয় বিশ্বের মধ্যম আয়ের দেশ হিসেবে বাংলাদেশ...</td>\n",
              "      <td>তৃতীয় বিশ্বের কেমন আয়ের দেশ হিসেবে বাংলাদেশে...</td>\n",
              "      <td>মধ্যম</td>\n",
              "    </tr>\n",
              "    <tr>\n",
              "      <th>1</th>\n",
              "      <td>প্রচলিত বিশ্বাসের উর্দ্ধে উঠে বিচার করলে দেখা ...</td>\n",
              "      <td>প্রচলিত বিশ্বাসের উর্দ্ধে উঠে বিচার করলে দেখা ...</td>\n",
              "      <td>লড়াইতে</td>\n",
              "    </tr>\n",
              "    <tr>\n",
              "      <th>2</th>\n",
              "      <td>পুলিশ ছাত্র জনসমাবেশের উপর গুলি চালায় ফলে রফিক...</td>\n",
              "      <td>এই ঘটনা কাকে এক নতুন মাত্রা দান করে এবং রাজনৈত...</td>\n",
              "      <td>আন্দোলনকে</td>\n",
              "    </tr>\n",
              "    <tr>\n",
              "      <th>3</th>\n",
              "      <td>দীর্ঘদিন একটানা আর্সেনিক দূষিত পানি পান ও দূষি...</td>\n",
              "      <td>কিসের তালু খসখসে হয়</td>\n",
              "      <td>হাতপায়ের</td>\n",
              "    </tr>\n",
              "    <tr>\n",
              "      <th>4</th>\n",
              "      <td>ব্রিটিশ সরকারের ওই সিদ্ধান্তের প্রতিবাদে বাংলা...</td>\n",
              "      <td>ব্রিটিশ সরকারের ওই সিদ্ধান্তের প্রতিবাদে বাংলা...</td>\n",
              "      <td>ব্রিটিশ</td>\n",
              "    </tr>\n",
              "  </tbody>\n",
              "</table>\n",
              "</div>\n",
              "    <div class=\"colab-df-buttons\">\n",
              "\n",
              "  <div class=\"colab-df-container\">\n",
              "    <button class=\"colab-df-convert\" onclick=\"convertToInteractive('df-e46b6ef3-558c-4d85-9a85-bbaef3902c3a')\"\n",
              "            title=\"Convert this dataframe to an interactive table.\"\n",
              "            style=\"display:none;\">\n",
              "\n",
              "  <svg xmlns=\"http://www.w3.org/2000/svg\" height=\"24px\" viewBox=\"0 -960 960 960\">\n",
              "    <path d=\"M120-120v-720h720v720H120Zm60-500h600v-160H180v160Zm220 220h160v-160H400v160Zm0 220h160v-160H400v160ZM180-400h160v-160H180v160Zm440 0h160v-160H620v160ZM180-180h160v-160H180v160Zm440 0h160v-160H620v160Z\"/>\n",
              "  </svg>\n",
              "    </button>\n",
              "\n",
              "  <style>\n",
              "    .colab-df-container {\n",
              "      display:flex;\n",
              "      gap: 12px;\n",
              "    }\n",
              "\n",
              "    .colab-df-convert {\n",
              "      background-color: #E8F0FE;\n",
              "      border: none;\n",
              "      border-radius: 50%;\n",
              "      cursor: pointer;\n",
              "      display: none;\n",
              "      fill: #1967D2;\n",
              "      height: 32px;\n",
              "      padding: 0 0 0 0;\n",
              "      width: 32px;\n",
              "    }\n",
              "\n",
              "    .colab-df-convert:hover {\n",
              "      background-color: #E2EBFA;\n",
              "      box-shadow: 0px 1px 2px rgba(60, 64, 67, 0.3), 0px 1px 3px 1px rgba(60, 64, 67, 0.15);\n",
              "      fill: #174EA6;\n",
              "    }\n",
              "\n",
              "    .colab-df-buttons div {\n",
              "      margin-bottom: 4px;\n",
              "    }\n",
              "\n",
              "    [theme=dark] .colab-df-convert {\n",
              "      background-color: #3B4455;\n",
              "      fill: #D2E3FC;\n",
              "    }\n",
              "\n",
              "    [theme=dark] .colab-df-convert:hover {\n",
              "      background-color: #434B5C;\n",
              "      box-shadow: 0px 1px 3px 1px rgba(0, 0, 0, 0.15);\n",
              "      filter: drop-shadow(0px 1px 2px rgba(0, 0, 0, 0.3));\n",
              "      fill: #FFFFFF;\n",
              "    }\n",
              "  </style>\n",
              "\n",
              "    <script>\n",
              "      const buttonEl =\n",
              "        document.querySelector('#df-e46b6ef3-558c-4d85-9a85-bbaef3902c3a button.colab-df-convert');\n",
              "      buttonEl.style.display =\n",
              "        google.colab.kernel.accessAllowed ? 'block' : 'none';\n",
              "\n",
              "      async function convertToInteractive(key) {\n",
              "        const element = document.querySelector('#df-e46b6ef3-558c-4d85-9a85-bbaef3902c3a');\n",
              "        const dataTable =\n",
              "          await google.colab.kernel.invokeFunction('convertToInteractive',\n",
              "                                                    [key], {});\n",
              "        if (!dataTable) return;\n",
              "\n",
              "        const docLinkHtml = 'Like what you see? Visit the ' +\n",
              "          '<a target=\"_blank\" href=https://colab.research.google.com/notebooks/data_table.ipynb>data table notebook</a>'\n",
              "          + ' to learn more about interactive tables.';\n",
              "        element.innerHTML = '';\n",
              "        dataTable['output_type'] = 'display_data';\n",
              "        await google.colab.output.renderOutput(dataTable, element);\n",
              "        const docLink = document.createElement('div');\n",
              "        docLink.innerHTML = docLinkHtml;\n",
              "        element.appendChild(docLink);\n",
              "      }\n",
              "    </script>\n",
              "  </div>\n",
              "\n",
              "\n",
              "<div id=\"df-898740ca-c8b8-4c31-a1c1-d0c4b6a61ea7\">\n",
              "  <button class=\"colab-df-quickchart\" onclick=\"quickchart('df-898740ca-c8b8-4c31-a1c1-d0c4b6a61ea7')\"\n",
              "            title=\"Suggest charts\"\n",
              "            style=\"display:none;\">\n",
              "\n",
              "<svg xmlns=\"http://www.w3.org/2000/svg\" height=\"24px\"viewBox=\"0 0 24 24\"\n",
              "     width=\"24px\">\n",
              "    <g>\n",
              "        <path d=\"M19 3H5c-1.1 0-2 .9-2 2v14c0 1.1.9 2 2 2h14c1.1 0 2-.9 2-2V5c0-1.1-.9-2-2-2zM9 17H7v-7h2v7zm4 0h-2V7h2v10zm4 0h-2v-4h2v4z\"/>\n",
              "    </g>\n",
              "</svg>\n",
              "  </button>\n",
              "\n",
              "<style>\n",
              "  .colab-df-quickchart {\n",
              "      --bg-color: #E8F0FE;\n",
              "      --fill-color: #1967D2;\n",
              "      --hover-bg-color: #E2EBFA;\n",
              "      --hover-fill-color: #174EA6;\n",
              "      --disabled-fill-color: #AAA;\n",
              "      --disabled-bg-color: #DDD;\n",
              "  }\n",
              "\n",
              "  [theme=dark] .colab-df-quickchart {\n",
              "      --bg-color: #3B4455;\n",
              "      --fill-color: #D2E3FC;\n",
              "      --hover-bg-color: #434B5C;\n",
              "      --hover-fill-color: #FFFFFF;\n",
              "      --disabled-bg-color: #3B4455;\n",
              "      --disabled-fill-color: #666;\n",
              "  }\n",
              "\n",
              "  .colab-df-quickchart {\n",
              "    background-color: var(--bg-color);\n",
              "    border: none;\n",
              "    border-radius: 50%;\n",
              "    cursor: pointer;\n",
              "    display: none;\n",
              "    fill: var(--fill-color);\n",
              "    height: 32px;\n",
              "    padding: 0;\n",
              "    width: 32px;\n",
              "  }\n",
              "\n",
              "  .colab-df-quickchart:hover {\n",
              "    background-color: var(--hover-bg-color);\n",
              "    box-shadow: 0 1px 2px rgba(60, 64, 67, 0.3), 0 1px 3px 1px rgba(60, 64, 67, 0.15);\n",
              "    fill: var(--button-hover-fill-color);\n",
              "  }\n",
              "\n",
              "  .colab-df-quickchart-complete:disabled,\n",
              "  .colab-df-quickchart-complete:disabled:hover {\n",
              "    background-color: var(--disabled-bg-color);\n",
              "    fill: var(--disabled-fill-color);\n",
              "    box-shadow: none;\n",
              "  }\n",
              "\n",
              "  .colab-df-spinner {\n",
              "    border: 2px solid var(--fill-color);\n",
              "    border-color: transparent;\n",
              "    border-bottom-color: var(--fill-color);\n",
              "    animation:\n",
              "      spin 1s steps(1) infinite;\n",
              "  }\n",
              "\n",
              "  @keyframes spin {\n",
              "    0% {\n",
              "      border-color: transparent;\n",
              "      border-bottom-color: var(--fill-color);\n",
              "      border-left-color: var(--fill-color);\n",
              "    }\n",
              "    20% {\n",
              "      border-color: transparent;\n",
              "      border-left-color: var(--fill-color);\n",
              "      border-top-color: var(--fill-color);\n",
              "    }\n",
              "    30% {\n",
              "      border-color: transparent;\n",
              "      border-left-color: var(--fill-color);\n",
              "      border-top-color: var(--fill-color);\n",
              "      border-right-color: var(--fill-color);\n",
              "    }\n",
              "    40% {\n",
              "      border-color: transparent;\n",
              "      border-right-color: var(--fill-color);\n",
              "      border-top-color: var(--fill-color);\n",
              "    }\n",
              "    60% {\n",
              "      border-color: transparent;\n",
              "      border-right-color: var(--fill-color);\n",
              "    }\n",
              "    80% {\n",
              "      border-color: transparent;\n",
              "      border-right-color: var(--fill-color);\n",
              "      border-bottom-color: var(--fill-color);\n",
              "    }\n",
              "    90% {\n",
              "      border-color: transparent;\n",
              "      border-bottom-color: var(--fill-color);\n",
              "    }\n",
              "  }\n",
              "</style>\n",
              "\n",
              "  <script>\n",
              "    async function quickchart(key) {\n",
              "      const quickchartButtonEl =\n",
              "        document.querySelector('#' + key + ' button');\n",
              "      quickchartButtonEl.disabled = true;  // To prevent multiple clicks.\n",
              "      quickchartButtonEl.classList.add('colab-df-spinner');\n",
              "      try {\n",
              "        const charts = await google.colab.kernel.invokeFunction(\n",
              "            'suggestCharts', [key], {});\n",
              "      } catch (error) {\n",
              "        console.error('Error during call to suggestCharts:', error);\n",
              "      }\n",
              "      quickchartButtonEl.classList.remove('colab-df-spinner');\n",
              "      quickchartButtonEl.classList.add('colab-df-quickchart-complete');\n",
              "    }\n",
              "    (() => {\n",
              "      let quickchartButtonEl =\n",
              "        document.querySelector('#df-898740ca-c8b8-4c31-a1c1-d0c4b6a61ea7 button');\n",
              "      quickchartButtonEl.style.display =\n",
              "        google.colab.kernel.accessAllowed ? 'block' : 'none';\n",
              "    })();\n",
              "  </script>\n",
              "</div>\n",
              "\n",
              "    </div>\n",
              "  </div>\n"
            ]
          },
          "metadata": {},
          "execution_count": 14
        }
      ]
    },
    {
      "cell_type": "markdown",
      "source": [
        "# **Checking NaN values in test dataset**"
      ],
      "metadata": {
        "id": "exj8Qi01cZK8"
      }
    },
    {
      "cell_type": "code",
      "source": [
        "# Check for NaN values in df_test\n",
        "nan_count = df_test.isna().sum()\n",
        "\n",
        "# Display columns with NaN values and their respective counts\n",
        "print(\"Columns with NaN values:\")\n",
        "print(nan_count[nan_count > 0])\n"
      ],
      "metadata": {
        "colab": {
          "base_uri": "https://localhost:8080/"
        },
        "id": "2dUlIXuoR-9J",
        "outputId": "417943b4-b69f-4330-e7ad-eedcda593d4f"
      },
      "execution_count": 15,
      "outputs": [
        {
          "output_type": "stream",
          "name": "stdout",
          "text": [
            "Columns with NaN values:\n",
            "Series([], dtype: int64)\n"
          ]
        }
      ]
    },
    {
      "cell_type": "markdown",
      "source": [
        "# **Visualization of Passage, Question, and Answer Length of Testing Dataset**"
      ],
      "metadata": {
        "id": "BeNObmVDS8AU"
      }
    },
    {
      "cell_type": "code",
      "source": [
        "# Calculate the lengths of the columns\n",
        "df_test['passage_length'] = df_test['passage'].apply(lambda x: len(str(x).split()))\n",
        "df_test['question_length'] = df_test['question'].apply(lambda x: len(str(x).split()))\n",
        "df_test['answer_length'] = df_test['ans_txt'].apply(lambda x: len(str(x).split()))\n",
        "\n",
        "# Set the aesthetic style and font settings\n",
        "sns.set(style=\"whitegrid\")\n",
        "font_label = {'fontfamily': 'serif', 'fontsize': 12, 'fontweight': 'bold'}\n",
        "font_title = {'fontfamily': 'serif', 'fontsize': 14, 'fontweight': 'bold'}\n",
        "\n",
        "# Create subplots\n",
        "fig, axes = plt.subplots(1, 3, figsize=(12, 4))  # 1 row, 3 columns\n",
        "\n",
        "# Plot 1: Distribution of Passage Length\n",
        "sns.histplot(data=df_test, x='passage_length', bins=20,  edgecolor='black', color='#79e0f7', ax=axes[0])\n",
        "axes[0].set_title('Distribution of Passage Length', fontdict=font_title)\n",
        "axes[0].set_xlabel('Passage Length', fontdict=font_label)\n",
        "axes[0].set_ylabel('Number of Passages', fontdict=font_label)\n",
        "\n",
        "# Plot 2: Distribution of Question Length\n",
        "sns.histplot(data=df_test, x='question_length', bins=20,  edgecolor='black', color='#ff9696', ax=axes[1])\n",
        "axes[1].set_title('Distribution of Question Length', fontdict=font_title)\n",
        "axes[1].set_xlabel('Question Length', fontdict=font_label)\n",
        "axes[1].set_ylabel('Number of Questions', fontdict=font_label)\n",
        "\n",
        "# Plot 3: Distribution of Answer Length\n",
        "sns.histplot(data=df_test, x='answer_length', bins=20, edgecolor='black', color='#8f97ef', ax=axes[2])\n",
        "axes[2].set_title('Distribution of Answer Length', fontdict=font_title)\n",
        "axes[2].set_xlabel('Answer Length', fontdict=font_label)\n",
        "axes[2].set_ylabel('Number of Answers', fontdict=font_label)\n",
        "\n",
        "# Set a title for the set of subplots\n",
        "plt.suptitle('Testing Dataset', fontfamily='serif',fontsize=16, fontweight='bold')\n",
        "plt.tight_layout()\n",
        "plt.show()"
      ],
      "metadata": {
        "colab": {
          "base_uri": "https://localhost:8080/",
          "height": 384
        },
        "id": "lxKDumEdSyOf",
        "outputId": "b76a2ef3-86f1-4e07-e7d1-ee39c3dc7f49"
      },
      "execution_count": 16,
      "outputs": [
        {
          "output_type": "display_data",
          "data": {
            "text/plain": [
              "<Figure size 1200x400 with 3 Axes>"
            ],
            "image/png": "[encoded data removed]"
          },
          "metadata": {}
        }
      ]
    },
    {
      "cell_type": "markdown",
      "source": [
        "# **Count of unique words for passage and question in Test Dataset**"
      ],
      "metadata": {
        "id": "BE31936cXaGn"
      }
    },
    {
      "cell_type": "code",
      "source": [
        "# Tokenize 'passage' and 'question' columns to count unique words\n",
        "passage_words = ' '.join(df_test['passage']).split()\n",
        "question_words = ' '.join(df_test['question']).split()\n",
        "\n",
        "# Calculate unique words\n",
        "unique_passage_words = len(set(passage_words))\n",
        "unique_question_words = len(set(question_words))\n",
        "\n",
        "# Display the count of unique words\n",
        "print(f\"Number of unique words in 'passage': {unique_passage_words}\")\n",
        "print(f\"Number of unique words in 'question': {unique_question_words}\")"
      ],
      "metadata": {
        "colab": {
          "base_uri": "https://localhost:8080/"
        },
        "id": "3Mg-vp5CXWDA",
        "outputId": "b483c72c-75c7-460f-857f-169387d15b16"
      },
      "execution_count": 17,
      "outputs": [
        {
          "output_type": "stream",
          "name": "stdout",
          "text": [
            "Number of unique words in 'passage': 3346\n",
            "Number of unique words in 'question': 1794\n"
          ]
        }
      ]
    },
    {
      "cell_type": "markdown",
      "source": [
        "# **Validation dataset**"
      ],
      "metadata": {
        "id": "6mSiI0gMTOvh"
      }
    },
    {
      "cell_type": "code",
      "source": [
        "df_validation = pd.read_csv('/content/drive/MyDrive/QA_Dataset/new_file_validation.csv')\n",
        "df_validation.head()"
      ],
      "metadata": {
        "colab": {
          "base_uri": "https://localhost:8080/",
          "height": 206
        },
        "id": "CDpM59b6QKZa",
        "outputId": "954dda91-6925-444c-89be-e4b8d30b4ba6"
      },
      "execution_count": 18,
      "outputs": [
        {
          "output_type": "execute_result",
          "data": {
            "text/plain": [
              "                                             passage  \\\n",
              "0  মানুষের দ্বারা লিখিত ইতিহাস মাত্র কয়েক হাজার ব...   \n",
              "1  টাইম ট্রাভেল বা সময় ভ্রমণ এটি আসলে সময়ের অক্ষ ...   \n",
              "2  আবহাওয়া ও জলবায়ুর উপর ভিত্তি করে ৬টি ঋতুতে ভ...   \n",
              "3  আধুনিক যুগ বিজ্ঞানের অব্যাহত অগ্রগতি ও জয়যাত্...   \n",
              "4  ব্রিটিশ সরকারের ওই সিদ্ধান্তের প্রতিবাদে বাংলা...   \n",
              "\n",
              "                                            question    ans_txt  \n",
              "0  দীর্ঘ সময়ের পরিক্রমায় আমাদের জানা একমাত্র বসবা...  লক্ষ লক্ষ  \n",
              "1             এই তিনটি কি বরাবর স্থান পরিবর্তন সম্ভব     মাত্রা  \n",
              "2  সকল ঋতুর বিরাজকাল সমান নাহলেও কিসের সুবিধার্থে...    হিসাবের  \n",
              "3    বিভিন্ন ধরনের রােগের চিকিৎসায় নিত্যনতুন ওষু...    বেড়েছে  \n",
              "4  ব্রিটিশ সরকারের ওই সিদ্ধান্তের প্রতিবাদে বাংলা...       পণ্য  "
            ],
            "text/html": [
              "\n",
              "  <div id=\"df-93ff21ea-1750-4632-bb47-163135ebd16b\" class=\"colab-df-container\">\n",
              "    <div>\n",
              "<style scoped>\n",
              "    .dataframe tbody tr th:only-of-type {\n",
              "        vertical-align: middle;\n",
              "    }\n",
              "\n",
              "    .dataframe tbody tr th {\n",
              "        vertical-align: top;\n",
              "    }\n",
              "\n",
              "    .dataframe thead th {\n",
              "        text-align: right;\n",
              "    }\n",
              "</style>\n",
              "<table border=\"1\" class=\"dataframe\">\n",
              "  <thead>\n",
              "    <tr style=\"text-align: right;\">\n",
              "      <th></th>\n",
              "      <th>passage</th>\n",
              "      <th>question</th>\n",
              "      <th>ans_txt</th>\n",
              "    </tr>\n",
              "  </thead>\n",
              "  <tbody>\n",
              "    <tr>\n",
              "      <th>0</th>\n",
              "      <td>মানুষের দ্বারা লিখিত ইতিহাস মাত্র কয়েক হাজার ব...</td>\n",
              "      <td>দীর্ঘ সময়ের পরিক্রমায় আমাদের জানা একমাত্র বসবা...</td>\n",
              "      <td>লক্ষ লক্ষ</td>\n",
              "    </tr>\n",
              "    <tr>\n",
              "      <th>1</th>\n",
              "      <td>টাইম ট্রাভেল বা সময় ভ্রমণ এটি আসলে সময়ের অক্ষ ...</td>\n",
              "      <td>এই তিনটি কি বরাবর স্থান পরিবর্তন সম্ভব</td>\n",
              "      <td>মাত্রা</td>\n",
              "    </tr>\n",
              "    <tr>\n",
              "      <th>2</th>\n",
              "      <td>আবহাওয়া ও জলবায়ুর উপর ভিত্তি করে ৬টি ঋতুতে ভ...</td>\n",
              "      <td>সকল ঋতুর বিরাজকাল সমান নাহলেও কিসের সুবিধার্থে...</td>\n",
              "      <td>হিসাবের</td>\n",
              "    </tr>\n",
              "    <tr>\n",
              "      <th>3</th>\n",
              "      <td>আধুনিক যুগ বিজ্ঞানের অব্যাহত অগ্রগতি ও জয়যাত্...</td>\n",
              "      <td>বিভিন্ন ধরনের রােগের চিকিৎসায় নিত্যনতুন ওষু...</td>\n",
              "      <td>বেড়েছে</td>\n",
              "    </tr>\n",
              "    <tr>\n",
              "      <th>4</th>\n",
              "      <td>ব্রিটিশ সরকারের ওই সিদ্ধান্তের প্রতিবাদে বাংলা...</td>\n",
              "      <td>ব্রিটিশ সরকারের ওই সিদ্ধান্তের প্রতিবাদে বাংলা...</td>\n",
              "      <td>পণ্য</td>\n",
              "    </tr>\n",
              "  </tbody>\n",
              "</table>\n",
              "</div>\n",
              "    <div class=\"colab-df-buttons\">\n",
              "\n",
              "  <div class=\"colab-df-container\">\n",
              "    <button class=\"colab-df-convert\" onclick=\"convertToInteractive('df-93ff21ea-1750-4632-bb47-163135ebd16b')\"\n",
              "            title=\"Convert this dataframe to an interactive table.\"\n",
              "            style=\"display:none;\">\n",
              "\n",
              "  <svg xmlns=\"http://www.w3.org/2000/svg\" height=\"24px\" viewBox=\"0 -960 960 960\">\n",
              "    <path d=\"M120-120v-720h720v720H120Zm60-500h600v-160H180v160Zm220 220h160v-160H400v160Zm0 220h160v-160H400v160ZM180-400h160v-160H180v160Zm440 0h160v-160H620v160ZM180-180h160v-160H180v160Zm440 0h160v-160H620v160Z\"/>\n",
              "  </svg>\n",
              "    </button>\n",
              "\n",
              "  <style>\n",
              "    .colab-df-container {\n",
              "      display:flex;\n",
              "      gap: 12px;\n",
              "    }\n",
              "\n",
              "    .colab-df-convert {\n",
              "      background-color: #E8F0FE;\n",
              "      border: none;\n",
              "      border-radius: 50%;\n",
              "      cursor: pointer;\n",
              "      display: none;\n",
              "      fill: #1967D2;\n",
              "      height: 32px;\n",
              "      padding: 0 0 0 0;\n",
              "      width: 32px;\n",
              "    }\n",
              "\n",
              "    .colab-df-convert:hover {\n",
              "      background-color: #E2EBFA;\n",
              "      box-shadow: 0px 1px 2px rgba(60, 64, 67, 0.3), 0px 1px 3px 1px rgba(60, 64, 67, 0.15);\n",
              "      fill: #174EA6;\n",
              "    }\n",
              "\n",
              "    .colab-df-buttons div {\n",
              "      margin-bottom: 4px;\n",
              "    }\n",
              "\n",
              "    [theme=dark] .colab-df-convert {\n",
              "      background-color: #3B4455;\n",
              "      fill: #D2E3FC;\n",
              "    }\n",
              "\n",
              "    [theme=dark] .colab-df-convert:hover {\n",
              "      background-color: #434B5C;\n",
              "      box-shadow: 0px 1px 3px 1px rgba(0, 0, 0, 0.15);\n",
              "      filter: drop-shadow(0px 1px 2px rgba(0, 0, 0, 0.3));\n",
              "      fill: #FFFFFF;\n",
              "    }\n",
              "  </style>\n",
              "\n",
              "    <script>\n",
              "      const buttonEl =\n",
              "        document.querySelector('#df-93ff21ea-1750-4632-bb47-163135ebd16b button.colab-df-convert');\n",
              "      buttonEl.style.display =\n",
              "        google.colab.kernel.accessAllowed ? 'block' : 'none';\n",
              "\n",
              "      async function convertToInteractive(key) {\n",
              "        const element = document.querySelector('#df-93ff21ea-1750-4632-bb47-163135ebd16b');\n",
              "        const dataTable =\n",
              "          await google.colab.kernel.invokeFunction('convertToInteractive',\n",
              "                                                    [key], {});\n",
              "        if (!dataTable) return;\n",
              "\n",
              "        const docLinkHtml = 'Like what you see? Visit the ' +\n",
              "          '<a target=\"_blank\" href=https://colab.research.google.com/notebooks/data_table.ipynb>data table notebook</a>'\n",
              "          + ' to learn more about interactive tables.';\n",
              "        element.innerHTML = '';\n",
              "        dataTable['output_type'] = 'display_data';\n",
              "        await google.colab.output.renderOutput(dataTable, element);\n",
              "        const docLink = document.createElement('div');\n",
              "        docLink.innerHTML = docLinkHtml;\n",
              "        element.appendChild(docLink);\n",
              "      }\n",
              "    </script>\n",
              "  </div>\n",
              "\n",
              "\n",
              "<div id=\"df-0d4efbd3-1280-4a13-9f3f-10b645b7c7d9\">\n",
              "  <button class=\"colab-df-quickchart\" onclick=\"quickchart('df-0d4efbd3-1280-4a13-9f3f-10b645b7c7d9')\"\n",
              "            title=\"Suggest charts\"\n",
              "            style=\"display:none;\">\n",
              "\n",
              "<svg xmlns=\"http://www.w3.org/2000/svg\" height=\"24px\"viewBox=\"0 0 24 24\"\n",
              "     width=\"24px\">\n",
              "    <g>\n",
              "        <path d=\"M19 3H5c-1.1 0-2 .9-2 2v14c0 1.1.9 2 2 2h14c1.1 0 2-.9 2-2V5c0-1.1-.9-2-2-2zM9 17H7v-7h2v7zm4 0h-2V7h2v10zm4 0h-2v-4h2v4z\"/>\n",
              "    </g>\n",
              "</svg>\n",
              "  </button>\n",
              "\n",
              "<style>\n",
              "  .colab-df-quickchart {\n",
              "      --bg-color: #E8F0FE;\n",
              "      --fill-color: #1967D2;\n",
              "      --hover-bg-color: #E2EBFA;\n",
              "      --hover-fill-color: #174EA6;\n",
              "      --disabled-fill-color: #AAA;\n",
              "      --disabled-bg-color: #DDD;\n",
              "  }\n",
              "\n",
              "  [theme=dark] .colab-df-quickchart {\n",
              "      --bg-color: #3B4455;\n",
              "      --fill-color: #D2E3FC;\n",
              "      --hover-bg-color: #434B5C;\n",
              "      --hover-fill-color: #FFFFFF;\n",
              "      --disabled-bg-color: #3B4455;\n",
              "      --disabled-fill-color: #666;\n",
              "  }\n",
              "\n",
              "  .colab-df-quickchart {\n",
              "    background-color: var(--bg-color);\n",
              "    border: none;\n",
              "    border-radius: 50%;\n",
              "    cursor: pointer;\n",
              "    display: none;\n",
              "    fill: var(--fill-color);\n",
              "    height: 32px;\n",
              "    padding: 0;\n",
              "    width: 32px;\n",
              "  }\n",
              "\n",
              "  .colab-df-quickchart:hover {\n",
              "    background-color: var(--hover-bg-color);\n",
              "    box-shadow: 0 1px 2px rgba(60, 64, 67, 0.3), 0 1px 3px 1px rgba(60, 64, 67, 0.15);\n",
              "    fill: var(--button-hover-fill-color);\n",
              "  }\n",
              "\n",
              "  .colab-df-quickchart-complete:disabled,\n",
              "  .colab-df-quickchart-complete:disabled:hover {\n",
              "    background-color: var(--disabled-bg-color);\n",
              "    fill: var(--disabled-fill-color);\n",
              "    box-shadow: none;\n",
              "  }\n",
              "\n",
              "  .colab-df-spinner {\n",
              "    border: 2px solid var(--fill-color);\n",
              "    border-color: transparent;\n",
              "    border-bottom-color: var(--fill-color);\n",
              "    animation:\n",
              "      spin 1s steps(1) infinite;\n",
              "  }\n",
              "\n",
              "  @keyframes spin {\n",
              "    0% {\n",
              "      border-color: transparent;\n",
              "      border-bottom-color: var(--fill-color);\n",
              "      border-left-color: var(--fill-color);\n",
              "    }\n",
              "    20% {\n",
              "      border-color: transparent;\n",
              "      border-left-color: var(--fill-color);\n",
              "      border-top-color: var(--fill-color);\n",
              "    }\n",
              "    30% {\n",
              "      border-color: transparent;\n",
              "      border-left-color: var(--fill-color);\n",
              "      border-top-color: var(--fill-color);\n",
              "      border-right-color: var(--fill-color);\n",
              "    }\n",
              "    40% {\n",
              "      border-color: transparent;\n",
              "      border-right-color: var(--fill-color);\n",
              "      border-top-color: var(--fill-color);\n",
              "    }\n",
              "    60% {\n",
              "      border-color: transparent;\n",
              "      border-right-color: var(--fill-color);\n",
              "    }\n",
              "    80% {\n",
              "      border-color: transparent;\n",
              "      border-right-color: var(--fill-color);\n",
              "      border-bottom-color: var(--fill-color);\n",
              "    }\n",
              "    90% {\n",
              "      border-color: transparent;\n",
              "      border-bottom-color: var(--fill-color);\n",
              "    }\n",
              "  }\n",
              "</style>\n",
              "\n",
              "  <script>\n",
              "    async function quickchart(key) {\n",
              "      const quickchartButtonEl =\n",
              "        document.querySelector('#' + key + ' button');\n",
              "      quickchartButtonEl.disabled = true;  // To prevent multiple clicks.\n",
              "      quickchartButtonEl.classList.add('colab-df-spinner');\n",
              "      try {\n",
              "        const charts = await google.colab.kernel.invokeFunction(\n",
              "            'suggestCharts', [key], {});\n",
              "      } catch (error) {\n",
              "        console.error('Error during call to suggestCharts:', error);\n",
              "      }\n",
              "      quickchartButtonEl.classList.remove('colab-df-spinner');\n",
              "      quickchartButtonEl.classList.add('colab-df-quickchart-complete');\n",
              "    }\n",
              "    (() => {\n",
              "      let quickchartButtonEl =\n",
              "        document.querySelector('#df-0d4efbd3-1280-4a13-9f3f-10b645b7c7d9 button');\n",
              "      quickchartButtonEl.style.display =\n",
              "        google.colab.kernel.accessAllowed ? 'block' : 'none';\n",
              "    })();\n",
              "  </script>\n",
              "</div>\n",
              "\n",
              "    </div>\n",
              "  </div>\n"
            ]
          },
          "metadata": {},
          "execution_count": 18
        }
      ]
    },
    {
      "cell_type": "markdown",
      "source": [
        "# **Checking NaN values in validation dataset**"
      ],
      "metadata": {
        "id": "vALPuSj4ccyd"
      }
    },
    {
      "cell_type": "code",
      "source": [
        "# Check for NaN values in df_validation\n",
        "nan_count = df_validation.isna().sum()\n",
        "\n",
        "# Display columns with NaN values and their respective counts\n",
        "print(\"Columns with NaN values:\")\n",
        "print(nan_count[nan_count > 0])\n"
      ],
      "metadata": {
        "colab": {
          "base_uri": "https://localhost:8080/"
        },
        "id": "R6pmGPjTSC6z",
        "outputId": "038ef8de-6af1-4a82-d338-dfc2e7a39e90"
      },
      "execution_count": 19,
      "outputs": [
        {
          "output_type": "stream",
          "name": "stdout",
          "text": [
            "Columns with NaN values:\n",
            "Series([], dtype: int64)\n"
          ]
        }
      ]
    },
    {
      "cell_type": "markdown",
      "source": [
        "# **Visualization of Passage, Question, and Answer Length of Validation Dataset**"
      ],
      "metadata": {
        "id": "tvTgJRROTyzP"
      }
    },
    {
      "cell_type": "code",
      "source": [
        "# Calculate the lengths of the columns\n",
        "df_validation['passage_length'] = df_validation['passage'].apply(lambda x: len(str(x).split()))\n",
        "df_validation['question_length'] = df_validation['question'].apply(lambda x: len(str(x).split()))\n",
        "df_validation['answer_length'] = df_validation['ans_txt'].apply(lambda x: len(str(x).split()))\n",
        "\n",
        "# Set the aesthetic style and font settings\n",
        "sns.set(style=\"whitegrid\")\n",
        "font_label = {'fontfamily': 'serif', 'fontsize': 12, 'fontweight': 'bold'}\n",
        "font_title = {'fontfamily': 'serif', 'fontsize': 14, 'fontweight': 'bold'}\n",
        "\n",
        "# Create subplots\n",
        "fig, axes = plt.subplots(1, 3, figsize=(12, 4))  # 1 row, 3 columns\n",
        "\n",
        "# Plot 1: Distribution of Passage Length\n",
        "sns.histplot(data=df_validation, x='passage_length', bins=20, edgecolor='black', color='#79e0f7', ax=axes[0])\n",
        "axes[0].set_title('Distribution of Passage Length', fontdict=font_title)\n",
        "axes[0].set_xlabel('Passage Length', fontdict=font_label)\n",
        "axes[0].set_ylabel('Number of Passages', fontdict=font_label)\n",
        "\n",
        "# Plot 2: Distribution of Question Length\n",
        "sns.histplot(data=df_validation, x='question_length', bins=20, edgecolor='black', color='#ff9696', ax=axes[1])\n",
        "axes[1].set_title('Distribution of Question Length', fontdict=font_title)\n",
        "axes[1].set_xlabel('Question Length', fontdict=font_label)\n",
        "axes[1].set_ylabel('Number of Questions', fontdict=font_label)\n",
        "\n",
        "# Plot 3: Distribution of Answer Length\n",
        "sns.histplot(data=df_validation, x='answer_length', bins=20, edgecolor='black', color='#8f97ef', ax=axes[2])\n",
        "axes[2].set_title('Distribution of Answer Length', fontdict=font_title)\n",
        "axes[2].set_xlabel('Answer Length', fontdict=font_label)\n",
        "axes[2].set_ylabel('Number of Answers', fontdict=font_label)\n",
        "\n",
        "# Set a title for the set of subplots\n",
        "plt.suptitle('Validation Dataset', fontfamily='serif',fontsize=16, fontweight='bold')\n",
        "plt.tight_layout()\n",
        "plt.show()"
      ],
      "metadata": {
        "colab": {
          "base_uri": "https://localhost:8080/",
          "height": 384
        },
        "id": "EmQuMD6iTuQn",
        "outputId": "17807257-99e0-4a10-e880-49205999e36f"
      },
      "execution_count": 20,
      "outputs": [
        {
          "output_type": "display_data",
          "data": {
            "text/plain": [
              "<Figure size 1200x400 with 3 Axes>"
            ],
            "image/png": "[encoded data removed]"
          },
          "metadata": {}
        }
      ]
    },
    {
      "cell_type": "markdown",
      "source": [
        "# **Count of unique words for passage and question in Validation Dataset**"
      ],
      "metadata": {
        "id": "-8_DEU97Xksr"
      }
    },
    {
      "cell_type": "code",
      "source": [
        "# Tokenize 'passage' and 'question' columns to count unique words\n",
        "passage_words = ' '.join(df_validation['passage']).split()\n",
        "question_words = ' '.join(df_validation['question']).split()\n",
        "\n",
        "# Calculate unique words\n",
        "unique_passage_words = len(set(passage_words))\n",
        "unique_question_words = len(set(question_words))\n",
        "\n",
        "# Display the count of unique words\n",
        "print(f\"Number of unique words in 'passage': {unique_passage_words}\")\n",
        "print(f\"Number of unique words in 'question': {unique_question_words}\")"
      ],
      "metadata": {
        "colab": {
          "base_uri": "https://localhost:8080/"
        },
        "id": "Q3t0p71KXXKI",
        "outputId": "5806d3de-1e43-4acc-e414-8f16f0b60e03"
      },
      "execution_count": 21,
      "outputs": [
        {
          "output_type": "stream",
          "name": "stdout",
          "text": [
            "Number of unique words in 'passage': 3335\n",
            "Number of unique words in 'question': 1768\n"
          ]
        }
      ]
    },
    {
      "cell_type": "markdown",
      "source": [
        "# **Checking length of the datasets**"
      ],
      "metadata": {
        "id": "1qrWj3GEyjfE"
      }
    },
    {
      "cell_type": "code",
      "source": [
        "print(\"Train Dataset Length: \",len(df_train))\n",
        "print(\"Test Dataset Length: \",len(df_test))\n",
        "print(\"Validation Dataset Length: \",len(df_validation))"
      ],
      "metadata": {
        "colab": {
          "base_uri": "https://localhost:8080/"
        },
        "id": "qJIdlrGzanhf",
        "outputId": "dd7f3524-eaa1-49b5-ab60-330232308d2a"
      },
      "execution_count": 22,
      "outputs": [
        {
          "output_type": "stream",
          "name": "stdout",
          "text": [
            "Train Dataset Length:  2907\n",
            "Test Dataset Length:  364\n",
            "Validation Dataset Length:  364\n"
          ]
        }
      ]
    },
    {
      "cell_type": "markdown",
      "source": [
        "# **Installing Necesary Libraries**"
      ],
      "metadata": {
        "id": "ykparBRpYa_6"
      }
    },
    {
      "cell_type": "code",
      "source": [
        "!pip install git+https://github.com/csebuetnlp/normalizer"
      ],
      "metadata": {
        "colab": {
          "base_uri": "https://localhost:8080/"
        },
        "id": "ZO_XH6OCjtS9",
        "outputId": "ecfb436d-258a-4e9f-d599-1873f47a1ec9"
      },
      "execution_count": null,
      "outputs": [
        {
          "output_type": "stream",
          "name": "stdout",
          "text": [
            "Collecting git+https://github.com/csebuetnlp/normalizer\n",
            "  Cloning https://github.com/csebuetnlp/normalizer to /tmp/pip-req-build-rjuvim7h\n",
            "  Running command git clone --filter=blob:none --quiet https://github.com/csebuetnlp/normalizer /tmp/pip-req-build-rjuvim7h\n",
            "  Resolved https://github.com/csebuetnlp/normalizer to commit d405944dde5ceeacb7c2fd3245ae2a9dea5f35c9\n",
            "  Preparing metadata (setup.py) ... \u001b[?25l\u001b[?25hdone\n",
            "Requirement already satisfied: regex in /usr/local/lib/python3.10/dist-packages (from normalizer==0.0.1) (2023.6.3)\n",
            "Requirement already satisfied: emoji==1.4.2 in /usr/local/lib/python3.10/dist-packages (from normalizer==0.0.1) (1.4.2)\n",
            "Requirement already satisfied: ftfy==6.0.3 in /usr/local/lib/python3.10/dist-packages (from normalizer==0.0.1) (6.0.3)\n",
            "Requirement already satisfied: wcwidth in /usr/local/lib/python3.10/dist-packages (from ftfy==6.0.3->normalizer==0.0.1) (0.2.9)\n",
            "\u001b[33mWARNING: Running pip as the 'root' user can result in broken permissions and conflicting behaviour with the system package manager. It is recommended to use a virtual environment instead: https://pip.pypa.io/warnings/venv\u001b[0m\u001b[33m\n",
            "\u001b[0m"
          ]
        }
      ]
    },
    {
      "cell_type": "code",
      "source": [
        "!pip install transformers[sentencepiece]"
      ],
      "metadata": {
        "colab": {
          "base_uri": "https://localhost:8080/"
        },
        "id": "-K1LEadElTu7",
        "outputId": "b8ac53a4-a327-49fe-bdea-fb138f234a34"
      },
      "execution_count": null,
      "outputs": [
        {
          "output_type": "stream",
          "name": "stdout",
          "text": [
            "Requirement already satisfied: transformers[sentencepiece] in /usr/local/lib/python3.10/dist-packages (4.35.1)\n",
            "Requirement already satisfied: filelock in /usr/local/lib/python3.10/dist-packages (from transformers[sentencepiece]) (3.13.1)\n",
            "Requirement already satisfied: huggingface-hub<1.0,>=0.16.4 in /usr/local/lib/python3.10/dist-packages (from transformers[sentencepiece]) (0.17.3)\n",
            "Requirement already satisfied: numpy>=1.17 in /usr/local/lib/python3.10/dist-packages (from transformers[sentencepiece]) (1.23.5)\n",
            "Requirement already satisfied: packaging>=20.0 in /usr/local/lib/python3.10/dist-packages (from transformers[sentencepiece]) (23.2)\n",
            "Requirement already satisfied: pyyaml>=5.1 in /usr/local/lib/python3.10/dist-packages (from transformers[sentencepiece]) (6.0.1)\n",
            "Requirement already satisfied: regex!=2019.12.17 in /usr/local/lib/python3.10/dist-packages (from transformers[sentencepiece]) (2023.6.3)\n",
            "Requirement already satisfied: requests in /usr/local/lib/python3.10/dist-packages (from transformers[sentencepiece]) (2.31.0)\n",
            "Requirement already satisfied: tokenizers<0.15,>=0.14 in /usr/local/lib/python3.10/dist-packages (from transformers[sentencepiece]) (0.14.1)\n",
            "Requirement already satisfied: safetensors>=0.3.1 in /usr/local/lib/python3.10/dist-packages (from transformers[sentencepiece]) (0.4.0)\n",
            "Requirement already satisfied: tqdm>=4.27 in /usr/local/lib/python3.10/dist-packages (from transformers[sentencepiece]) (4.66.1)\n",
            "Requirement already satisfied: sentencepiece!=0.1.92,>=0.1.91 in /usr/local/lib/python3.10/dist-packages (from transformers[sentencepiece]) (0.1.99)\n",
            "Requirement already satisfied: protobuf in /usr/local/lib/python3.10/dist-packages (from transformers[sentencepiece]) (3.20.3)\n",
            "Requirement already satisfied: fsspec in /usr/local/lib/python3.10/dist-packages (from huggingface-hub<1.0,>=0.16.4->transformers[sentencepiece]) (2023.6.0)\n",
            "Requirement already satisfied: typing-extensions>=3.7.4.3 in /usr/local/lib/python3.10/dist-packages (from huggingface-hub<1.0,>=0.16.4->transformers[sentencepiece]) (4.5.0)\n",
            "Requirement already satisfied: charset-normalizer<4,>=2 in /usr/local/lib/python3.10/dist-packages (from requests->transformers[sentencepiece]) (3.3.2)\n",
            "Requirement already satisfied: idna<4,>=2.5 in /usr/local/lib/python3.10/dist-packages (from requests->transformers[sentencepiece]) (3.4)\n",
            "Requirement already satisfied: urllib3<3,>=1.21.1 in /usr/local/lib/python3.10/dist-packages (from requests->transformers[sentencepiece]) (2.0.7)\n",
            "Requirement already satisfied: certifi>=2017.4.17 in /usr/local/lib/python3.10/dist-packages (from requests->transformers[sentencepiece]) (2023.7.22)\n",
            "\u001b[33mWARNING: Running pip as the 'root' user can result in broken permissions and conflicting behaviour with the system package manager. It is recommended to use a virtual environment instead: https://pip.pypa.io/warnings/venv\u001b[0m\u001b[33m\n",
            "\u001b[0m"
          ]
        }
      ]
    },
    {
      "cell_type": "code",
      "source": [
        "!pip install --upgrade pip"
      ],
      "metadata": {
        "colab": {
          "base_uri": "https://localhost:8080/"
        },
        "id": "T83lX2EOlt6D",
        "outputId": "1c9d24fe-b544-45a0-ee93-7fafc37828f4"
      },
      "execution_count": null,
      "outputs": [
        {
          "output_type": "stream",
          "name": "stdout",
          "text": [
            "Requirement already satisfied: pip in /usr/local/lib/python3.10/dist-packages (23.3.1)\n",
            "\u001b[33mWARNING: Running pip as the 'root' user can result in broken permissions and conflicting behaviour with the system package manager. It is recommended to use a virtual environment instead: https://pip.pypa.io/warnings/venv\u001b[0m\u001b[33m\n",
            "\u001b[0m"
          ]
        }
      ]
    },
    {
      "cell_type": "code",
      "source": [
        "!pip install torch"
      ],
      "metadata": {
        "colab": {
          "base_uri": "https://localhost:8080/"
        },
        "id": "aWXgaZdbrs3m",
        "outputId": "ce5f3309-728d-4fed-a9f7-0fde1d770b73"
      },
      "execution_count": null,
      "outputs": [
        {
          "output_type": "stream",
          "name": "stdout",
          "text": [
            "Requirement already satisfied: torch in /usr/local/lib/python3.10/dist-packages (2.1.0+cu118)\n",
            "Requirement already satisfied: filelock in /usr/local/lib/python3.10/dist-packages (from torch) (3.13.1)\n",
            "Requirement already satisfied: typing-extensions in /usr/local/lib/python3.10/dist-packages (from torch) (4.5.0)\n",
            "Requirement already satisfied: sympy in /usr/local/lib/python3.10/dist-packages (from torch) (1.12)\n",
            "Requirement already satisfied: networkx in /usr/local/lib/python3.10/dist-packages (from torch) (3.2.1)\n",
            "Requirement already satisfied: jinja2 in /usr/local/lib/python3.10/dist-packages (from torch) (3.1.2)\n",
            "Requirement already satisfied: fsspec in /usr/local/lib/python3.10/dist-packages (from torch) (2023.6.0)\n",
            "Requirement already satisfied: triton==2.1.0 in /usr/local/lib/python3.10/dist-packages (from torch) (2.1.0)\n",
            "Requirement already satisfied: MarkupSafe>=2.0 in /usr/local/lib/python3.10/dist-packages (from jinja2->torch) (2.1.3)\n",
            "Requirement already satisfied: mpmath>=0.19 in /usr/local/lib/python3.10/dist-packages (from sympy->torch) (1.3.0)\n",
            "\u001b[33mWARNING: Running pip as the 'root' user can result in broken permissions and conflicting behaviour with the system package manager. It is recommended to use a virtual environment instead: https://pip.pypa.io/warnings/venv\u001b[0m\u001b[33m\n",
            "\u001b[0m"
          ]
        }
      ]
    },
    {
      "cell_type": "code",
      "source": [
        "!pip install accelerate -U"
      ],
      "metadata": {
        "colab": {
          "base_uri": "https://localhost:8080/",
          "height": 688
        },
        "id": "DChfPXAArkmE",
        "outputId": "9789d82d-296b-4340-f1ed-6b49f4033e97"
      },
      "execution_count": null,
      "outputs": [
        {
          "output_type": "stream",
          "name": "stdout",
          "text": [
            "Requirement already satisfied: accelerate in /usr/local/lib/python3.10/dist-packages (0.20.3)\n",
            "Collecting accelerate\n",
            "  Using cached accelerate-0.24.1-py3-none-any.whl.metadata (18 kB)\n",
            "Requirement already satisfied: numpy>=1.17 in /usr/local/lib/python3.10/dist-packages (from accelerate) (1.23.5)\n",
            "Requirement already satisfied: packaging>=20.0 in /usr/local/lib/python3.10/dist-packages (from accelerate) (23.2)\n",
            "Requirement already satisfied: psutil in /usr/local/lib/python3.10/dist-packages (from accelerate) (5.9.5)\n",
            "Requirement already satisfied: pyyaml in /usr/local/lib/python3.10/dist-packages (from accelerate) (6.0.1)\n",
            "Requirement already satisfied: torch>=1.10.0 in /usr/local/lib/python3.10/dist-packages (from accelerate) (2.1.0+cu118)\n",
            "Requirement already satisfied: huggingface-hub in /usr/local/lib/python3.10/dist-packages (from accelerate) (0.17.3)\n",
            "Requirement already satisfied: filelock in /usr/local/lib/python3.10/dist-packages (from torch>=1.10.0->accelerate) (3.13.1)\n",
            "Requirement already satisfied: typing-extensions in /usr/local/lib/python3.10/dist-packages (from torch>=1.10.0->accelerate) (4.5.0)\n",
            "Requirement already satisfied: sympy in /usr/local/lib/python3.10/dist-packages (from torch>=1.10.0->accelerate) (1.12)\n",
            "Requirement already satisfied: networkx in /usr/local/lib/python3.10/dist-packages (from torch>=1.10.0->accelerate) (3.2.1)\n",
            "Requirement already satisfied: jinja2 in /usr/local/lib/python3.10/dist-packages (from torch>=1.10.0->accelerate) (3.1.2)\n",
            "Requirement already satisfied: fsspec in /usr/local/lib/python3.10/dist-packages (from torch>=1.10.0->accelerate) (2023.6.0)\n",
            "Requirement already satisfied: triton==2.1.0 in /usr/local/lib/python3.10/dist-packages (from torch>=1.10.0->accelerate) (2.1.0)\n",
            "Requirement already satisfied: requests in /usr/local/lib/python3.10/dist-packages (from huggingface-hub->accelerate) (2.31.0)\n",
            "Requirement already satisfied: tqdm>=4.42.1 in /usr/local/lib/python3.10/dist-packages (from huggingface-hub->accelerate) (4.66.1)\n",
            "Requirement already satisfied: MarkupSafe>=2.0 in /usr/local/lib/python3.10/dist-packages (from jinja2->torch>=1.10.0->accelerate) (2.1.3)\n",
            "Requirement already satisfied: charset-normalizer<4,>=2 in /usr/local/lib/python3.10/dist-packages (from requests->huggingface-hub->accelerate) (3.3.2)\n",
            "Requirement already satisfied: idna<4,>=2.5 in /usr/local/lib/python3.10/dist-packages (from requests->huggingface-hub->accelerate) (3.4)\n",
            "Requirement already satisfied: urllib3<3,>=1.21.1 in /usr/local/lib/python3.10/dist-packages (from requests->huggingface-hub->accelerate) (2.0.7)\n",
            "Requirement already satisfied: certifi>=2017.4.17 in /usr/local/lib/python3.10/dist-packages (from requests->huggingface-hub->accelerate) (2023.7.22)\n",
            "Requirement already satisfied: mpmath>=0.19 in /usr/local/lib/python3.10/dist-packages (from sympy->torch>=1.10.0->accelerate) (1.3.0)\n",
            "Using cached accelerate-0.24.1-py3-none-any.whl (261 kB)\n",
            "Installing collected packages: accelerate\n",
            "  Attempting uninstall: accelerate\n",
            "    Found existing installation: accelerate 0.20.3\n",
            "    Uninstalling accelerate-0.20.3:\n",
            "      Successfully uninstalled accelerate-0.20.3\n",
            "Successfully installed accelerate-0.24.1\n",
            "\u001b[33mWARNING: Running pip as the 'root' user can result in broken permissions and conflicting behaviour with the system package manager. It is recommended to use a virtual environment instead: https://pip.pypa.io/warnings/venv\u001b[0m\u001b[33m\n",
            "\u001b[0m"
          ]
        },
        {
          "output_type": "display_data",
          "data": {
            "application/vnd.colab-display-data+json": {
              "pip_warning": {
                "packages": [
                  "accelerate"
                ]
              }
            }
          },
          "metadata": {}
        }
      ]
    },
    {
      "cell_type": "code",
      "source": [
        "!transformers-cli cache clear"
      ],
      "metadata": {
        "colab": {
          "base_uri": "https://localhost:8080/"
        },
        "id": "8E6JdffvrwWy",
        "outputId": "b8d6191d-3b4b-41dc-8e0a-af07cfb9d0bd"
      },
      "execution_count": null,
      "outputs": [
        {
          "output_type": "stream",
          "name": "stdout",
          "text": [
            "2023-11-15 05:16:41.399656: E tensorflow/compiler/xla/stream_executor/cuda/cuda_dnn.cc:9342] Unable to register cuDNN factory: Attempting to register factory for plugin cuDNN when one has already been registered\n",
            "2023-11-15 05:16:41.399728: E tensorflow/compiler/xla/stream_executor/cuda/cuda_fft.cc:609] Unable to register cuFFT factory: Attempting to register factory for plugin cuFFT when one has already been registered\n",
            "2023-11-15 05:16:41.399767: E tensorflow/compiler/xla/stream_executor/cuda/cuda_blas.cc:1518] Unable to register cuBLAS factory: Attempting to register factory for plugin cuBLAS when one has already been registered\n",
            "2023-11-15 05:16:44.200392: W tensorflow/compiler/tf2tensorrt/utils/py_utils.cc:38] TF-TRT Warning: Could not find TensorRT\n",
            "usage: transformers-cli <command> [<args>]\n",
            "Transformers CLI tool: error: argument {convert,download,env,run,serve,login,whoami,logout,repo,add-new-model,add-new-model-like,lfs-enable-largefiles,lfs-multipart-upload,pt-to-tf}: invalid choice: 'cache' (choose from 'convert', 'download', 'env', 'run', 'serve', 'login', 'whoami', 'logout', 'repo', 'add-new-model', 'add-new-model-like', 'lfs-enable-largefiles', 'lfs-multipart-upload', 'pt-to-tf')\n"
          ]
        }
      ]
    },
    {
      "cell_type": "code",
      "source": [
        "!pip install transformers==4.10.3"
      ],
      "metadata": {
        "colab": {
          "base_uri": "https://localhost:8080/"
        },
        "id": "1rE0pDj1ry17",
        "outputId": "70dd8ebf-dfab-47fe-8263-ebb8dd4b57f6"
      },
      "execution_count": null,
      "outputs": [
        {
          "output_type": "stream",
          "name": "stdout",
          "text": [
            "Collecting transformers==4.10.3\n",
            "  Using cached transformers-4.10.3-py3-none-any.whl (2.8 MB)\n",
            "Requirement already satisfied: filelock in /usr/local/lib/python3.10/dist-packages (from transformers==4.10.3) (3.13.1)\n",
            "Requirement already satisfied: huggingface-hub>=0.0.12 in /usr/local/lib/python3.10/dist-packages (from transformers==4.10.3) (0.17.3)\n",
            "Requirement already satisfied: numpy>=1.17 in /usr/local/lib/python3.10/dist-packages (from transformers==4.10.3) (1.23.5)\n",
            "Requirement already satisfied: packaging in /usr/local/lib/python3.10/dist-packages (from transformers==4.10.3) (23.2)\n",
            "Requirement already satisfied: pyyaml>=5.1 in /usr/local/lib/python3.10/dist-packages (from transformers==4.10.3) (6.0.1)\n",
            "Requirement already satisfied: regex!=2019.12.17 in /usr/local/lib/python3.10/dist-packages (from transformers==4.10.3) (2023.6.3)\n",
            "Requirement already satisfied: requests in /usr/local/lib/python3.10/dist-packages (from transformers==4.10.3) (2.31.0)\n",
            "Collecting sacremoses (from transformers==4.10.3)\n",
            "  Using cached sacremoses-0.1.1-py3-none-any.whl.metadata (8.3 kB)\n",
            "Collecting tokenizers<0.11,>=0.10.1 (from transformers==4.10.3)\n",
            "  Using cached tokenizers-0.10.3.tar.gz (212 kB)\n",
            "  Installing build dependencies ... \u001b[?25l\u001b[?25hdone\n",
            "  Getting requirements to build wheel ... \u001b[?25l\u001b[?25hdone\n",
            "  Preparing metadata (pyproject.toml) ... \u001b[?25l\u001b[?25hdone\n",
            "Requirement already satisfied: tqdm>=4.27 in /usr/local/lib/python3.10/dist-packages (from transformers==4.10.3) (4.66.1)\n",
            "Requirement already satisfied: fsspec in /usr/local/lib/python3.10/dist-packages (from huggingface-hub>=0.0.12->transformers==4.10.3) (2023.6.0)\n",
            "Requirement already satisfied: typing-extensions>=3.7.4.3 in /usr/local/lib/python3.10/dist-packages (from huggingface-hub>=0.0.12->transformers==4.10.3) (4.5.0)\n",
            "Requirement already satisfied: charset-normalizer<4,>=2 in /usr/local/lib/python3.10/dist-packages (from requests->transformers==4.10.3) (3.3.2)\n",
            "Requirement already satisfied: idna<4,>=2.5 in /usr/local/lib/python3.10/dist-packages (from requests->transformers==4.10.3) (3.4)\n",
            "Requirement already satisfied: urllib3<3,>=1.21.1 in /usr/local/lib/python3.10/dist-packages (from requests->transformers==4.10.3) (2.0.7)\n",
            "Requirement already satisfied: certifi>=2017.4.17 in /usr/local/lib/python3.10/dist-packages (from requests->transformers==4.10.3) (2023.7.22)\n",
            "Requirement already satisfied: click in /usr/local/lib/python3.10/dist-packages (from sacremoses->transformers==4.10.3) (8.1.7)\n",
            "Requirement already satisfied: joblib in /usr/local/lib/python3.10/dist-packages (from sacremoses->transformers==4.10.3) (1.3.2)\n",
            "Using cached sacremoses-0.1.1-py3-none-any.whl (897 kB)\n",
            "Building wheels for collected packages: tokenizers\n",
            "  \u001b[1;31merror\u001b[0m: \u001b[1msubprocess-exited-with-error\u001b[0m\n",
            "  \n",
            "  \u001b[31m×\u001b[0m \u001b[32mBuilding wheel for tokenizers \u001b[0m\u001b[1;32m(\u001b[0m\u001b[32mpyproject.toml\u001b[0m\u001b[1;32m)\u001b[0m did not run successfully.\n",
            "  \u001b[31m│\u001b[0m exit code: \u001b[1;36m1\u001b[0m\n",
            "  \u001b[31m╰─>\u001b[0m See above for output.\n",
            "  \n",
            "  \u001b[1;35mnote\u001b[0m: This error originates from a subprocess, and is likely not a problem with pip.\n",
            "  Building wheel for tokenizers (pyproject.toml) ... \u001b[?25l\u001b[?25herror\n",
            "\u001b[31m  ERROR: Failed building wheel for tokenizers\u001b[0m\u001b[31m\n",
            "\u001b[0mFailed to build tokenizers\n",
            "\u001b[31mERROR: Could not build wheels for tokenizers, which is required to install pyproject.toml-based projects\u001b[0m\u001b[31m\n",
            "\u001b[0m"
          ]
        }
      ]
    },
    {
      "cell_type": "code",
      "source": [
        "!pip install accelerate==0.20.3"
      ],
      "metadata": {
        "colab": {
          "base_uri": "https://localhost:8080/",
          "height": 549
        },
        "id": "r7X8wHv0ry5b",
        "outputId": "88ca6d2d-6250-42c7-d38e-882f27d6b52f"
      },
      "execution_count": null,
      "outputs": [
        {
          "output_type": "stream",
          "name": "stdout",
          "text": [
            "Collecting accelerate==0.20.3\n",
            "  Using cached accelerate-0.20.3-py3-none-any.whl.metadata (17 kB)\n",
            "Requirement already satisfied: numpy>=1.17 in /usr/local/lib/python3.10/dist-packages (from accelerate==0.20.3) (1.23.5)\n",
            "Requirement already satisfied: packaging>=20.0 in /usr/local/lib/python3.10/dist-packages (from accelerate==0.20.3) (23.2)\n",
            "Requirement already satisfied: psutil in /usr/local/lib/python3.10/dist-packages (from accelerate==0.20.3) (5.9.5)\n",
            "Requirement already satisfied: pyyaml in /usr/local/lib/python3.10/dist-packages (from accelerate==0.20.3) (6.0.1)\n",
            "Requirement already satisfied: torch>=1.6.0 in /usr/local/lib/python3.10/dist-packages (from accelerate==0.20.3) (2.1.0+cu118)\n",
            "Requirement already satisfied: filelock in /usr/local/lib/python3.10/dist-packages (from torch>=1.6.0->accelerate==0.20.3) (3.13.1)\n",
            "Requirement already satisfied: typing-extensions in /usr/local/lib/python3.10/dist-packages (from torch>=1.6.0->accelerate==0.20.3) (4.5.0)\n",
            "Requirement already satisfied: sympy in /usr/local/lib/python3.10/dist-packages (from torch>=1.6.0->accelerate==0.20.3) (1.12)\n",
            "Requirement already satisfied: networkx in /usr/local/lib/python3.10/dist-packages (from torch>=1.6.0->accelerate==0.20.3) (3.2.1)\n",
            "Requirement already satisfied: jinja2 in /usr/local/lib/python3.10/dist-packages (from torch>=1.6.0->accelerate==0.20.3) (3.1.2)\n",
            "Requirement already satisfied: fsspec in /usr/local/lib/python3.10/dist-packages (from torch>=1.6.0->accelerate==0.20.3) (2023.6.0)\n",
            "Requirement already satisfied: triton==2.1.0 in /usr/local/lib/python3.10/dist-packages (from torch>=1.6.0->accelerate==0.20.3) (2.1.0)\n",
            "Requirement already satisfied: MarkupSafe>=2.0 in /usr/local/lib/python3.10/dist-packages (from jinja2->torch>=1.6.0->accelerate==0.20.3) (2.1.3)\n",
            "Requirement already satisfied: mpmath>=0.19 in /usr/local/lib/python3.10/dist-packages (from sympy->torch>=1.6.0->accelerate==0.20.3) (1.3.0)\n",
            "Using cached accelerate-0.20.3-py3-none-any.whl (227 kB)\n",
            "Installing collected packages: accelerate\n",
            "  Attempting uninstall: accelerate\n",
            "    Found existing installation: accelerate 0.24.1\n",
            "    Uninstalling accelerate-0.24.1:\n",
            "      Successfully uninstalled accelerate-0.24.1\n",
            "Successfully installed accelerate-0.20.3\n",
            "\u001b[33mWARNING: Running pip as the 'root' user can result in broken permissions and conflicting behaviour with the system package manager. It is recommended to use a virtual environment instead: https://pip.pypa.io/warnings/venv\u001b[0m\u001b[33m\n",
            "\u001b[0m"
          ]
        },
        {
          "output_type": "display_data",
          "data": {
            "application/vnd.colab-display-data+json": {
              "pip_warning": {
                "packages": [
                  "accelerate"
                ]
              }
            }
          },
          "metadata": {}
        }
      ]
    },
    {
      "cell_type": "code",
      "source": [
        "!pip install transformers[torch]"
      ],
      "metadata": {
        "colab": {
          "base_uri": "https://localhost:8080/"
        },
        "id": "2wQBCxEhr1fb",
        "outputId": "a7335c90-47ab-4a02-be3f-5cf2ded8662d"
      },
      "execution_count": null,
      "outputs": [
        {
          "output_type": "stream",
          "name": "stdout",
          "text": [
            "Requirement already satisfied: transformers[torch] in /usr/local/lib/python3.10/dist-packages (4.35.1)\n",
            "Requirement already satisfied: filelock in /usr/local/lib/python3.10/dist-packages (from transformers[torch]) (3.13.1)\n",
            "Requirement already satisfied: huggingface-hub<1.0,>=0.16.4 in /usr/local/lib/python3.10/dist-packages (from transformers[torch]) (0.17.3)\n",
            "Requirement already satisfied: numpy>=1.17 in /usr/local/lib/python3.10/dist-packages (from transformers[torch]) (1.23.5)\n",
            "Requirement already satisfied: packaging>=20.0 in /usr/local/lib/python3.10/dist-packages (from transformers[torch]) (23.2)\n",
            "Requirement already satisfied: pyyaml>=5.1 in /usr/local/lib/python3.10/dist-packages (from transformers[torch]) (6.0.1)\n",
            "Requirement already satisfied: regex!=2019.12.17 in /usr/local/lib/python3.10/dist-packages (from transformers[torch]) (2023.6.3)\n",
            "Requirement already satisfied: requests in /usr/local/lib/python3.10/dist-packages (from transformers[torch]) (2.31.0)\n",
            "Requirement already satisfied: tokenizers<0.15,>=0.14 in /usr/local/lib/python3.10/dist-packages (from transformers[torch]) (0.14.1)\n",
            "Requirement already satisfied: safetensors>=0.3.1 in /usr/local/lib/python3.10/dist-packages (from transformers[torch]) (0.4.0)\n",
            "Requirement already satisfied: tqdm>=4.27 in /usr/local/lib/python3.10/dist-packages (from transformers[torch]) (4.66.1)\n",
            "Requirement already satisfied: torch!=1.12.0,>=1.10 in /usr/local/lib/python3.10/dist-packages (from transformers[torch]) (2.1.0+cu118)\n",
            "Requirement already satisfied: accelerate>=0.20.3 in /usr/local/lib/python3.10/dist-packages (from transformers[torch]) (0.20.3)\n",
            "Requirement already satisfied: psutil in /usr/local/lib/python3.10/dist-packages (from accelerate>=0.20.3->transformers[torch]) (5.9.5)\n",
            "Requirement already satisfied: fsspec in /usr/local/lib/python3.10/dist-packages (from huggingface-hub<1.0,>=0.16.4->transformers[torch]) (2023.6.0)\n",
            "Requirement already satisfied: typing-extensions>=3.7.4.3 in /usr/local/lib/python3.10/dist-packages (from huggingface-hub<1.0,>=0.16.4->transformers[torch]) (4.5.0)\n",
            "Requirement already satisfied: sympy in /usr/local/lib/python3.10/dist-packages (from torch!=1.12.0,>=1.10->transformers[torch]) (1.12)\n",
            "Requirement already satisfied: networkx in /usr/local/lib/python3.10/dist-packages (from torch!=1.12.0,>=1.10->transformers[torch]) (3.2.1)\n",
            "Requirement already satisfied: jinja2 in /usr/local/lib/python3.10/dist-packages (from torch!=1.12.0,>=1.10->transformers[torch]) (3.1.2)\n",
            "Requirement already satisfied: triton==2.1.0 in /usr/local/lib/python3.10/dist-packages (from torch!=1.12.0,>=1.10->transformers[torch]) (2.1.0)\n",
            "Requirement already satisfied: charset-normalizer<4,>=2 in /usr/local/lib/python3.10/dist-packages (from requests->transformers[torch]) (3.3.2)\n",
            "Requirement already satisfied: idna<4,>=2.5 in /usr/local/lib/python3.10/dist-packages (from requests->transformers[torch]) (3.4)\n",
            "Requirement already satisfied: urllib3<3,>=1.21.1 in /usr/local/lib/python3.10/dist-packages (from requests->transformers[torch]) (2.0.7)\n",
            "Requirement already satisfied: certifi>=2017.4.17 in /usr/local/lib/python3.10/dist-packages (from requests->transformers[torch]) (2023.7.22)\n",
            "Requirement already satisfied: MarkupSafe>=2.0 in /usr/local/lib/python3.10/dist-packages (from jinja2->torch!=1.12.0,>=1.10->transformers[torch]) (2.1.3)\n",
            "Requirement already satisfied: mpmath>=0.19 in /usr/local/lib/python3.10/dist-packages (from sympy->torch!=1.12.0,>=1.10->transformers[torch]) (1.3.0)\n",
            "\u001b[33mWARNING: Running pip as the 'root' user can result in broken permissions and conflicting behaviour with the system package manager. It is recommended to use a virtual environment instead: https://pip.pypa.io/warnings/venv\u001b[0m\u001b[33m\n",
            "\u001b[0m"
          ]
        }
      ]
    },
    {
      "cell_type": "code",
      "source": [
        "!pip install sentencepiece"
      ],
      "metadata": {
        "colab": {
          "base_uri": "https://localhost:8080/"
        },
        "id": "vDuWETyk8gJ2",
        "outputId": "057ba239-0485-4cc7-c1f6-4fe5b1e81d48"
      },
      "execution_count": null,
      "outputs": [
        {
          "output_type": "stream",
          "name": "stdout",
          "text": [
            "Requirement already satisfied: sentencepiece in /usr/local/lib/python3.10/dist-packages (0.1.99)\n",
            "\u001b[33mWARNING: Running pip as the 'root' user can result in broken permissions and conflicting behaviour with the system package manager. It is recommended to use a virtual environment instead: https://pip.pypa.io/warnings/venv\u001b[0m\u001b[33m\n",
            "\u001b[0m"
          ]
        }
      ]
    },
    {
      "cell_type": "code",
      "source": [
        "!pip install --upgrade transformers"
      ],
      "metadata": {
        "colab": {
          "base_uri": "https://localhost:8080/"
        },
        "id": "TxC2P3VU-Gnk",
        "outputId": "165c19ed-9a87-481c-fa8b-13b730dccb4b"
      },
      "execution_count": null,
      "outputs": [
        {
          "output_type": "stream",
          "name": "stdout",
          "text": [
            "Requirement already satisfied: transformers in /usr/local/lib/python3.10/dist-packages (4.35.1)\n",
            "Requirement already satisfied: filelock in /usr/local/lib/python3.10/dist-packages (from transformers) (3.13.1)\n",
            "Requirement already satisfied: huggingface-hub<1.0,>=0.16.4 in /usr/local/lib/python3.10/dist-packages (from transformers) (0.17.3)\n",
            "Requirement already satisfied: numpy>=1.17 in /usr/local/lib/python3.10/dist-packages (from transformers) (1.23.5)\n",
            "Requirement already satisfied: packaging>=20.0 in /usr/local/lib/python3.10/dist-packages (from transformers) (23.2)\n",
            "Requirement already satisfied: pyyaml>=5.1 in /usr/local/lib/python3.10/dist-packages (from transformers) (6.0.1)\n",
            "Requirement already satisfied: regex!=2019.12.17 in /usr/local/lib/python3.10/dist-packages (from transformers) (2023.6.3)\n",
            "Requirement already satisfied: requests in /usr/local/lib/python3.10/dist-packages (from transformers) (2.31.0)\n",
            "Requirement already satisfied: tokenizers<0.15,>=0.14 in /usr/local/lib/python3.10/dist-packages (from transformers) (0.14.1)\n",
            "Requirement already satisfied: safetensors>=0.3.1 in /usr/local/lib/python3.10/dist-packages (from transformers) (0.4.0)\n",
            "Requirement already satisfied: tqdm>=4.27 in /usr/local/lib/python3.10/dist-packages (from transformers) (4.66.1)\n",
            "Requirement already satisfied: fsspec in /usr/local/lib/python3.10/dist-packages (from huggingface-hub<1.0,>=0.16.4->transformers) (2023.6.0)\n",
            "Requirement already satisfied: typing-extensions>=3.7.4.3 in /usr/local/lib/python3.10/dist-packages (from huggingface-hub<1.0,>=0.16.4->transformers) (4.5.0)\n",
            "Requirement already satisfied: charset-normalizer<4,>=2 in /usr/local/lib/python3.10/dist-packages (from requests->transformers) (3.3.2)\n",
            "Requirement already satisfied: idna<4,>=2.5 in /usr/local/lib/python3.10/dist-packages (from requests->transformers) (3.4)\n",
            "Requirement already satisfied: urllib3<3,>=1.21.1 in /usr/local/lib/python3.10/dist-packages (from requests->transformers) (2.0.7)\n",
            "Requirement already satisfied: certifi>=2017.4.17 in /usr/local/lib/python3.10/dist-packages (from requests->transformers) (2023.7.22)\n",
            "\u001b[33mWARNING: Running pip as the 'root' user can result in broken permissions and conflicting behaviour with the system package manager. It is recommended to use a virtual environment instead: https://pip.pypa.io/warnings/venv\u001b[0m\u001b[33m\n",
            "\u001b[0m"
          ]
        }
      ]
    },
    {
      "cell_type": "markdown",
      "source": [
        "# **Apply normalization to the datasets**"
      ],
      "metadata": {
        "id": "oWAQpf-6EEOI"
      }
    },
    {
      "cell_type": "code",
      "source": [
        "from normalizer import normalize\n",
        "# Apply normalization to the datasets\n",
        "df_train['passage'] = df_train['passage'].apply(normalize)\n",
        "df_train['question'] = df_train['question'].apply(normalize)\n",
        "df_train['ans_txt'] = df_train['ans_txt'].apply(normalize)\n",
        "\n",
        "df_validation['passage'] = df_validation['passage'].apply(normalize)\n",
        "df_validation['question'] = df_validation['question'].apply(normalize)\n",
        "df_validation['ans_txt'] = df_validation['ans_txt'].apply(normalize)\n",
        "\n",
        "df_test['passage'] = df_test['passage'].apply(normalize)\n",
        "df_test['question'] = df_test['question'].apply(normalize)\n",
        "df_test['ans_txt'] = df_test['ans_txt'].apply(normalize)\n"
      ],
      "metadata": {
        "id": "YiuUBx4gECAp"
      },
      "execution_count": null,
      "outputs": []
    },
    {
      "cell_type": "markdown",
      "source": [
        "# **mT5 Model and Its Tokenizer**"
      ],
      "metadata": {
        "id": "MnvyBJQmkjaV"
      }
    },
    {
      "cell_type": "code",
      "source": [
        "from transformers import MT5ForConditionalGeneration, AutoTokenizer\n",
        "#https://huggingface.co/docs/transformers/model_doc/mt5\n",
        "model_name = \"google/mt5-small\" # The variations it has -> mt5-small: 6, mt5-base: 12,mt5-large: 24, mt5-xl: 24, mt5-xxl: 24\n",
        "model = MT5ForConditionalGeneration.from_pretrained(model_name)\n",
        "tokenizer = AutoTokenizer.from_pretrained(model_name)"
      ],
      "metadata": {
        "id": "24UaId2ciENU",
        "colab": {
          "base_uri": "https://localhost:8080/"
        },
        "outputId": "88778978-9fae-4b87-ba39-b548127832a8"
      },
      "execution_count": null,
      "outputs": [
        {
          "output_type": "stream",
          "name": "stderr",
          "text": [
            "/usr/local/lib/python3.10/dist-packages/transformers/convert_slow_tokenizer.py:473: UserWarning: The sentencepiece tokenizer that you are converting to a fast tokenizer uses the byte fallback option which is not implemented in the fast tokenizers. In practice this means that the fast version of the tokenizer can produce unknown tokens whereas the sentencepiece version would have converted these unknown tokens into a sequence of byte tokens matching the original piece of text.\n",
            "  warnings.warn(\n"
          ]
        }
      ]
    },
    {
      "cell_type": "markdown",
      "source": [
        "# **Custom dataset class**"
      ],
      "metadata": {
        "id": "jIYic5-DoDJn"
      }
    },
    {
      "cell_type": "code",
      "source": [
        "from torch.utils.data import Dataset, DataLoader\n",
        "\n",
        "class BanglaQADataset(Dataset):\n",
        "    def __init__(self, data, tokenizer, max_length=250):\n",
        "        self.data = data\n",
        "        self.tokenizer = tokenizer\n",
        "        self.max_length = max_length\n",
        "\n",
        "    def __len__(self):\n",
        "        return len(self.data)\n",
        "\n",
        "    def __getitem__(self, idx):\n",
        "        context = self.data.iloc[idx]['passage']\n",
        "        question = self.data.iloc[idx]['question']\n",
        "        answer = self.data.iloc[idx]['ans_txt']\n",
        "\n",
        "        # Tokenize context and question separately\n",
        "        inputs = self.tokenizer(\n",
        "            context,\n",
        "            question,\n",
        "            max_length=self.max_length,\n",
        "            padding='max_length',\n",
        "            truncation=True,\n",
        "            return_tensors='pt'\n",
        "        )\n",
        "\n",
        "        # Tokenize answer\n",
        "        tokenized_answer = self.tokenizer(\n",
        "            answer,\n",
        "            max_length=self.max_length,\n",
        "            padding='max_length',\n",
        "            truncation=True,\n",
        "            return_tensors='pt'\n",
        "        )\n",
        "\n",
        "        # Process tokenized answer labels\n",
        "        labels = tokenized_answer['input_ids'].squeeze()\n",
        "        attention_mask_labels = tokenized_answer['attention_mask'].squeeze()\n",
        "\n",
        "        # Ignore padded tokens during training\n",
        "        labels[attention_mask_labels == 0] = -100\n",
        "\n",
        "        # Handle cases where the input sequence is longer than max_length\n",
        "        if inputs['input_ids'].shape[1] > self.max_length:\n",
        "            inputs['input_ids'] = inputs['input_ids'][:, :self.max_length]\n",
        "            inputs['attention_mask'] = inputs['attention_mask'][:, :self.max_length]\n",
        "            attention_mask_labels = attention_mask_labels[:self.max_length]\n",
        "\n",
        "        # Ensuring labels and attention_mask_labels have the same length\n",
        "        labels = labels[:self.max_length]\n",
        "\n",
        "        # Using .squeeze() on labels\n",
        "        labels = labels.squeeze()\n",
        "\n",
        "        # Return as dictionaries\n",
        "        return {\n",
        "            'input_ids': inputs['input_ids'].squeeze(),\n",
        "            'attention_mask': inputs['attention_mask'].squeeze(),\n",
        "            'labels': labels,\n",
        "\n",
        "        }\n"
      ],
      "metadata": {
        "id": "vAkUy3qjn8Hk"
      },
      "execution_count": null,
      "outputs": []
    },
    {
      "cell_type": "markdown",
      "source": [
        "# **Create datasets and data loaders**"
      ],
      "metadata": {
        "id": "1wElCiK8sm9U"
      }
    },
    {
      "cell_type": "code",
      "source": [
        "train_dataset = BanglaQADataset(df_train, tokenizer)\n",
        "validation_dataset = BanglaQADataset(df_validation, tokenizer)\n",
        "test_dataset = BanglaQADataset(df_test, tokenizer)\n",
        "\n",
        "train_dataloader = DataLoader(train_dataset , batch_size=10, shuffle=True)\n",
        "validation_dataloader = DataLoader(validation_dataset , batch_size=10, shuffle=False)\n",
        "test_dataloader = DataLoader(test_dataset , batch_size=10, shuffle=False)"
      ],
      "metadata": {
        "id": "vb8kL4fEr2_i"
      },
      "execution_count": null,
      "outputs": []
    },
    {
      "cell_type": "code",
      "source": [
        "import torch\n",
        "device = torch.device(\"cuda\" if torch.cuda.is_available() else \"cpu\")\n",
        "model.to(device)"
      ],
      "metadata": {
        "colab": {
          "base_uri": "https://localhost:8080/"
        },
        "id": "TcUj0N1PtV5A",
        "outputId": "f4f01d51-0122-4048-8100-025d55a5bf02"
      },
      "execution_count": null,
      "outputs": [
        {
          "output_type": "execute_result",
          "data": {
            "text/plain": [
              "MT5ForConditionalGeneration(\n",
              "  (shared): Embedding(250112, 512)\n",
              "  (encoder): MT5Stack(\n",
              "    (embed_tokens): Embedding(250112, 512)\n",
              "    (block): ModuleList(\n",
              "      (0): MT5Block(\n",
              "        (layer): ModuleList(\n",
              "          (0): MT5LayerSelfAttention(\n",
              "            (SelfAttention): MT5Attention(\n",
              "              (q): Linear(in_features=512, out_features=384, bias=False)\n",
              "              (k): Linear(in_features=512, out_features=384, bias=False)\n",
              "              (v): Linear(in_features=512, out_features=384, bias=False)\n",
              "              (o): Linear(in_features=384, out_features=512, bias=False)\n",
              "              (relative_attention_bias): Embedding(32, 6)\n",
              "            )\n",
              "            (layer_norm): MT5LayerNorm()\n",
              "            (dropout): Dropout(p=0.1, inplace=False)\n",
              "          )\n",
              "          (1): MT5LayerFF(\n",
              "            (DenseReluDense): MT5DenseGatedActDense(\n",
              "              (wi_0): Linear(in_features=512, out_features=1024, bias=False)\n",
              "              (wi_1): Linear(in_features=512, out_features=1024, bias=False)\n",
              "              (wo): Linear(in_features=1024, out_features=512, bias=False)\n",
              "              (dropout): Dropout(p=0.1, inplace=False)\n",
              "              (act): NewGELUActivation()\n",
              "            )\n",
              "            (layer_norm): MT5LayerNorm()\n",
              "            (dropout): Dropout(p=0.1, inplace=False)\n",
              "          )\n",
              "        )\n",
              "      )\n",
              "      (1-7): 7 x MT5Block(\n",
              "        (layer): ModuleList(\n",
              "          (0): MT5LayerSelfAttention(\n",
              "            (SelfAttention): MT5Attention(\n",
              "              (q): Linear(in_features=512, out_features=384, bias=False)\n",
              "              (k): Linear(in_features=512, out_features=384, bias=False)\n",
              "              (v): Linear(in_features=512, out_features=384, bias=False)\n",
              "              (o): Linear(in_features=384, out_features=512, bias=False)\n",
              "            )\n",
              "            (layer_norm): MT5LayerNorm()\n",
              "            (dropout): Dropout(p=0.1, inplace=False)\n",
              "          )\n",
              "          (1): MT5LayerFF(\n",
              "            (DenseReluDense): MT5DenseGatedActDense(\n",
              "              (wi_0): Linear(in_features=512, out_features=1024, bias=False)\n",
              "              (wi_1): Linear(in_features=512, out_features=1024, bias=False)\n",
              "              (wo): Linear(in_features=1024, out_features=512, bias=False)\n",
              "              (dropout): Dropout(p=0.1, inplace=False)\n",
              "              (act): NewGELUActivation()\n",
              "            )\n",
              "            (layer_norm): MT5LayerNorm()\n",
              "            (dropout): Dropout(p=0.1, inplace=False)\n",
              "          )\n",
              "        )\n",
              "      )\n",
              "    )\n",
              "    (final_layer_norm): MT5LayerNorm()\n",
              "    (dropout): Dropout(p=0.1, inplace=False)\n",
              "  )\n",
              "  (decoder): MT5Stack(\n",
              "    (embed_tokens): Embedding(250112, 512)\n",
              "    (block): ModuleList(\n",
              "      (0): MT5Block(\n",
              "        (layer): ModuleList(\n",
              "          (0): MT5LayerSelfAttention(\n",
              "            (SelfAttention): MT5Attention(\n",
              "              (q): Linear(in_features=512, out_features=384, bias=False)\n",
              "              (k): Linear(in_features=512, out_features=384, bias=False)\n",
              "              (v): Linear(in_features=512, out_features=384, bias=False)\n",
              "              (o): Linear(in_features=384, out_features=512, bias=False)\n",
              "              (relative_attention_bias): Embedding(32, 6)\n",
              "            )\n",
              "            (layer_norm): MT5LayerNorm()\n",
              "            (dropout): Dropout(p=0.1, inplace=False)\n",
              "          )\n",
              "          (1): MT5LayerCrossAttention(\n",
              "            (EncDecAttention): MT5Attention(\n",
              "              (q): Linear(in_features=512, out_features=384, bias=False)\n",
              "              (k): Linear(in_features=512, out_features=384, bias=False)\n",
              "              (v): Linear(in_features=512, out_features=384, bias=False)\n",
              "              (o): Linear(in_features=384, out_features=512, bias=False)\n",
              "            )\n",
              "            (layer_norm): MT5LayerNorm()\n",
              "            (dropout): Dropout(p=0.1, inplace=False)\n",
              "          )\n",
              "          (2): MT5LayerFF(\n",
              "            (DenseReluDense): MT5DenseGatedActDense(\n",
              "              (wi_0): Linear(in_features=512, out_features=1024, bias=False)\n",
              "              (wi_1): Linear(in_features=512, out_features=1024, bias=False)\n",
              "              (wo): Linear(in_features=1024, out_features=512, bias=False)\n",
              "              (dropout): Dropout(p=0.1, inplace=False)\n",
              "              (act): NewGELUActivation()\n",
              "            )\n",
              "            (layer_norm): MT5LayerNorm()\n",
              "            (dropout): Dropout(p=0.1, inplace=False)\n",
              "          )\n",
              "        )\n",
              "      )\n",
              "      (1-7): 7 x MT5Block(\n",
              "        (layer): ModuleList(\n",
              "          (0): MT5LayerSelfAttention(\n",
              "            (SelfAttention): MT5Attention(\n",
              "              (q): Linear(in_features=512, out_features=384, bias=False)\n",
              "              (k): Linear(in_features=512, out_features=384, bias=False)\n",
              "              (v): Linear(in_features=512, out_features=384, bias=False)\n",
              "              (o): Linear(in_features=384, out_features=512, bias=False)\n",
              "            )\n",
              "            (layer_norm): MT5LayerNorm()\n",
              "            (dropout): Dropout(p=0.1, inplace=False)\n",
              "          )\n",
              "          (1): MT5LayerCrossAttention(\n",
              "            (EncDecAttention): MT5Attention(\n",
              "              (q): Linear(in_features=512, out_features=384, bias=False)\n",
              "              (k): Linear(in_features=512, out_features=384, bias=False)\n",
              "              (v): Linear(in_features=512, out_features=384, bias=False)\n",
              "              (o): Linear(in_features=384, out_features=512, bias=False)\n",
              "            )\n",
              "            (layer_norm): MT5LayerNorm()\n",
              "            (dropout): Dropout(p=0.1, inplace=False)\n",
              "          )\n",
              "          (2): MT5LayerFF(\n",
              "            (DenseReluDense): MT5DenseGatedActDense(\n",
              "              (wi_0): Linear(in_features=512, out_features=1024, bias=False)\n",
              "              (wi_1): Linear(in_features=512, out_features=1024, bias=False)\n",
              "              (wo): Linear(in_features=1024, out_features=512, bias=False)\n",
              "              (dropout): Dropout(p=0.1, inplace=False)\n",
              "              (act): NewGELUActivation()\n",
              "            )\n",
              "            (layer_norm): MT5LayerNorm()\n",
              "            (dropout): Dropout(p=0.1, inplace=False)\n",
              "          )\n",
              "        )\n",
              "      )\n",
              "    )\n",
              "    (final_layer_norm): MT5LayerNorm()\n",
              "    (dropout): Dropout(p=0.1, inplace=False)\n",
              "  )\n",
              "  (lm_head): Linear(in_features=512, out_features=250112, bias=False)\n",
              ")"
            ]
          },
          "metadata": {},
          "execution_count": 203
        }
      ]
    },
    {
      "cell_type": "markdown",
      "source": [
        "# **Train Dataset Encoding Printing: passage, question, answer(input_ids,attention_mask)**"
      ],
      "metadata": {
        "id": "L1-VSgm94nxK"
      }
    },
    {
      "cell_type": "code",
      "source": [
        "# Set a flag to track whether it's the first batch\n",
        "first_batch = True\n",
        "\n",
        "for batch in train_dataloader:\n",
        "    # Move inputs and labels to the GPU\n",
        "    inputs = {key: value.to(device) for key, value in batch.items()}  # Using 'batch' directly\n",
        "\n",
        "    # Extract information for the first example in the batch\n",
        "    input_ids = inputs['input_ids'][0]\n",
        "    attention_mask = inputs['attention_mask'][0]\n",
        "    labels = inputs['labels'][0]\n",
        "\n",
        "\n",
        "    # Print information\n",
        "    print(\"Input IDs:\", input_ids)\n",
        "    print(\"Attention Mask:\", attention_mask)\n",
        "    print(\"Labels:\", labels)\n",
        "\n",
        "\n",
        "    # Break out of the loop after processing the first batch\n",
        "    break\n"
      ],
      "metadata": {
        "colab": {
          "base_uri": "https://localhost:8080/"
        },
        "id": "tetZEVAr3hsn",
        "outputId": "314e6ca5-412d-433d-a249-c6b60d433cd5"
      },
      "execution_count": null,
      "outputs": [
        {
          "output_type": "stream",
          "name": "stdout",
          "text": [
            "Input IDs: tensor([   259,  45255,   2337,  66673,  32248,   2369,   4830,  11736,   9598,\n",
            "        156969,   4151,   1244,   2191,  11897,   2496,  11736,   1198,   2608,\n",
            "         14218,   2813,   3148,  20017,   9598, 156969,   4151,   5998,   3148,\n",
            "          2402,  49670,  14504,    259,  21183,   2191,   4529, 144739,  29050,\n",
            "         25699,    994,  12470,  14346,   4821,   6957,  38900,  13916,   3198,\n",
            "          2996,  14549,   1244,   1807,   3170,   5433,  32239,   5210,    259,\n",
            "          5288,    259,  21183,   2191,   4529, 144739,   2813,   3148,  20017,\n",
            "           259,  25190,   6946,  19131,   1152,  17103,   7806,   1807,   4091,\n",
            "          2912,    259,  26684,  37652,  22556,   2337,   5702,  42305, 143026,\n",
            "         18834,   5995,   2592,   2191,    259,  14857,  31194,   2326,  10594,\n",
            "         11736,   1198,    259,  14857,  31194,   1433,   3279,  30629,  42706,\n",
            "           259,   5288,   5702,  42305,  33398,   4529, 144739,  11965,    259,\n",
            "         25190,   6946,  19131,   1152,  17103,   7806,   1807,   5163,   4555,\n",
            "           259,   5288,  11736,   1198,   2608,  14218,   2813,   3148,  20017,\n",
            "           259,  25190,   6946,  19131, 124129,    259,  21721,   7419,  18834,\n",
            "          5995,   2402,  22383,   2813,   4102,   5163,   2592,  11736,   5628,\n",
            "          4907,   6373,   9680,  11736,    994,   6946,   7806, 156969,   4151,\n",
            "        139756,   5998,   3148,  11736,   9598, 156969,   4151,   6361,   8819,\n",
            "          4689,   1244,   2191,   2326,   1573,    259,  13828,   2608,  65129,\n",
            "          1573,   9598, 156969,   4151,   2326,   1573,    259,  13828,   9598,\n",
            "         96513,   3198,   1573,   9598, 156969,   4151,   1433,  20480,  34716,\n",
            "         44236, 149600, 105737,    259,  13678,  14050,    259,  45255,   2337,\n",
            "         66673,  32248,   2369,   4830,  11736,   9598, 156969,   4151,    259,\n",
            "          9144,   2592,   4361,   2337,   1413,   2813,  10651,    259,  23974,\n",
            "             1,   5998,   3148,   2402,  49670,  14504,    259,  21183,   2191,\n",
            "          4529, 144739,  29050,  25699,    994,  12470,  14346,   4821,   6957,\n",
            "         38900,  13916,   3198,   2996,  14549,   1244,   1807,   3170,   6173,\n",
            "             1,      0,      0,      0,      0,      0,      0],\n",
            "       device='cuda:0')\n",
            "Attention Mask: tensor([1, 1, 1, 1, 1, 1, 1, 1, 1, 1, 1, 1, 1, 1, 1, 1, 1, 1, 1, 1, 1, 1, 1, 1,\n",
            "        1, 1, 1, 1, 1, 1, 1, 1, 1, 1, 1, 1, 1, 1, 1, 1, 1, 1, 1, 1, 1, 1, 1, 1,\n",
            "        1, 1, 1, 1, 1, 1, 1, 1, 1, 1, 1, 1, 1, 1, 1, 1, 1, 1, 1, 1, 1, 1, 1, 1,\n",
            "        1, 1, 1, 1, 1, 1, 1, 1, 1, 1, 1, 1, 1, 1, 1, 1, 1, 1, 1, 1, 1, 1, 1, 1,\n",
            "        1, 1, 1, 1, 1, 1, 1, 1, 1, 1, 1, 1, 1, 1, 1, 1, 1, 1, 1, 1, 1, 1, 1, 1,\n",
            "        1, 1, 1, 1, 1, 1, 1, 1, 1, 1, 1, 1, 1, 1, 1, 1, 1, 1, 1, 1, 1, 1, 1, 1,\n",
            "        1, 1, 1, 1, 1, 1, 1, 1, 1, 1, 1, 1, 1, 1, 1, 1, 1, 1, 1, 1, 1, 1, 1, 1,\n",
            "        1, 1, 1, 1, 1, 1, 1, 1, 1, 1, 1, 1, 1, 1, 1, 1, 1, 1, 1, 1, 1, 1, 1, 1,\n",
            "        1, 1, 1, 1, 1, 1, 1, 1, 1, 1, 1, 1, 1, 1, 1, 1, 1, 1, 1, 1, 1, 1, 1, 1,\n",
            "        1, 1, 1, 1, 1, 1, 1, 1, 1, 1, 1, 1, 1, 1, 1, 1, 1, 1, 1, 1, 1, 1, 1, 1,\n",
            "        1, 1, 1, 1, 0, 0, 0, 0, 0, 0], device='cuda:0')\n",
            "Labels: tensor([ 5433, 32239,  5210,     1,  -100,  -100,  -100,  -100,  -100,  -100,\n",
            "         -100,  -100,  -100,  -100,  -100,  -100,  -100,  -100,  -100,  -100,\n",
            "         -100,  -100,  -100,  -100,  -100,  -100,  -100,  -100,  -100,  -100,\n",
            "         -100,  -100,  -100,  -100,  -100,  -100,  -100,  -100,  -100,  -100,\n",
            "         -100,  -100,  -100,  -100,  -100,  -100,  -100,  -100,  -100,  -100,\n",
            "         -100,  -100,  -100,  -100,  -100,  -100,  -100,  -100,  -100,  -100,\n",
            "         -100,  -100,  -100,  -100,  -100,  -100,  -100,  -100,  -100,  -100,\n",
            "         -100,  -100,  -100,  -100,  -100,  -100,  -100,  -100,  -100,  -100,\n",
            "         -100,  -100,  -100,  -100,  -100,  -100,  -100,  -100,  -100,  -100,\n",
            "         -100,  -100,  -100,  -100,  -100,  -100,  -100,  -100,  -100,  -100,\n",
            "         -100,  -100,  -100,  -100,  -100,  -100,  -100,  -100,  -100,  -100,\n",
            "         -100,  -100,  -100,  -100,  -100,  -100,  -100,  -100,  -100,  -100,\n",
            "         -100,  -100,  -100,  -100,  -100,  -100,  -100,  -100,  -100,  -100,\n",
            "         -100,  -100,  -100,  -100,  -100,  -100,  -100,  -100,  -100,  -100,\n",
            "         -100,  -100,  -100,  -100,  -100,  -100,  -100,  -100,  -100,  -100,\n",
            "         -100,  -100,  -100,  -100,  -100,  -100,  -100,  -100,  -100,  -100,\n",
            "         -100,  -100,  -100,  -100,  -100,  -100,  -100,  -100,  -100,  -100,\n",
            "         -100,  -100,  -100,  -100,  -100,  -100,  -100,  -100,  -100,  -100,\n",
            "         -100,  -100,  -100,  -100,  -100,  -100,  -100,  -100,  -100,  -100,\n",
            "         -100,  -100,  -100,  -100,  -100,  -100,  -100,  -100,  -100,  -100,\n",
            "         -100,  -100,  -100,  -100,  -100,  -100,  -100,  -100,  -100,  -100,\n",
            "         -100,  -100,  -100,  -100,  -100,  -100,  -100,  -100,  -100,  -100,\n",
            "         -100,  -100,  -100,  -100,  -100,  -100,  -100,  -100,  -100,  -100,\n",
            "         -100,  -100,  -100,  -100,  -100,  -100,  -100,  -100,  -100,  -100,\n",
            "         -100,  -100,  -100,  -100,  -100,  -100,  -100,  -100,  -100,  -100],\n",
            "       device='cuda:0')\n"
          ]
        }
      ]
    },
    {
      "cell_type": "markdown",
      "source": [
        "# **Validation Dataset Encoding: passage, question, answer(input_ids,attention_mask)**"
      ],
      "metadata": {
        "id": "kfToUPyq41P3"
      }
    },
    {
      "cell_type": "code",
      "source": [
        "# Set a flag to track whether it's the first batch\n",
        "first_batch = True\n",
        "\n",
        "for batch in validation_dataloader:\n",
        "    # Move inputs and labels to the GPU\n",
        "    inputs = {key: value.to(device) for key, value in batch.items()}  # Using 'batch' directly\n",
        "\n",
        "    # Extract information for the first example in the batch\n",
        "    input_ids = inputs['input_ids'][0]\n",
        "    attention_mask = inputs['attention_mask'][0]\n",
        "    labels = inputs['labels'][0]\n",
        "\n",
        "\n",
        "    # Print information\n",
        "    print(\"Input IDs:\", input_ids)\n",
        "    print(\"Attention Mask:\", attention_mask)\n",
        "    print(\"Labels:\", labels)\n",
        "\n",
        "\n",
        "    # Break out of the loop after processing the first batch\n",
        "    break\n"
      ],
      "metadata": {
        "colab": {
          "base_uri": "https://localhost:8080/"
        },
        "id": "pAjwZ-Dv4jdy",
        "outputId": "fc5134bc-1f80-4206-db12-64209baf01e2"
      },
      "execution_count": null,
      "outputs": [
        {
          "output_type": "stream",
          "name": "stdout",
          "text": [
            "Input IDs: tensor([   259,  17710,   1198,  27421,  49307,  27724,   4790,   3918,    259,\n",
            "          1413,   6111,  90540,   4529,  18834,   3179,   7162,   2056,   2326,\n",
            "         36413,   2813,   6223,  14174,    259,  28676,  25099,   4377,  16844,\n",
            "         44912,  85790,    259,   1413,   6111,  90540,  27624,  15919,  12129,\n",
            "          8265,   2191,   2813,   6223,  14174,    259,   5288,   4821,  80821,\n",
            "         13916,  11736,   1198,   6946,  41498,   4142,   5998,   9977,  15398,\n",
            "          2592,   7419,  18834,  64659,  76632,  98029,    259,   5288,    259,\n",
            "         26470,    994,    259, 158221,  22383,   2141,   3019,    259,  40323,\n",
            "           259,  40323,   2996,  77981,   1276,  35532,  96403,    259,  13678,\n",
            "         14050,   3795,  12207,  36373,   4928, 145245,   1573,  74937,   8934,\n",
            "         20694,   3019,   4737,   3851,  60236,  17315,   4518,   5210,  20736,\n",
            "          1413,    259,   5288,  36373,   4928, 145245,  30849,   6173,  11692,\n",
            "         11736,    259,  11571,  10447,   9156,  11736,   5702, 225663,  85118,\n",
            "         23926,    259,  68620,  14258,   4399,   6373,   4377,  16844,  44912,\n",
            "         85790,    259, 103107, 178780, 129547,   2608,  25322,  99541,   3773,\n",
            "          8239,   4230,   1413,   5702, 225663,  85118,  23926,  21394,  62373,\n",
            "          6053,  74937,   8934,  17275,  16474,   9725,  22134,   2141,  14106,\n",
            "          2496,    259, 122435, 175211,  10651,    259,   6713,   5995,   5075,\n",
            "         44426,   3912,  11736,   1198,  36373,   4928, 145245,   3717,   1244,\n",
            "         68620,   5702,   7080,  51507, 145245,   1573,   6946,   4151,   3717,\n",
            "         11421,  11571,   5495,   2402, 145245,   3717,  26549,   4377,  16844,\n",
            "         44912,  85790,    259, 103107, 214029,   6957, 102650,   3198,   2592,\n",
            "         44834,  11589,    259,   8145,  47917,  79865,   1413,   2141,  11965,\n",
            "          3019,   6373,  52690,   6803,  49972,  35852,   8475,      1,   4821,\n",
            "         80821,  13916,  11736,   1198,   6946,  41498,   4142,   5998,   9977,\n",
            "         15398,   2592,   7419,  18834,  64659,  76632,  98029,    259,   5288,\n",
            "           259,  26470,    994,    259, 158221,  22383,   2141,   3019,    259,\n",
            "         72061,   2996,  77981,   1276,  35532,  96403,      1],\n",
            "       device='cuda:0')\n",
            "Attention Mask: tensor([1, 1, 1, 1, 1, 1, 1, 1, 1, 1, 1, 1, 1, 1, 1, 1, 1, 1, 1, 1, 1, 1, 1, 1,\n",
            "        1, 1, 1, 1, 1, 1, 1, 1, 1, 1, 1, 1, 1, 1, 1, 1, 1, 1, 1, 1, 1, 1, 1, 1,\n",
            "        1, 1, 1, 1, 1, 1, 1, 1, 1, 1, 1, 1, 1, 1, 1, 1, 1, 1, 1, 1, 1, 1, 1, 1,\n",
            "        1, 1, 1, 1, 1, 1, 1, 1, 1, 1, 1, 1, 1, 1, 1, 1, 1, 1, 1, 1, 1, 1, 1, 1,\n",
            "        1, 1, 1, 1, 1, 1, 1, 1, 1, 1, 1, 1, 1, 1, 1, 1, 1, 1, 1, 1, 1, 1, 1, 1,\n",
            "        1, 1, 1, 1, 1, 1, 1, 1, 1, 1, 1, 1, 1, 1, 1, 1, 1, 1, 1, 1, 1, 1, 1, 1,\n",
            "        1, 1, 1, 1, 1, 1, 1, 1, 1, 1, 1, 1, 1, 1, 1, 1, 1, 1, 1, 1, 1, 1, 1, 1,\n",
            "        1, 1, 1, 1, 1, 1, 1, 1, 1, 1, 1, 1, 1, 1, 1, 1, 1, 1, 1, 1, 1, 1, 1, 1,\n",
            "        1, 1, 1, 1, 1, 1, 1, 1, 1, 1, 1, 1, 1, 1, 1, 1, 1, 1, 1, 1, 1, 1, 1, 1,\n",
            "        1, 1, 1, 1, 1, 1, 1, 1, 1, 1, 1, 1, 1, 1, 1, 1, 1, 1, 1, 1, 1, 1, 1, 1,\n",
            "        1, 1, 1, 1, 1, 1, 1, 1, 1, 1], device='cuda:0')\n",
            "Labels: tensor([  259, 40323,   259, 40323,     1,  -100,  -100,  -100,  -100,  -100,\n",
            "         -100,  -100,  -100,  -100,  -100,  -100,  -100,  -100,  -100,  -100,\n",
            "         -100,  -100,  -100,  -100,  -100,  -100,  -100,  -100,  -100,  -100,\n",
            "         -100,  -100,  -100,  -100,  -100,  -100,  -100,  -100,  -100,  -100,\n",
            "         -100,  -100,  -100,  -100,  -100,  -100,  -100,  -100,  -100,  -100,\n",
            "         -100,  -100,  -100,  -100,  -100,  -100,  -100,  -100,  -100,  -100,\n",
            "         -100,  -100,  -100,  -100,  -100,  -100,  -100,  -100,  -100,  -100,\n",
            "         -100,  -100,  -100,  -100,  -100,  -100,  -100,  -100,  -100,  -100,\n",
            "         -100,  -100,  -100,  -100,  -100,  -100,  -100,  -100,  -100,  -100,\n",
            "         -100,  -100,  -100,  -100,  -100,  -100,  -100,  -100,  -100,  -100,\n",
            "         -100,  -100,  -100,  -100,  -100,  -100,  -100,  -100,  -100,  -100,\n",
            "         -100,  -100,  -100,  -100,  -100,  -100,  -100,  -100,  -100,  -100,\n",
            "         -100,  -100,  -100,  -100,  -100,  -100,  -100,  -100,  -100,  -100,\n",
            "         -100,  -100,  -100,  -100,  -100,  -100,  -100,  -100,  -100,  -100,\n",
            "         -100,  -100,  -100,  -100,  -100,  -100,  -100,  -100,  -100,  -100,\n",
            "         -100,  -100,  -100,  -100,  -100,  -100,  -100,  -100,  -100,  -100,\n",
            "         -100,  -100,  -100,  -100,  -100,  -100,  -100,  -100,  -100,  -100,\n",
            "         -100,  -100,  -100,  -100,  -100,  -100,  -100,  -100,  -100,  -100,\n",
            "         -100,  -100,  -100,  -100,  -100,  -100,  -100,  -100,  -100,  -100,\n",
            "         -100,  -100,  -100,  -100,  -100,  -100,  -100,  -100,  -100,  -100,\n",
            "         -100,  -100,  -100,  -100,  -100,  -100,  -100,  -100,  -100,  -100,\n",
            "         -100,  -100,  -100,  -100,  -100,  -100,  -100,  -100,  -100,  -100,\n",
            "         -100,  -100,  -100,  -100,  -100,  -100,  -100,  -100,  -100,  -100,\n",
            "         -100,  -100,  -100,  -100,  -100,  -100,  -100,  -100,  -100,  -100,\n",
            "         -100,  -100,  -100,  -100,  -100,  -100,  -100,  -100,  -100,  -100],\n",
            "       device='cuda:0')\n"
          ]
        }
      ]
    },
    {
      "cell_type": "markdown",
      "source": [
        "# **Test Dataset Encoding: passage, question, answer(input_ids,attention_mask)**\n"
      ],
      "metadata": {
        "id": "Qc8lw3SU5EWt"
      }
    },
    {
      "cell_type": "code",
      "source": [
        "# Set a flag to track whether it's the first batch\n",
        "first_batch = True\n",
        "\n",
        "for batch in test_dataloader:\n",
        "    # Move inputs and labels to the GPU\n",
        "    inputs = {key: value.to(device) for key, value in batch.items()}  # Using 'batch' directly\n",
        "\n",
        "    # Extract information for the first example in the batch\n",
        "    input_ids = inputs['input_ids'][0]\n",
        "    attention_mask = inputs['attention_mask'][0]\n",
        "    labels = inputs['labels'][0]\n",
        "\n",
        "\n",
        "    # Print information\n",
        "    print(\"Input IDs:\", input_ids)\n",
        "    print(\"Attention Mask:\", attention_mask)\n",
        "    print(\"Labels:\", labels)\n",
        "\n",
        "\n",
        "    # Break out of the loop after processing the first batch\n",
        "    break\n"
      ],
      "metadata": {
        "id": "x37AZmBx49kl",
        "colab": {
          "base_uri": "https://localhost:8080/"
        },
        "outputId": "a27dfbe2-02b8-4627-8ffb-7c96bc8f6e18"
      },
      "execution_count": null,
      "outputs": [
        {
          "output_type": "stream",
          "name": "stdout",
          "text": [
            "Input IDs: tensor([   259,  34405,  18952,  31193,   1198,    259,  10684,   2337,   1433,\n",
            "         25396,  18497,   2326,  32281,   2912,  11977,    994,   1433,   3279,\n",
            "           259, 107443,   1276,   2813,  53368,  29581,   3873,   5433,  15285,\n",
            "          2056,  35471,   3491,  63667,  18883,   1807,   1413,   7725,   1276,\n",
            "         96094,   6373,   4230,   3795,   3279,   2191,  17103,   7806,   1807,\n",
            "          2326,   1573,    259,  13828,   3179,  56402,  48310,  21508,  20494,\n",
            "          2056,    259, 146629,   1198,  63198,  80651,  34592,   3179,  56402,\n",
            "         48310,  21508,   1244,   4790,   3088,    994,    259,   8909,    259,\n",
            "         17710,   1198,   3795,   3019,  19564,   3279,   4928,  21651,   5163,\n",
            "          4555,   5495,  42133,  42305,   5998,   3148,  15741, 226368,  95082,\n",
            "         28247,   2996,   4142,   2402,  49670,    259, 146629,   3532,  20736,\n",
            "          1413,   5998,  16203,   4555,    259,  48291,   4737,   1413,   1244,\n",
            "         51981,    994,    259,  16715,   1198,   3154,  12291,   2996,   4151,\n",
            "        159001,   3088,   7589,  14606,  27616,  57843,   2056,   4737,  33587,\n",
            "          3532,  17103,   7806,   1807,   2326,   2496,   3179,  56402,  48310,\n",
            "         21508,  95581,   4399,   6803,  43769,   7162,    259,   8909,    259,\n",
            "          1276,  53227,   9598, 106695,   2996,  32525,  17589,    259,   5399,\n",
            "          5433,  40745,   6016,   1573,    259,  17710,  18883,   1807,  19564,\n",
            "          9051,   1413,  15741, 226368,  95082,  28247,    259,  74487, 221005,\n",
            "          8145,  34592,  11897,   1573,    259,  13828,   1244,   1807,   3170,\n",
            "          6544,  44714,   2484,    259,  41644,  22556,   2207,   1433,  20480,\n",
            "         34716,   2141,    259,  52540,   1573,    259,  13828,      1,    259,\n",
            "         34405,  18952,  31193,   1198,  24034,  14525,   1433,  25396,  18497,\n",
            "          2326,  32281,   2912,  11977,    994,   1433,   3279,    259, 107443,\n",
            "          1276,   2813,  53368,  29581,   3873,   5433,  15285,   2056,  35471,\n",
            "          3491,  63667,  18883,   1807,   1413,   7725,   1276,  96094,      1,\n",
            "             0,      0,      0,      0,      0,      0,      0,      0,      0,\n",
            "             0,      0,      0,      0,      0,      0,      0],\n",
            "       device='cuda:0')\n",
            "Attention Mask: tensor([1, 1, 1, 1, 1, 1, 1, 1, 1, 1, 1, 1, 1, 1, 1, 1, 1, 1, 1, 1, 1, 1, 1, 1,\n",
            "        1, 1, 1, 1, 1, 1, 1, 1, 1, 1, 1, 1, 1, 1, 1, 1, 1, 1, 1, 1, 1, 1, 1, 1,\n",
            "        1, 1, 1, 1, 1, 1, 1, 1, 1, 1, 1, 1, 1, 1, 1, 1, 1, 1, 1, 1, 1, 1, 1, 1,\n",
            "        1, 1, 1, 1, 1, 1, 1, 1, 1, 1, 1, 1, 1, 1, 1, 1, 1, 1, 1, 1, 1, 1, 1, 1,\n",
            "        1, 1, 1, 1, 1, 1, 1, 1, 1, 1, 1, 1, 1, 1, 1, 1, 1, 1, 1, 1, 1, 1, 1, 1,\n",
            "        1, 1, 1, 1, 1, 1, 1, 1, 1, 1, 1, 1, 1, 1, 1, 1, 1, 1, 1, 1, 1, 1, 1, 1,\n",
            "        1, 1, 1, 1, 1, 1, 1, 1, 1, 1, 1, 1, 1, 1, 1, 1, 1, 1, 1, 1, 1, 1, 1, 1,\n",
            "        1, 1, 1, 1, 1, 1, 1, 1, 1, 1, 1, 1, 1, 1, 1, 1, 1, 1, 1, 1, 1, 1, 1, 1,\n",
            "        1, 1, 1, 1, 1, 1, 1, 1, 1, 1, 1, 1, 1, 1, 1, 1, 1, 1, 1, 1, 1, 1, 1, 1,\n",
            "        1, 1, 1, 1, 1, 1, 1, 1, 1, 1, 1, 1, 1, 1, 1, 1, 1, 1, 0, 0, 0, 0, 0, 0,\n",
            "        0, 0, 0, 0, 0, 0, 0, 0, 0, 0], device='cuda:0')\n",
            "Labels: tensor([  259, 10684,  2337,     1,  -100,  -100,  -100,  -100,  -100,  -100,\n",
            "         -100,  -100,  -100,  -100,  -100,  -100,  -100,  -100,  -100,  -100,\n",
            "         -100,  -100,  -100,  -100,  -100,  -100,  -100,  -100,  -100,  -100,\n",
            "         -100,  -100,  -100,  -100,  -100,  -100,  -100,  -100,  -100,  -100,\n",
            "         -100,  -100,  -100,  -100,  -100,  -100,  -100,  -100,  -100,  -100,\n",
            "         -100,  -100,  -100,  -100,  -100,  -100,  -100,  -100,  -100,  -100,\n",
            "         -100,  -100,  -100,  -100,  -100,  -100,  -100,  -100,  -100,  -100,\n",
            "         -100,  -100,  -100,  -100,  -100,  -100,  -100,  -100,  -100,  -100,\n",
            "         -100,  -100,  -100,  -100,  -100,  -100,  -100,  -100,  -100,  -100,\n",
            "         -100,  -100,  -100,  -100,  -100,  -100,  -100,  -100,  -100,  -100,\n",
            "         -100,  -100,  -100,  -100,  -100,  -100,  -100,  -100,  -100,  -100,\n",
            "         -100,  -100,  -100,  -100,  -100,  -100,  -100,  -100,  -100,  -100,\n",
            "         -100,  -100,  -100,  -100,  -100,  -100,  -100,  -100,  -100,  -100,\n",
            "         -100,  -100,  -100,  -100,  -100,  -100,  -100,  -100,  -100,  -100,\n",
            "         -100,  -100,  -100,  -100,  -100,  -100,  -100,  -100,  -100,  -100,\n",
            "         -100,  -100,  -100,  -100,  -100,  -100,  -100,  -100,  -100,  -100,\n",
            "         -100,  -100,  -100,  -100,  -100,  -100,  -100,  -100,  -100,  -100,\n",
            "         -100,  -100,  -100,  -100,  -100,  -100,  -100,  -100,  -100,  -100,\n",
            "         -100,  -100,  -100,  -100,  -100,  -100,  -100,  -100,  -100,  -100,\n",
            "         -100,  -100,  -100,  -100,  -100,  -100,  -100,  -100,  -100,  -100,\n",
            "         -100,  -100,  -100,  -100,  -100,  -100,  -100,  -100,  -100,  -100,\n",
            "         -100,  -100,  -100,  -100,  -100,  -100,  -100,  -100,  -100,  -100,\n",
            "         -100,  -100,  -100,  -100,  -100,  -100,  -100,  -100,  -100,  -100,\n",
            "         -100,  -100,  -100,  -100,  -100,  -100,  -100,  -100,  -100,  -100,\n",
            "         -100,  -100,  -100,  -100,  -100,  -100,  -100,  -100,  -100,  -100],\n",
            "       device='cuda:0')\n"
          ]
        }
      ]
    },
    {
      "cell_type": "markdown",
      "source": [
        "# **Train Dataset Decoding: passage, question, and answer**\n",
        "* converting the tensor values to human-readable tokens"
      ],
      "metadata": {
        "id": "AE83EYmQ5eqi"
      }
    },
    {
      "cell_type": "code",
      "source": [
        "# Set a flag to track whether it's the first batch\n",
        "first_batch = True\n",
        "\n",
        "for batch in train_dataloader:\n",
        "    # Move inputs and labels to the GPU\n",
        "    inputs = {key: value.to(device) for key, value in batch.items()}\n",
        "\n",
        "    # Extract information for the first example in the batch\n",
        "    input_ids = inputs['input_ids'][0]\n",
        "    attention_mask = inputs['attention_mask'][0]\n",
        "    labels = inputs['labels'][0]\n",
        "\n",
        "\n",
        "    # Check for problematic token IDs causing overflow error during decoding\n",
        "    problematic_ids = torch.nonzero((input_ids < 0) | (input_ids >= tokenizer.vocab_size))\n",
        "    if problematic_ids.numel() > 0:\n",
        "        print(\"Problematic Token IDs:\", input_ids[problematic_ids])\n",
        "        print(\"Problematic Token Positions:\", problematic_ids)\n",
        "        # Handle the problematic input IDs as needed\n",
        "        raise ValueError(\"Problematic token IDs detected\")\n",
        "\n",
        "    # Decode and print input text\n",
        "    decoded_input_text = tokenizer.decode(input_ids.clamp(0, tokenizer.vocab_size - 1), skip_special_tokens=True)\n",
        "    print(\"Decoded Input Text:\", decoded_input_text)\n",
        "    print(\"Attention Mask:\", attention_mask)\n",
        "\n",
        "    # Decode and print labels\n",
        "    decoded_labels = tokenizer.decode(labels.clamp(0, tokenizer.vocab_size - 1), skip_special_tokens=True)\n",
        "    print(\"Labels:\", decoded_labels)\n",
        "\n",
        "\n",
        "\n",
        "    # Break out of the loop after processing the first batch\n",
        "    break\n"
      ],
      "metadata": {
        "id": "ncryBE3bKkZ2",
        "colab": {
          "base_uri": "https://localhost:8080/"
        },
        "outputId": "9d7bada0-23a4-4e33-e143-edb0cf76a661"
      },
      "execution_count": null,
      "outputs": [
        {
          "output_type": "stream",
          "name": "stdout",
          "text": [
            "Decoded Input Text: হোসেন শহীদ সোহরাওয়ার্দী দেখা করলেন শরৎচন্দ্র বসুর কংগ্রেসের ওয়ার্কিং কমিটির সদস্য পেশায় ব্যারিস্টার সঙ্গে দুজনেই অবিভক্ত বাংলার ব্যাপারে একমত হলেন কিন্তু বাদ সাধলেন মোহনদাস করমচাঁদ গান্ধী এবং কংগ্রেসের অন্য সদস্যরা ভারত ভাগ হলো ভাষার ভিত্তিতে নয় ধর্মের ভিত্তিতে দুজনেই অবিভক্ত বাংলার ব্যাপারে কি হলেন\n",
            "Attention Mask: tensor([1, 1, 1, 1, 1, 1, 1, 1, 1, 1, 1, 1, 1, 1, 1, 1, 1, 1, 1, 1, 1, 1, 1, 1,\n",
            "        1, 1, 1, 1, 1, 1, 1, 1, 1, 1, 1, 1, 1, 1, 1, 1, 1, 1, 1, 1, 1, 1, 1, 1,\n",
            "        1, 1, 1, 1, 1, 1, 1, 1, 1, 1, 1, 1, 1, 1, 1, 1, 1, 1, 1, 1, 1, 1, 1, 1,\n",
            "        1, 1, 1, 1, 1, 1, 1, 1, 1, 1, 1, 1, 1, 1, 1, 1, 1, 1, 1, 1, 1, 1, 1, 1,\n",
            "        1, 1, 1, 1, 1, 1, 1, 1, 1, 1, 1, 1, 1, 1, 1, 1, 1, 1, 1, 1, 1, 1, 1, 1,\n",
            "        0, 0, 0, 0, 0, 0, 0, 0, 0, 0, 0, 0, 0, 0, 0, 0, 0, 0, 0, 0, 0, 0, 0, 0,\n",
            "        0, 0, 0, 0, 0, 0, 0, 0, 0, 0, 0, 0, 0, 0, 0, 0, 0, 0, 0, 0, 0, 0, 0, 0,\n",
            "        0, 0, 0, 0, 0, 0, 0, 0, 0, 0, 0, 0, 0, 0, 0, 0, 0, 0, 0, 0, 0, 0, 0, 0,\n",
            "        0, 0, 0, 0, 0, 0, 0, 0, 0, 0, 0, 0, 0, 0, 0, 0, 0, 0, 0, 0, 0, 0, 0, 0,\n",
            "        0, 0, 0, 0, 0, 0, 0, 0, 0, 0, 0, 0, 0, 0, 0, 0, 0, 0, 0, 0, 0, 0, 0, 0,\n",
            "        0, 0, 0, 0, 0, 0, 0, 0, 0, 0], device='cuda:0')\n",
            "Labels: একমত \n"
          ]
        }
      ]
    },
    {
      "cell_type": "markdown",
      "source": [
        "# **Validation Dataset Decoding: passage, question, and answer**\n",
        "* converting the tensor values to human-readable tokens"
      ],
      "metadata": {
        "id": "uGYnCURu94ri"
      }
    },
    {
      "cell_type": "code",
      "source": [
        "# Set a flag to track whether it's the first batch\n",
        "first_batch = True\n",
        "\n",
        "for batch in validation_dataloader:\n",
        "    # Move inputs and labels to the GPU\n",
        "    inputs = {key: value.to(device) for key, value in batch.items()}\n",
        "\n",
        "    # Extract information for the first example in the batch\n",
        "    input_ids = inputs['input_ids'][0]\n",
        "    attention_mask = inputs['attention_mask'][0]\n",
        "    labels = inputs['labels'][0]\n",
        "\n",
        "\n",
        "    # Check for problematic token IDs causing overflow error during decoding\n",
        "    problematic_ids = torch.nonzero((input_ids < 0) | (input_ids >= tokenizer.vocab_size))\n",
        "    if problematic_ids.numel() > 0:\n",
        "        print(\"Problematic Token IDs:\", input_ids[problematic_ids])\n",
        "        print(\"Problematic Token Positions:\", problematic_ids)\n",
        "        # Handle the problematic input IDs as needed\n",
        "        raise ValueError(\"Problematic token IDs detected\")\n",
        "\n",
        "    # Decode and print input text\n",
        "    decoded_input_text = tokenizer.decode(input_ids.clamp(0, tokenizer.vocab_size - 1), skip_special_tokens=True)\n",
        "    print(\"Decoded Input Text:\", decoded_input_text)\n",
        "    print(\"Attention Mask:\", attention_mask)\n",
        "\n",
        "    # Decode and print labels\n",
        "    decoded_labels = tokenizer.decode(labels.clamp(0, tokenizer.vocab_size - 1), skip_special_tokens=True)\n",
        "    print(\"Labels:\", decoded_labels)\n",
        "\n",
        "\n",
        "\n",
        "    # Break out of the loop after processing the first batch\n",
        "    break\n"
      ],
      "metadata": {
        "id": "NZl5TWzx93GT",
        "colab": {
          "base_uri": "https://localhost:8080/"
        },
        "outputId": "7421a777-bbfc-499d-ac35-5a3bc002ffdb"
      },
      "execution_count": null,
      "outputs": [
        {
          "output_type": "stream",
          "name": "stdout",
          "text": [
            "Decoded Input Text: মানুষের দ্বারা লিখিত ইতিহাস মাত্র কয়েক হাজার বছরের হলেও পৃথিবীর ইতিহাস ৪৬০ কোটি বছরের এই দীর্ঘ সময়ের পরিক্রমায় আমাদের জানা একমাত্র বসবাসযোগ্য এই গ্রহে বিচরণ করেছে লক্ষ লক্ষ প্রজাতির প্রাণী কিন্তু কালের মহাস্রোতে হারিয়ে গেছে তাদের ৯৯ শতাংশই এই মহাস্রোতের কিছু সময় ছিল যখন সময় চোরাবালিতে রূপ নেয় আর পৃথিবীর প্রাণীকূল অসহায়ের মতো সেই চোরাবালিতে চিরতরে হারিয়ে যায় নির্দিষ্ট করে বললে ইতিহাসে ঠিক পাঁচবার সময়ের মহাস্রোত এরূপ চোরাস্রোতে পরিণত হয়েছিল যে স্রোতগুলো পৃথিবীর প্রাণীবৈচিত্র্য একপ্রকার ধ্বংসই করে দিয়েছে আর গণবিলুপ্তির দীর্ঘ সময়ের পরিক্রমায় আমাদের জানা একমাত্র বসবাসযোগ্য এই গ্রহে বিচরণ করেছে কত প্রজাতির প্রাণী\n",
            "Attention Mask: tensor([1, 1, 1, 1, 1, 1, 1, 1, 1, 1, 1, 1, 1, 1, 1, 1, 1, 1, 1, 1, 1, 1, 1, 1,\n",
            "        1, 1, 1, 1, 1, 1, 1, 1, 1, 1, 1, 1, 1, 1, 1, 1, 1, 1, 1, 1, 1, 1, 1, 1,\n",
            "        1, 1, 1, 1, 1, 1, 1, 1, 1, 1, 1, 1, 1, 1, 1, 1, 1, 1, 1, 1, 1, 1, 1, 1,\n",
            "        1, 1, 1, 1, 1, 1, 1, 1, 1, 1, 1, 1, 1, 1, 1, 1, 1, 1, 1, 1, 1, 1, 1, 1,\n",
            "        1, 1, 1, 1, 1, 1, 1, 1, 1, 1, 1, 1, 1, 1, 1, 1, 1, 1, 1, 1, 1, 1, 1, 1,\n",
            "        1, 1, 1, 1, 1, 1, 1, 1, 1, 1, 1, 1, 1, 1, 1, 1, 1, 1, 1, 1, 1, 1, 1, 1,\n",
            "        1, 1, 1, 1, 1, 1, 1, 1, 1, 1, 1, 1, 1, 1, 1, 1, 1, 1, 1, 1, 1, 1, 1, 1,\n",
            "        1, 1, 1, 1, 1, 1, 1, 1, 1, 1, 1, 1, 1, 1, 1, 1, 1, 1, 1, 1, 1, 1, 1, 1,\n",
            "        1, 1, 1, 1, 1, 1, 1, 1, 1, 1, 1, 1, 1, 1, 1, 1, 1, 1, 1, 1, 1, 1, 1, 1,\n",
            "        1, 1, 1, 1, 1, 1, 1, 1, 1, 1, 1, 1, 1, 1, 1, 1, 1, 1, 1, 1, 1, 1, 1, 1,\n",
            "        1, 1, 1, 1, 1, 1, 1, 1, 1, 1], device='cuda:0')\n",
            "Labels: লক্ষ লক্ষ\n"
          ]
        }
      ]
    },
    {
      "cell_type": "markdown",
      "source": [
        "# **Test Dataset Decoding: passage, question, and answer**\n",
        "* converting the tensor values to human-readable tokens"
      ],
      "metadata": {
        "id": "xISLUwXb5iRy"
      }
    },
    {
      "cell_type": "code",
      "source": [
        "# Set a flag to track whether it's the first batch\n",
        "first_batch = True\n",
        "\n",
        "for batch in test_dataloader:\n",
        "    # Move inputs and labels to the GPU\n",
        "    inputs = {key: value.to(device) for key, value in batch.items()}\n",
        "\n",
        "    # Extract information for the first example in the batch\n",
        "    input_ids = inputs['input_ids'][0]\n",
        "    attention_mask = inputs['attention_mask'][0]\n",
        "    labels = inputs['labels'][0]\n",
        "\n",
        "\n",
        "    # Check for problematic token IDs causing overflow error during decoding\n",
        "    problematic_ids = torch.nonzero((input_ids < 0) | (input_ids >= tokenizer.vocab_size))\n",
        "    if problematic_ids.numel() > 0:\n",
        "        print(\"Problematic Token IDs:\", input_ids[problematic_ids])\n",
        "        print(\"Problematic Token Positions:\", problematic_ids)\n",
        "        # Handle the problematic input IDs as needed\n",
        "        raise ValueError(\"Problematic token IDs detected\")\n",
        "\n",
        "    # Decode and print input text\n",
        "    decoded_input_text = tokenizer.decode(input_ids.clamp(0, tokenizer.vocab_size - 1), skip_special_tokens=True)\n",
        "    print(\"Decoded Input Text:\", decoded_input_text)\n",
        "    print(\"Attention Mask:\", attention_mask)\n",
        "\n",
        "    # Decode and print labels\n",
        "    decoded_labels = tokenizer.decode(labels.clamp(0, tokenizer.vocab_size - 1), skip_special_tokens=True)\n",
        "    print(\"Labels:\", decoded_labels)\n",
        "\n",
        "\n",
        "    # Break out of the loop after processing the first batch\n",
        "    break\n"
      ],
      "metadata": {
        "id": "vqMHNm4G5g_K",
        "colab": {
          "base_uri": "https://localhost:8080/"
        },
        "outputId": "3bcca088-ec0c-492b-cee8-9561031f3487"
      },
      "execution_count": null,
      "outputs": [
        {
          "output_type": "stream",
          "name": "stdout",
          "text": [
            "Decoded Input Text: তৃতীয় বিশ্বের মধ্যম আয়ের দেশ হিসেবে বাংলাদেশে আজ প্রযুক্তির বহুমুখী উৎকর্ষ সাধন খুবই জরুরি আর সে কাজটি সম্ভব হতে পারে কম্পিউটার নামক যন্ত্রের সাহায্যে কম্পিউটার এখনাে সব মানুষের কাছে সহজসাধ্য হয়নি যেহেতু আমরা কম্পিউটারের প্রায় সকল যন্ত্রাংশই আমদানি করি তাই এক্ষেত্রে সরকারের বিশেষ প্রণোদনা দেয়া আবশ্যক তাছাড়া সম্ভব হলে কম্পিউটার ক্রয়বিক্রয়ে সব রকম ভ্যাট প্রত্যাহার করা উচিত যাতে মানুষ খুব সহজেই কম্পিউটারের সান্নিধ্যে আসতে পারে এবং তার জীবনকে উন্নত ও আধুনিক করে তুলতে পারে তৃতীয় বিশ্বের কেমন আয়ের দেশ হিসেবে বাংলাদেশে আজ প্রযুক্তির বহুমুখী উৎকর্ষ সাধন খুবই জরুরি\n",
            "Attention Mask: tensor([1, 1, 1, 1, 1, 1, 1, 1, 1, 1, 1, 1, 1, 1, 1, 1, 1, 1, 1, 1, 1, 1, 1, 1,\n",
            "        1, 1, 1, 1, 1, 1, 1, 1, 1, 1, 1, 1, 1, 1, 1, 1, 1, 1, 1, 1, 1, 1, 1, 1,\n",
            "        1, 1, 1, 1, 1, 1, 1, 1, 1, 1, 1, 1, 1, 1, 1, 1, 1, 1, 1, 1, 1, 1, 1, 1,\n",
            "        1, 1, 1, 1, 1, 1, 1, 1, 1, 1, 1, 1, 1, 1, 1, 1, 1, 1, 1, 1, 1, 1, 1, 1,\n",
            "        1, 1, 1, 1, 1, 1, 1, 1, 1, 1, 1, 1, 1, 1, 1, 1, 1, 1, 1, 1, 1, 1, 1, 1,\n",
            "        1, 1, 1, 1, 1, 1, 1, 1, 1, 1, 1, 1, 1, 1, 1, 1, 1, 1, 1, 1, 1, 1, 1, 1,\n",
            "        1, 1, 1, 1, 1, 1, 1, 1, 1, 1, 1, 1, 1, 1, 1, 1, 1, 1, 1, 1, 1, 1, 1, 1,\n",
            "        1, 1, 1, 1, 1, 1, 1, 1, 1, 1, 1, 1, 1, 1, 1, 1, 1, 1, 1, 1, 1, 1, 1, 1,\n",
            "        1, 1, 1, 1, 1, 1, 1, 1, 1, 1, 1, 1, 1, 1, 1, 1, 1, 1, 1, 1, 1, 1, 1, 1,\n",
            "        1, 1, 1, 1, 1, 1, 1, 1, 1, 1, 1, 1, 1, 1, 1, 1, 1, 1, 0, 0, 0, 0, 0, 0,\n",
            "        0, 0, 0, 0, 0, 0, 0, 0, 0, 0], device='cuda:0')\n",
            "Labels: মধ্যম\n"
          ]
        }
      ]
    },
    {
      "cell_type": "markdown",
      "source": [
        "# **Training Arguments**"
      ],
      "metadata": {
        "id": "EYQJfrWUCHZk"
      }
    },
    {
      "cell_type": "code",
      "source": [
        "from transformers import TrainingArguments\n",
        "from torch.optim import AdamW\n",
        "\n",
        "\n",
        "# Create a custom optimizer using torch.optim.AdamW\n",
        "custom_optimizer = AdamW(\n",
        "    model.parameters(),\n",
        "    lr=1e-3,  # Learning rate\n",
        "    eps=1e-8,  # Epsilon value to prevent division by zero\n",
        "    weight_decay=0.01,  # Weight decay (L2 regularization)\n",
        ")\n",
        "\n",
        "# Define the TrainingArguments for question answering\n",
        "training_args = TrainingArguments(\n",
        "    output_dir='/content/drive/MyDrive/QA_Dataset/mT5_QA',\n",
        "    num_train_epochs=3,\n",
        "    per_device_train_batch_size=1,\n",
        "    gradient_accumulation_steps=8,  # Accumulate gradients over 8 small batches\n",
        "    evaluation_strategy=\"steps\",\n",
        "    eval_steps=500,\n",
        "    save_total_limit=2,\n",
        "    save_steps=500,\n",
        "    learning_rate=1e-3,\n",
        "    do_train=True,\n",
        "    do_eval=True,\n",
        "    remove_unused_columns=False,\n",
        "    push_to_hub=False,\n",
        "    report_to=\"none\",\n",
        "    load_best_model_at_end=True,\n",
        "    lr_scheduler_type=\"cosine_with_restarts\",  # Setting the learning rate scheduler type\n",
        "    warmup_steps=100,  # Number of warmup steps\n",
        "    weight_decay=0.01,  # Weight decay (L2 regularization)\n",
        "    logging_dir='/content/drive/MyDrive/QA_Dataset/mT5_QA',  # Using the same directory for logs\n",
        "    logging_steps=500,  # Log every 500 steps\n",
        ")\n"
      ],
      "metadata": {
        "id": "s05ZdN7jQWjd"
      },
      "execution_count": null,
      "outputs": []
    },
    {
      "cell_type": "markdown",
      "source": [
        "# **Custom Data Collator for Question Answering**\n",
        "* A custom data collator for question answering is used to handle the specific data formatting required for training models on question answering tasks. It facilitates the processing of input data into a format suitable for model training by performing tasks such as padding, truncation, and organizing inputs and labels for the QA model."
      ],
      "metadata": {
        "id": "BAB7Zx0ECNd0"
      }
    },
    {
      "cell_type": "code",
      "source": [
        "import torch\n",
        "import torch.nn.functional as F\n",
        "from transformers import DataCollatorForSeq2Seq\n",
        "\n",
        "class CustomDataCollatorForSeq2Seq(DataCollatorForSeq2Seq):\n",
        "    def __call__(self, features):\n",
        "        batch = super().__call__(features)\n",
        "\n",
        "        # Find the maximum length of labels in the batch\n",
        "        max_label_length = max(feature[\"labels\"].shape[-1] for feature in features)\n",
        "\n",
        "        # Pad or truncate the \"labels\" arrays to have the same length\n",
        "        batch[\"labels\"] = torch.stack([\n",
        "            F.pad(torch.as_tensor(feature[\"labels\"]), (0, max_label_length - feature[\"labels\"].shape[-1]), value=-100)\n",
        "            for feature in features\n",
        "        ])\n",
        "\n",
        "        return batch\n",
        "\n",
        "\n",
        "\n",
        "\n",
        "# Creating a data collator using the custom collator\n",
        "data_collator = CustomDataCollatorForSeq2Seq(\n",
        "    tokenizer=tokenizer,\n",
        "    model=model,\n",
        "    padding=True,\n",
        "    max_length=250,\n",
        "    label_pad_token_id=tokenizer.pad_token_id,\n",
        "    pad_to_multiple_of=8  # Ensuring the sequence length is a multiple of 8 (adjust as needed)\n",
        ")"
      ],
      "metadata": {
        "id": "MPN_-QElRGaN"
      },
      "execution_count": null,
      "outputs": []
    },
    {
      "cell_type": "markdown",
      "source": [
        "# **Trainer**\n",
        "'''The trainer package provides utilities to write re-usable training scripts. The core idea is to use a trainer that implements a nested loop, where the outer loop runs the data collection steps and the inner loop the optimization steps.'''"
      ],
      "metadata": {
        "id": "wfj79KgmCYgZ"
      }
    },
    {
      "cell_type": "code",
      "source": [
        "from transformers import Trainer\n",
        "# Define the Trainer with the custom optimizer\n",
        "trainer = Trainer(\n",
        "    model=model,\n",
        "    args=training_args,\n",
        "    data_collator=data_collator,\n",
        "    train_dataset=train_dataset,\n",
        "    eval_dataset=validation_dataset,\n",
        "    optimizers=(custom_optimizer, None),  # Passing the custom optimizer here\n",
        ")\n"
      ],
      "metadata": {
        "id": "ulNKjX01B2dx"
      },
      "execution_count": null,
      "outputs": []
    },
    {
      "cell_type": "markdown",
      "source": [
        "# **Training Starts Here**"
      ],
      "metadata": {
        "id": "vDgD7RhsCuK8"
      }
    },
    {
      "cell_type": "code",
      "source": [
        "# Fine-tune the model\n",
        "trainer.train()"
      ],
      "metadata": {
        "id": "hWnTx86Z0Lgt",
        "colab": {
          "base_uri": "https://localhost:8080/",
          "height": 331
        },
        "outputId": "7e728341-56d1-46db-b99e-dc5cc64da6d3"
      },
      "execution_count": null,
      "outputs": [
        {
          "output_type": "stream",
          "name": "stderr",
          "text": [
            "You're using a T5TokenizerFast tokenizer. Please note that with a fast tokenizer, using the `__call__` method is faster than using a method to encode the text followed by a call to the `pad` method to get a padded encoding.\n",
            "/usr/local/lib/python3.10/dist-packages/transformers/tokenization_utils_base.py:2632: UserWarning: `max_length` is ignored when `padding`=`True` and there is no truncation strategy. To pad to max length, use `padding='max_length'`.\n",
            "  warnings.warn(\n"
          ]
        },
        {
          "output_type": "display_data",
          "data": {
            "text/plain": [
              "<IPython.core.display.HTML object>"
            ],
            "text/html": [
              "\n",
              "    <div>\n",
              "      \n",
              "      <progress value='1089' max='1089' style='width:300px; height:20px; vertical-align: middle;'></progress>\n",
              "      [1089/1089 24:57, Epoch 2/3]\n",
              "    </div>\n",
              "    <table border=\"1\" class=\"dataframe\">\n",
              "  <thead>\n",
              " <tr style=\"text-align: left;\">\n",
              "      <th>Step</th>\n",
              "      <th>Training Loss</th>\n",
              "      <th>Validation Loss</th>\n",
              "    </tr>\n",
              "  </thead>\n",
              "  <tbody>\n",
              "    <tr>\n",
              "      <td>500</td>\n",
              "      <td>4.921600</td>\n",
              "      <td>0.267806</td>\n",
              "    </tr>\n",
              "    <tr>\n",
              "      <td>1000</td>\n",
              "      <td>0.258400</td>\n",
              "      <td>0.187628</td>\n",
              "    </tr>\n",
              "  </tbody>\n",
              "</table><p>"
            ]
          },
          "metadata": {}
        },
        {
          "output_type": "stream",
          "name": "stderr",
          "text": [
            "/usr/local/lib/python3.10/dist-packages/transformers/tokenization_utils_base.py:2632: UserWarning: `max_length` is ignored when `padding`=`True` and there is no truncation strategy. To pad to max length, use `padding='max_length'`.\n",
            "  warnings.warn(\n",
            "/usr/local/lib/python3.10/dist-packages/transformers/tokenization_utils_base.py:2632: UserWarning: `max_length` is ignored when `padding`=`True` and there is no truncation strategy. To pad to max length, use `padding='max_length'`.\n",
            "  warnings.warn(\n",
            "There were missing keys in the checkpoint model loaded: ['encoder.embed_tokens.weight', 'decoder.embed_tokens.weight'].\n"
          ]
        },
        {
          "output_type": "execute_result",
          "data": {
            "text/plain": [
              "TrainOutput(global_step=1089, training_loss=2.3951654740710997, metrics={'train_runtime': 1499.5818, 'train_samples_per_second': 5.816, 'train_steps_per_second': 0.726, 'total_flos': 2303233653473280.0, 'train_loss': 2.3951654740710997, 'epoch': 3.0})"
            ]
          },
          "metadata": {},
          "execution_count": 213
        }
      ]
    },
    {
      "cell_type": "markdown",
      "source": [
        "# **Saving model and tokenizer**"
      ],
      "metadata": {
        "id": "ZdZyvt5cEy6a"
      }
    },
    {
      "cell_type": "code",
      "source": [
        "# Save the model\n",
        "model.save_pretrained('/content/drive/MyDrive/QA_Dataset/mT5_QA/Bangla_QA_mT5_Model.pt')\n",
        "\n",
        "# Save the tokenizer\n",
        "tokenizer.save_pretrained('/content/drive/MyDrive/QA_Dataset/mT5_QA/Bangla_QA_mT5_Tokenizer.json')\n"
      ],
      "metadata": {
        "id": "_UJZf2AcEwTF",
        "colab": {
          "base_uri": "https://localhost:8080/"
        },
        "outputId": "24fd79f8-47ac-4970-a2e2-bcdae85c1b47"
      },
      "execution_count": null,
      "outputs": [
        {
          "output_type": "execute_result",
          "data": {
            "text/plain": [
              "('/content/drive/MyDrive/QA_Dataset/mT5_QA/Bangla_QA_mT5_Tokenizer.json/tokenizer_config.json',\n",
              " '/content/drive/MyDrive/QA_Dataset/mT5_QA/Bangla_QA_mT5_Tokenizer.json/special_tokens_map.json',\n",
              " '/content/drive/MyDrive/QA_Dataset/mT5_QA/Bangla_QA_mT5_Tokenizer.json/spiece.model',\n",
              " '/content/drive/MyDrive/QA_Dataset/mT5_QA/Bangla_QA_mT5_Tokenizer.json/added_tokens.json',\n",
              " '/content/drive/MyDrive/QA_Dataset/mT5_QA/Bangla_QA_mT5_Tokenizer.json/tokenizer.json')"
            ]
          },
          "metadata": {},
          "execution_count": 214
        }
      ]
    },
    {
      "cell_type": "markdown",
      "source": [
        "# **Loading trained model and tokenizer**"
      ],
      "metadata": {
        "id": "1krjJoQnE7Et"
      }
    },
    {
      "cell_type": "code",
      "source": [
        "from transformers import MT5ForConditionalGeneration, AutoTokenizer\n",
        "\n",
        "# Load the saved model\n",
        "model = MT5ForConditionalGeneration.from_pretrained('/content/drive/MyDrive/QA_Dataset/mT5_QA/Bangla_QA_mT5_Model.pt')\n",
        "\n",
        "# Load the tokenizer\n",
        "tokenizer = AutoTokenizer.from_pretrained('/content/drive/MyDrive/QA_Dataset/mT5_QA/Bangla_QA_mT5_Tokenizer.json')\n"
      ],
      "metadata": {
        "id": "mE1N8RUXE4xW"
      },
      "execution_count": null,
      "outputs": []
    },
    {
      "cell_type": "markdown",
      "source": [
        "# **Evaluation Metrics Installing**"
      ],
      "metadata": {
        "id": "3ltoIS1TjkUN"
      }
    },
    {
      "cell_type": "code",
      "source": [
        "!pip install evaluate"
      ],
      "metadata": {
        "id": "QDZ0V2x4jTnN",
        "colab": {
          "base_uri": "https://localhost:8080/"
        },
        "outputId": "fe7d756e-3e6a-4680-fe8e-9457b578f442"
      },
      "execution_count": null,
      "outputs": [
        {
          "output_type": "stream",
          "name": "stdout",
          "text": [
            "Requirement already satisfied: evaluate in /usr/local/lib/python3.10/dist-packages (0.4.1)\n",
            "Requirement already satisfied: datasets>=2.0.0 in /usr/local/lib/python3.10/dist-packages (from evaluate) (2.14.6)\n",
            "Requirement already satisfied: numpy>=1.17 in /usr/local/lib/python3.10/dist-packages (from evaluate) (1.23.5)\n",
            "Requirement already satisfied: dill in /usr/local/lib/python3.10/dist-packages (from evaluate) (0.3.7)\n",
            "Requirement already satisfied: pandas in /usr/local/lib/python3.10/dist-packages (from evaluate) (1.5.3)\n",
            "Requirement already satisfied: requests>=2.19.0 in /usr/local/lib/python3.10/dist-packages (from evaluate) (2.31.0)\n",
            "Requirement already satisfied: tqdm>=4.62.1 in /usr/local/lib/python3.10/dist-packages (from evaluate) (4.66.1)\n",
            "Requirement already satisfied: xxhash in /usr/local/lib/python3.10/dist-packages (from evaluate) (3.4.1)\n",
            "Requirement already satisfied: multiprocess in /usr/local/lib/python3.10/dist-packages (from evaluate) (0.70.15)\n",
            "Requirement already satisfied: fsspec>=2021.05.0 in /usr/local/lib/python3.10/dist-packages (from fsspec[http]>=2021.05.0->evaluate) (2023.6.0)\n",
            "Requirement already satisfied: huggingface-hub>=0.7.0 in /usr/local/lib/python3.10/dist-packages (from evaluate) (0.17.3)\n",
            "Requirement already satisfied: packaging in /usr/local/lib/python3.10/dist-packages (from evaluate) (23.2)\n",
            "Requirement already satisfied: responses<0.19 in /usr/local/lib/python3.10/dist-packages (from evaluate) (0.18.0)\n",
            "Requirement already satisfied: pyarrow>=8.0.0 in /usr/local/lib/python3.10/dist-packages (from datasets>=2.0.0->evaluate) (9.0.0)\n",
            "Requirement already satisfied: aiohttp in /usr/local/lib/python3.10/dist-packages (from datasets>=2.0.0->evaluate) (3.8.6)\n",
            "Requirement already satisfied: pyyaml>=5.1 in /usr/local/lib/python3.10/dist-packages (from datasets>=2.0.0->evaluate) (6.0.1)\n",
            "Requirement already satisfied: filelock in /usr/local/lib/python3.10/dist-packages (from huggingface-hub>=0.7.0->evaluate) (3.13.1)\n",
            "Requirement already satisfied: typing-extensions>=3.7.4.3 in /usr/local/lib/python3.10/dist-packages (from huggingface-hub>=0.7.0->evaluate) (4.5.0)\n",
            "Requirement already satisfied: charset-normalizer<4,>=2 in /usr/local/lib/python3.10/dist-packages (from requests>=2.19.0->evaluate) (3.3.2)\n",
            "Requirement already satisfied: idna<4,>=2.5 in /usr/local/lib/python3.10/dist-packages (from requests>=2.19.0->evaluate) (3.4)\n",
            "Requirement already satisfied: urllib3<3,>=1.21.1 in /usr/local/lib/python3.10/dist-packages (from requests>=2.19.0->evaluate) (2.0.7)\n",
            "Requirement already satisfied: certifi>=2017.4.17 in /usr/local/lib/python3.10/dist-packages (from requests>=2.19.0->evaluate) (2023.7.22)\n",
            "Requirement already satisfied: python-dateutil>=2.8.1 in /usr/local/lib/python3.10/dist-packages (from pandas->evaluate) (2.8.2)\n",
            "Requirement already satisfied: pytz>=2020.1 in /usr/local/lib/python3.10/dist-packages (from pandas->evaluate) (2023.3.post1)\n",
            "Requirement already satisfied: attrs>=17.3.0 in /usr/local/lib/python3.10/dist-packages (from aiohttp->datasets>=2.0.0->evaluate) (23.1.0)\n",
            "Requirement already satisfied: multidict<7.0,>=4.5 in /usr/local/lib/python3.10/dist-packages (from aiohttp->datasets>=2.0.0->evaluate) (6.0.4)\n",
            "Requirement already satisfied: async-timeout<5.0,>=4.0.0a3 in /usr/local/lib/python3.10/dist-packages (from aiohttp->datasets>=2.0.0->evaluate) (4.0.3)\n",
            "Requirement already satisfied: yarl<2.0,>=1.0 in /usr/local/lib/python3.10/dist-packages (from aiohttp->datasets>=2.0.0->evaluate) (1.9.2)\n",
            "Requirement already satisfied: frozenlist>=1.1.1 in /usr/local/lib/python3.10/dist-packages (from aiohttp->datasets>=2.0.0->evaluate) (1.4.0)\n",
            "Requirement already satisfied: aiosignal>=1.1.2 in /usr/local/lib/python3.10/dist-packages (from aiohttp->datasets>=2.0.0->evaluate) (1.3.1)\n",
            "Requirement already satisfied: six>=1.5 in /usr/local/lib/python3.10/dist-packages (from python-dateutil>=2.8.1->pandas->evaluate) (1.16.0)\n",
            "\u001b[33mWARNING: Running pip as the 'root' user can result in broken permissions and conflicting behaviour with the system package manager. It is recommended to use a virtual environment instead: https://pip.pypa.io/warnings/venv\u001b[0m\u001b[33m\n",
            "\u001b[0m"
          ]
        }
      ]
    },
    {
      "cell_type": "code",
      "source": [
        "!pip install sacrebleu"
      ],
      "metadata": {
        "id": "q9Fsi-fSjv8Q",
        "colab": {
          "base_uri": "https://localhost:8080/"
        },
        "outputId": "7416ec67-1979-426f-a086-43c3912f71ff"
      },
      "execution_count": null,
      "outputs": [
        {
          "output_type": "stream",
          "name": "stdout",
          "text": [
            "Requirement already satisfied: sacrebleu in /usr/local/lib/python3.10/dist-packages (2.3.2)\n",
            "Requirement already satisfied: portalocker in /usr/local/lib/python3.10/dist-packages (from sacrebleu) (2.8.2)\n",
            "Requirement already satisfied: regex in /usr/local/lib/python3.10/dist-packages (from sacrebleu) (2023.6.3)\n",
            "Requirement already satisfied: tabulate>=0.8.9 in /usr/local/lib/python3.10/dist-packages (from sacrebleu) (0.9.0)\n",
            "Requirement already satisfied: numpy>=1.17 in /usr/local/lib/python3.10/dist-packages (from sacrebleu) (1.23.5)\n",
            "Requirement already satisfied: colorama in /usr/local/lib/python3.10/dist-packages (from sacrebleu) (0.4.6)\n",
            "Requirement already satisfied: lxml in /usr/local/lib/python3.10/dist-packages (from sacrebleu) (4.9.3)\n",
            "\u001b[33mWARNING: Running pip as the 'root' user can result in broken permissions and conflicting behaviour with the system package manager. It is recommended to use a virtual environment instead: https://pip.pypa.io/warnings/venv\u001b[0m\u001b[33m\n",
            "\u001b[0m"
          ]
        }
      ]
    },
    {
      "cell_type": "code",
      "source": [
        "!pip install rouge_score"
      ],
      "metadata": {
        "id": "AssfmZs_jwDZ",
        "colab": {
          "base_uri": "https://localhost:8080/"
        },
        "outputId": "7972a851-40c7-41c1-a096-a6f6ac5f9ac3"
      },
      "execution_count": null,
      "outputs": [
        {
          "output_type": "stream",
          "name": "stdout",
          "text": [
            "Requirement already satisfied: rouge_score in /usr/local/lib/python3.10/dist-packages (0.1.2)\n",
            "Requirement already satisfied: absl-py in /usr/local/lib/python3.10/dist-packages (from rouge_score) (1.4.0)\n",
            "Requirement already satisfied: nltk in /usr/local/lib/python3.10/dist-packages (from rouge_score) (3.8.1)\n",
            "Requirement already satisfied: numpy in /usr/local/lib/python3.10/dist-packages (from rouge_score) (1.23.5)\n",
            "Requirement already satisfied: six>=1.14.0 in /usr/local/lib/python3.10/dist-packages (from rouge_score) (1.16.0)\n",
            "Requirement already satisfied: click in /usr/local/lib/python3.10/dist-packages (from nltk->rouge_score) (8.1.7)\n",
            "Requirement already satisfied: joblib in /usr/local/lib/python3.10/dist-packages (from nltk->rouge_score) (1.3.2)\n",
            "Requirement already satisfied: regex>=2021.8.3 in /usr/local/lib/python3.10/dist-packages (from nltk->rouge_score) (2023.6.3)\n",
            "Requirement already satisfied: tqdm in /usr/local/lib/python3.10/dist-packages (from nltk->rouge_score) (4.66.1)\n",
            "\u001b[33mWARNING: Running pip as the 'root' user can result in broken permissions and conflicting behaviour with the system package manager. It is recommended to use a virtual environment instead: https://pip.pypa.io/warnings/venv\u001b[0m\u001b[33m\n",
            "\u001b[0m"
          ]
        }
      ]
    },
    {
      "cell_type": "code",
      "source": [
        "!pip install jiwer"
      ],
      "metadata": {
        "id": "tDUhtuAo4xwy",
        "colab": {
          "base_uri": "https://localhost:8080/"
        },
        "outputId": "10522b0e-93be-4bed-ccf5-84f25289f222"
      },
      "execution_count": null,
      "outputs": [
        {
          "output_type": "stream",
          "name": "stdout",
          "text": [
            "Requirement already satisfied: jiwer in /usr/local/lib/python3.10/dist-packages (3.0.3)\n",
            "Requirement already satisfied: click<9.0.0,>=8.1.3 in /usr/local/lib/python3.10/dist-packages (from jiwer) (8.1.7)\n",
            "Requirement already satisfied: rapidfuzz<4,>=3 in /usr/local/lib/python3.10/dist-packages (from jiwer) (3.5.2)\n",
            "\u001b[33mWARNING: Running pip as the 'root' user can result in broken permissions and conflicting behaviour with the system package manager. It is recommended to use a virtual environment instead: https://pip.pypa.io/warnings/venv\u001b[0m\u001b[33m\n",
            "\u001b[0m"
          ]
        }
      ]
    },
    {
      "cell_type": "markdown",
      "source": [
        "# **Testing the model**"
      ],
      "metadata": {
        "id": "3zdztQmJ55iF"
      }
    },
    {
      "cell_type": "code",
      "source": [
        "decoded_predictions_batch = []\n",
        "decoded_references_batch = []\n",
        "\n",
        "# Loop through the test dataset and generate predictions\n",
        "for batch in test_dataloader:\n",
        "    inputs = batch['input_ids'].to('cuda')  # Move inputs to the 'cuda' device\n",
        "    labels = batch['labels'].to('cuda')  # Move labels to the 'cuda' device\n",
        "\n",
        "    # Ensuring the model, inputs, and labels are on the same device\n",
        "    model = model.to(inputs.device)\n",
        "\n",
        "    # Generating answers using our model\n",
        "    with torch.no_grad():\n",
        "        # Generating predictions\n",
        "        predictions = model.generate(inputs, max_length=250, num_beams=4, early_stopping=True)\n",
        "\n",
        "        # Decoding generated answers\n",
        "        try:\n",
        "            decoded_predictions_batch.extend(tokenizer.batch_decode(predictions.cpu(), skip_special_tokens=True))\n",
        "        except Exception as e:\n",
        "            print(\"Exception occurred during decoding (predictions):\", e)\n",
        "\n",
        "\n",
        "        # Decoding labels for references\n",
        "        try:\n",
        "            # Converting labels to a list of token IDs\n",
        "            labels_list = labels.cpu()\n",
        "             # Decoding each label sequence\n",
        "            decoded_references_batch.extend([tokenizer.decode(ids.clamp(0, tokenizer.vocab_size - 1), skip_special_tokens=True) for ids in labels_list])\n",
        "        except Exception as e:\n",
        "            print(\"Exception occurred during decoding (references):\", e)\n",
        "\n"
      ],
      "metadata": {
        "id": "vOu1CAF48v_O"
      },
      "execution_count": null,
      "outputs": []
    },
    {
      "cell_type": "code",
      "source": [
        "print(decoded_predictions_batch)"
      ],
      "metadata": {
        "colab": {
          "base_uri": "https://localhost:8080/"
        },
        "id": "UAsX3psxG5Aa",
        "outputId": "433f687b-1aac-40d1-d5d2-06a07ed71496"
      },
      "execution_count": null,
      "outputs": [
        {
          "output_type": "stream",
          "name": "stdout",
          "text": [
            "['মধ্যম', 'লড়াইতে', 'আন্দোলনকে', 'হাতপায়ের', 'ব্রিটিশ', 'জীবনীকার', '১৯৪৮', 'বাইরে', 'কারখানা ', 'চৌধুরী', 'সায়', 'যন্ত্রটি ', 'ইমাম', 'বিভক্ত', 'পূর্ব পাকিস্তান', 'রাস্তাঘাট', 'বাড়িতে', 'পদ্মার', 'রােগ প্রতিরােধ', 'আনুষ্ঠানিকভাবে', 'পাল্টাবেন', 'নিরাময়ে', 'নক্ষত্র', 'ধারণা', 'এক', 'কর্মীও', 'নতুন ', 'চিত্রা', 'ছােপ', 'আর্সেনিক', 'জনগণ', 'তিনটি', 'এটি', 'ভূমিকা', 'আলোর', 'সর্বদা ব্যাটসম্যানকে', 'অন্যান্য', 'শিলাইদহে', 'কথা', 'উচ্চ', 'পশ্চিমবঙ্গের', 'পুরোপুরি', 'মহাবিশ্বের', 'অগ্রহায়ণ', 'আয়ত্ত', 'তাপেও', '১৭৮২', 'অ্যাকাডেমি', 'একটা', 'স্টিমারে', 'আমেরিকা', 'সাফল্যের ', 'মাত্রা', 'এক', 'সরণ', 'পরিণত', 'ডিফারেন্সিয়াল', 'তিনটি', 'বন্দী', 'সম্ভব', 'দোয়েল', 'শহীদের', 'যুদ্ধে', 'কাজী ফকির আহমেদ', '১৯৭৫১৯৮৫', 'হোটেলের', 'ঋতুতে', 'ইংরেজ', 'পানি', 'পিরামিড', 'কয়েক', 'ইন্টারনেট', 'হীনযান', 'কম্পিউটারের ', 'মাস্ক', 'এসআইআর', 'উন্নত', 'শুরু', 'প্যারাডক্স', 'বিভিন্ন', 'বিশ্বভ্রমণে', 'ডিজে', 'কাব্যগ্রন্থ', 'সমাজ', 'উপাদান', 'উচ্চতর ', 'আন্দোলন', 'সবার ', 'তাঁর', 'বন্দরগুলােতে ', 'ফাটল গাছে', 'কবিতা', 'সাম্রাজ্যবাদের', 'সিস্টেম', 'কম্পিউটার ', 'গোপনে', '১৯৫১', 'শেষ', 'হেড পণ্ডিত', 'কৃষি', 'দুহাজার', 'রেহাই', 'তথ্য', '১৯৫৬', 'দু', 'রবীন্দ্রনাথ ঠাকুরের', 'জালিয়াত', 'মি অধিকারী', 'রােগ', 'প্রকট', 'গুণ', 'গতি', 'উদ্যোগের', 'ক্ষণিক', 'পরাবাস্তবের', 'সৈয়দ আহমদ', 'খ্যাত', '১৬ই', 'শব্দ ', 'উজ্জ্বল', 'একে ফজলুল হক', 'বিভিন্ন ', 'আইনজ্ঞ', 'আমেরিকায়', 'সেনাবাহিনীতে', 'অধিকাংশ', 'জোটবদ্ধ', 'কম্পিউটার ', 'বেশি', 'বাতিল', 'জাতিসংঘ', 'কম্পিউটার ', 'সেনাবাহিনীর', 'রক্তচাপের', 'পাকিস্তানের', 'অদ্ভূত', 'সোনার তরী', 'আধুনিক যুগ', 'বর্ধমান', 'মেঘনা', 'কম্পিউটার ', 'দেশের', 'বিদ্যাসাগর', 'জীবনকে', '১৯৭৫', 'কপর্দকহীন', 'বিস্ময় ', 'উপাধিতে', 'তিব্বতে', 'নির্ণয়', 'শিকার', 'প্রতিভার', 'স্টোর ', 'শেষের', '১৪৭৫৭০', 'সেনাবাহিনীর', 'অগাস্ট', 'একত্রিত', 'নাস্তিক', 'একুশ', '২১ ফেব্রুয়ারি', 'শীত', 'বেগ', 'শরৎকাল', 'তিনটি', 'শিল্পের ', 'জেনারেল আইয়ুব খান', 'সব', 'মুসলিম লীগ', '১৯২০', 'অক্টোবর', 'ক্রিকেট', 'প্রত্যক্ষভাবে', 'উড়িষ্যায়', 'মাধ্যমিক ', 'সমাজকল্যাণ', 'বিখ্যাত', 'বাবা', 'সোসাইটাজ', 'মানবতাবাদ রিলিজিয়ন', 'স্থানীয়', 'বড়', 'মহাজাগতিক', 'জনগণ', 'অফিসেই ', 'লেখায়', 'শিলাস্তরে', 'মাত্রার', 'প্রধানতম', 'এবিএম মুসা', 'পূর্ব ', 'আকাঙ্ক্ষা', 'নিকোলা টেসলা', 'পেছনে ', 'আওয়ামী লীগ', 'ইউরোপীয়', 'অন্যায়', 'মি সোহরাওয়ার্দী', 'আঁকায়', 'শুদ্ধানন্দ', 'ক্রয়বিক্রয়ে', 'আউটপুট ', '১৬', 'ইংল্যান্ডে', 'জটিল ', 'পৃথিবীতে', 'বিংশ', 'বড়', 'বাংলার', 'বিলুপ্তি', 'পৃথিবী', 'আবহাওয়া', 'সাফল্য', 'তথ্য', 'পৃথিবীর', 'কল্যাণ', 'সাহিত্যকর্মে', 'বহু', 'প্রকৌশলী ', 'অন্তর্মুখী', 'ফসল', 'রিপ ভ্যান উইংক্যাল', 'লমহার্স্ট', 'মতামত', 'বড়', '১০৫৩', 'সার্বিক', 'গণিত', 'ঔপনিবেশিক', 'ক্রমবিন্যাস ', 'ভালো', 'সামরিক কর্মকর্তা', 'ভিন্নমতাবলম্বী', 'আবহাওয়া', 'সংখ্যাগরিষ্ঠ', 'এক', 'কবির', 'কম্পিউটার ', 'পূর্ব', 'বছর', 'থামাননি', 'শেখ লুৎফর', 'উপরে', 'নেতৃত্বে', 'রামসেস', 'রোকেয়ার', 'বর্ষাকাল', 'উত্তর', 'সাম্রাজ্যবাদের', 'ইলেকট্রিক ', 'অনলাইন', 'ঘটনা', 'আওয়ামী লীগ', 'নাসার', 'কণা', 'নিয়ন্ত্রিত', 'পত্রালাপ', 'বিরাট', 'সংস্পর্শে', 'বাবা', 'ঋতু', 'অনেক', 'ধনী', '১৯২০', 'যৌগ', 'এখানকার', 'উর্দ্ধে', 'ঘটনা', 'সূর্যের', 'মিল', 'সাহিত্যের', 'পূর্ব', 'প্রতিটি', 'মানুষকে', 'কারাবন্দী', 'ঘাসে', 'বাজারে ', 'নবম', 'প্রভাবজাত ', 'মানুষের', 'ব্যাপক', 'তিনটি ', 'রং', 'অবিভক্ত', 'ঐতিহ্যময়', 'লুঠ', 'ভিটা', 'অর্জন', 'মায়ের', 'সমীকরণগুলো', 'ইন্টারনেট', 'অনুমতি', 'বাংলাদেশ', 'গৃহভৃত্যদের', 'ইন্টারনেটের', 'মানুষের', '৬ জানুয়ারি ২০০৯', 'বনলতা সেন', 'সবচেয়ে ', '৯০', 'সংস্পর্শ', 'পাকিস্তানের', 'স্বয়ংক্রিয়ভাবে ', 'দক্ষিণ', 'বাংলা', 'বহুবার', 'বন্যা ঘূর্ণিথো জলোচ্ছাস', '১৯৪৬', 'মেয়েদের', 'বইয়ের', 'পাকিস্তানের', 'সমাধান ', 'বিদ্রোহে', 'পশ্চিমবঙ্গে', 'মেয়াদ', 'মার্কনির বেতার', 'সুস্থতার', 'আবশ্যক ', 'ঐক্যবদ্ধ', 'আবহাওয়াবিদগণ', 'পড়াশোনা', 'জাপানের', 'নির্ণয়েও', 'রাজনৈতিক', 'রাজনৈতিক', 'মাপার', 'ফার্ম ', 'রাজ', 'প্রথম', 'মুসলিম', 'উত্তরাঞ্চলের', 'অনেকগুলো', 'স্বয়ংক্রিয়ভাবে ', 'শাসকগোষ্ঠির', 'উত্তর', 'কম্পিউটার ', 'লণ্ডন', 'খারাপ', 'আমাদের', 'কলচুরি', 'শরৎচন্দ্র বসুর', 'পরীক্ষার ', 'পণ্য ', 'ইতিহাস', 'দেশ', 'পাবলিক', 'গণিত', 'মডেলের', 'শুদ্ধানন্দ', 'জগদীশ বসু', 'এপ্রিল', 'বড় ', 'দুইটি', 'প্রদেশ', 'গাণিতিক', 'নয়', 'কাজ ', 'সরাসরি', 'মানুষের ', 'কিছু', 'ন্যূনতম', 'সাগর কাজী', 'মেয়েদের', 'সরকার']\n"
          ]
        }
      ]
    },
    {
      "cell_type": "code",
      "source": [
        "print(len(decoded_predictions_batch))"
      ],
      "metadata": {
        "colab": {
          "base_uri": "https://localhost:8080/"
        },
        "id": "3JmnHgC7dW1O",
        "outputId": "e8fdb3d7-e365-4d19-86dd-d4c2dcbc2615"
      },
      "execution_count": null,
      "outputs": [
        {
          "output_type": "stream",
          "name": "stdout",
          "text": [
            "364\n"
          ]
        }
      ]
    },
    {
      "cell_type": "code",
      "source": [
        "print( decoded_references_batch)"
      ],
      "metadata": {
        "colab": {
          "base_uri": "https://localhost:8080/"
        },
        "id": "K8b0fmLPG9ir",
        "outputId": "01d7381d-cdca-4b24-dccb-30f4260ba39e"
      },
      "execution_count": null,
      "outputs": [
        {
          "output_type": "stream",
          "name": "stdout",
          "text": [
            "['মধ্যম', 'লড়াইতে', 'আন্দোলনকে', 'হাতপায়ের', 'ব্রিটিশ ', 'চুপ', '১৯৪৮', 'বাইরে ', 'কারখানা ', '১৮৯১', 'সায়', 'যন্ত্রটি ', 'ইমাম ', 'বিভক্ত', 'পূর্ব পাকিস্তান', 'রাস্তাঘাট', 'বাড়িতে ', 'পদ্মার', 'রােগ প্রতিরােধ', 'আনুষ্ঠানিকভাবে', 'বাঙ্গালীর', 'নিরাময়ে ', 'নক্ষত্র', 'ধারণা', 'এক ', 'কর্মীও', 'নতুন ', 'চিত্রা', 'ছােপ', 'আর্সেনিক', 'জনগণ', 'তিনটি', 'ইন্টারনেট', 'ভূমিকা ', 'আলোর', 'ব্যাটসম্যান', 'নিয়ন ও অন্যান্য', 'শিলাইদহে', 'কথা', 'উচ্চ ', 'পশ্চিমবঙ্গের', 'পুরোপুরি ', 'বিভ্রম', 'অগ্রহায়ণ', 'আয়ত্ত', 'তাপেও', '২৪ পরগণা ', 'অ্যাকাডেমি', 'একটা ', 'স্টিমারে', 'আমেরিকা', 'সাফল্যের ', 'মাত্রা', 'এক', 'সরণ', 'পরিণত ', 'ডিফারেন্সিয়াল ইকুয়েশন', 'তিনটি', 'বন্দী', 'সম্ভব', 'দোয়েল', 'সৈয়দ আহমদ শহীদের', 'যুদ্ধে ', 'কাজী ফকির আহমেদ', '১৯৭৫১৯৮৫', 'হোটেলের', 'ঋতুতে', 'ইংরেজ', 'পানি', 'পিরামিড', 'কয়েক ', 'ইন্টারনেট', 'হীনযান ', 'কম্পিউটারের ', 'ইলন মাস্ক', 'এসআইআর', 'উন্নত ', 'শুরু', 'প্যারাডক্স', 'বিভিন্ন ', 'বিশ্বভ্রমণে', 'ডিজে কিমারে', 'কাব্যগ্রন্থ', 'সমাজ', 'বৈজ্ঞানিক ', 'উচ্চতর ', 'আন্দোলন', 'সবার ', 'জীবনানন্দের', 'বন্দরগুলােতে ', 'ফাটল', 'কবিতা', 'সাম্রাজ্যবাদের ', 'সিস্টেম', 'কম্পিউটার ', 'গোপনে', '১৯৫১', 'শেষ', 'হেড পণ্ডিত', 'কৃষি', 'দুহাজার', 'রেহাই', 'বিপুল ', '১৯৫৬ ', 'দু', 'রবীন্দ্রনাথ ঠাকুরের', 'জালিয়াত', 'মি অধিকারী', 'রােগ ', 'প্রকট', 'গুণ', 'গতি', 'উদ্যোগের', 'ক্ষণিক', 'পরাবাস্তবের', 'সৈয়দ আহমদ শহীদ', 'খ্যাত', '১৬ই', 'শব্দ', 'উজ্জ্বল', 'একে ফজলুল হক', 'বিভিন্ন', 'আইনজ্ঞ', 'আমেরিকায়', 'সেনাবাহিনীতে ', 'অধিকাংশ', 'জোটবদ্ধ', 'কম্পিউটার', 'বেশি', 'বাতিল', 'জাতিসংঘ', 'কম্পিউটার ', 'সেনাবাহিনীর', 'ক্ষুদ্রান্ত্র', 'পাকিস্তানের', 'কিছু অদ্ভূত', 'সোনার তরী', 'আধুনিক যুগ', 'বর্ধমান', 'বঙ্গোপসাগরে', 'কম্পিউটার ', 'দেশের', 'বিদ্যাসাগর', 'জীবনকে ', '১৯৭৫', 'কপর্দকহীন', 'বিস্ময় ', 'উপাধিতে', 'তিব্বতে', 'নির্ণয়', 'শিকার', 'প্রতিভার ', 'স্টোর ', 'শেষের', '১৪৭৫৭০', 'সেনাবাহিনীর', 'অগাস্ট', 'একত্রিত', 'নাস্তিক', 'একুশ ', '২১ ফেব্রুয়ারি', 'শীত', 'বেগ', 'শরৎকাল', 'তিনটি', 'শিল্পের ', 'জেনারেল আইয়ুব খান', 'সব ', 'মুসলিম লীগ ', 'গোপালগঞ্জ', 'অক্টোবর', 'অস্ট্রেলিয়া', 'প্রত্যক্ষভাবে', 'উড়িষ্যায়', 'মাধ্যমিক', 'সমাজকল্যাণ', 'বিখ্যাত', 'বাবা', 'সোসাইটাজ মেটেওরোলোজিকা প্যাল্যাটিনা', 'মানবতাবাদ', 'স্থানীয় ', 'বড়', 'মহাজাগতিক কোন জীব', 'জনগণ', 'অফিসেই ', 'বলেছেন', 'শিলাস্তরে', 'অন্য মাত্রার', 'প্রধানতম ', 'এবিএম মুসা', 'উদ্যোগ', 'আকাঙ্ক্ষা ', 'নিকোলা টেসলা', 'পেছনে ', 'আওয়ামী লীগ', 'ইউরোপীয়', 'অন্যায়', 'মি সোহরাওয়ার্দী', 'আঁকায়', 'শুদ্ধানন্দ', 'ক্রয়বিক্রয়ে', 'আউটপুট ', '১৬', 'ইংল্যান্ডে', 'জটিল', 'পৃথিবীতে', 'বিংশ', 'বড়', 'বাংলার ', 'বিলুপ্তি', 'পৃথিবী', 'আবহাওয়া', 'সাফল্য ', 'তথ্য', 'পৃথিবীর', 'কল্যাণ ', 'সাহিত্যকর্মে', 'বহু', 'প্রকৌশলী ', 'অন্তর্মুখী', 'ফসল', 'রিপ ভ্যান উইংক্যাল', 'লেনার্ড এলমহার্স্ট', 'মতামত', 'বড়', '১০৫৩', 'সার্বিক', 'স্বাধীনতা ', 'ঔপনিবেশিক', 'ক্রমবিন্যাস', 'ভালো', 'কিছু সামরিক কর্মকর্তা', 'ভিন্নমতাবলম্বী', 'আবহাওয়া', 'সংখ্যাগরিষ্ঠ', 'এক', 'কবির ', 'কম্পিউটার ', 'পূর্ব', 'বছর', 'থামাননি', 'শেখ লুৎফর রহমান', 'উপরে', 'নেতৃত্বে', 'দ্বিতীয় রামসেস', 'রোকেয়ার ', 'বর্ষাকাল', 'উত্তর', 'সাম্রাজ্যবাদের', 'ইলেকট্রিক ', 'অনলাইন', 'ঘটনা', 'পাকিস্তানের', 'নাসা', 'কণা', 'নিয়ন্ত্রিত', 'পত্রালাপ ', 'বিরাট', 'সংস্পর্শে', 'বাবা', 'ঋতু ', 'অনেক', 'ধনী', 'মার্চ', 'যৌগ', 'বাংলাদেশের', 'উর্দ্ধে', 'ঘটনা', 'সূর্যের', 'মিল', 'সাহিত্যের', 'পূর্ব ', 'মোট', 'মানুষকে', 'কারাবন্দী ', 'ঘাসে', 'বাজারে ', 'ঢাকা', 'লেখা ', 'মানুষের ', 'ব্যাপক', 'তিনটি ', 'রং', 'অবিভক্ত', 'ঐতিহ্যময়', 'লুঠ', 'ভিটা', 'অর্জন', 'মায়ের', 'সমীকরণগুলো', 'ইন্টারনেট', 'অনুমতি', 'বাংলাদেশ', 'গৃহভৃত্যদের ', 'ইন্টারনেটের', 'মানুষের', '২০০৯', 'বনলতা সেন', 'সবচেয়ে', '৯০', 'সংস্পর্শ', 'পাকিস্তানের', 'নির্ভুল', 'দক্ষিণ এশিয়ায়', 'পূর্ব বাংলা', 'বহুবার', 'বন্যা ঘূর্ণিঝড় টর্নেডো জলোচ্ছাস', '১৯৪৬', 'মেয়েদের ', 'বইয়ের', 'পাকিস্তানের ', 'সমাধান ', 'বিদ্রোহে', 'পশ্চিমবঙ্গে', 'মেয়াদ', 'আবিষ্কার', 'সুস্থতার ', 'আবশ্যক', 'ঐক্যবদ্ধ', 'আবহাওয়াবিদগণ', 'পড়াশোনা ', 'জাপানের', 'নির্ণয়েও ', 'রাজনৈতিক', 'রাজনৈতিক', 'মাপার ', 'ফার্ম ', 'রাজ', 'প্রথম ', 'মুসলিম', 'উত্তরাঞ্চলের', 'অনেকগুলো', 'স্বয়ংক্রিয়ভাবে ', 'শাসকগোষ্ঠির', 'উত্তর থেকে দক্ষিণ ', 'কম্পিউটার ', 'লণ্ডন ইউনিভার্সিটি', 'খারাপ', 'আমাদের', 'কলচুরি', 'শরৎচন্দ্র বসুর ', 'পরীক্ষার ', 'পণ্য', 'ইতিহাস', 'দেশ', 'পাবলিক', 'স্বাধীনতা ', 'মডেলের', 'শুদ্ধানন্দ', 'জগদীশ বসু', 'এপ্রিল', 'বড় ', 'দুইটি', 'প্রদেশ', 'গাণিতিক', 'নয়', 'কাজ', 'সরাসরি', 'মানুষের ', 'কিছু', 'ন্যূনতম', 'সাগর কাজী ', 'মেয়েদের ', 'সরকার']\n"
          ]
        }
      ]
    },
    {
      "cell_type": "code",
      "source": [
        "print(len(decoded_references_batch))"
      ],
      "metadata": {
        "colab": {
          "base_uri": "https://localhost:8080/"
        },
        "id": "hpLT5DsFdajG",
        "outputId": "bdae6b85-0697-447a-f71f-20fe1b55fdb7"
      },
      "execution_count": null,
      "outputs": [
        {
          "output_type": "stream",
          "name": "stdout",
          "text": [
            "364\n"
          ]
        }
      ]
    },
    {
      "cell_type": "markdown",
      "source": [
        "# **Metrics Loading**"
      ],
      "metadata": {
        "id": "xuFG3eZW81Qk"
      }
    },
    {
      "cell_type": "code",
      "source": [
        "from evaluate import load\n",
        "\n",
        "# Loading the evaluation metric for Character Error Rate (CER) and Word Error Rate (WER) and Exact Match(em)\n",
        "cer_metric = load(\"cer\")\n",
        "wer_metric = load(\"wer\")\n",
        "exact_match_metric = load(\"exact_match\")\n",
        "\n",
        "# Loading BLEU and METEOR metrics\n",
        "bleu_metric = load(\"bleu\")\n",
        "meteor = load('meteor')\n",
        "\n",
        "# Calculating Character Error Rate (CER), Word Error Rate (WER) and Exact Match (EM)\n",
        "results_CER = cer_metric.compute(predictions=decoded_predictions_batch, references=decoded_references_batch)\n",
        "results_WER = wer_metric.compute(predictions=decoded_predictions_batch, references=decoded_references_batch)\n",
        "results_em = exact_match_metric.compute(predictions=decoded_predictions_batch, references=decoded_references_batch)\n",
        "\n",
        "# Calculating Bilingual Evaluation Understudy (BLEU) , Recall-Oriented Understudy for Gisting Evaluation (ROUGE) and METEOR(M)\n",
        "results_bleu = bleu_metric.compute(predictions=decoded_predictions_batch, references=decoded_references_batch)\n",
        "results_met = meteor.compute(predictions=decoded_predictions_batch, references=decoded_references_batch)"
      ],
      "metadata": {
        "colab": {
          "base_uri": "https://localhost:8080/"
        },
        "id": "QhQngY30ny7K",
        "outputId": "87d2b6f8-4ad8-46a0-9e38-2d01d384e14e"
      },
      "execution_count": null,
      "outputs": [
        {
          "output_type": "stream",
          "name": "stderr",
          "text": [
            "[nltk_data] Downloading package wordnet to /root/nltk_data...\n",
            "[nltk_data]   Package wordnet is already up-to-date!\n",
            "[nltk_data] Downloading package punkt to /root/nltk_data...\n",
            "[nltk_data]   Package punkt is already up-to-date!\n",
            "[nltk_data] Downloading package omw-1.4 to /root/nltk_data...\n",
            "[nltk_data]   Package omw-1.4 is already up-to-date!\n"
          ]
        }
      ]
    },
    {
      "cell_type": "code",
      "source": [
        "print(\"Character Error Rate for Bangla QA:\", results_CER)\n",
        "print(\"Word Error Rate for Bangla QA:\",results_WER)\n",
        "print(\"Exact Match for Bangla QA:\",results_em)\n",
        "print(\"BLEU Score for Bangla QA:\",results_bleu)\n",
        "print(\"METEOR for Bangla QA:\",results_met)"
      ],
      "metadata": {
        "id": "aoPok_hinuxQ",
        "colab": {
          "base_uri": "https://localhost:8080/"
        },
        "outputId": "5f5aa154-b95f-4f87-9e28-59a3f80526a6"
      },
      "execution_count": null,
      "outputs": [
        {
          "output_type": "stream",
          "name": "stdout",
          "text": [
            "Character Error Rate for Bangla QA: 0.1456592807845986\n",
            "Word Error Rate for Bangla QA: 0.14558472553699284\n",
            "Exact Match for Bangla QA: {'exact_match': 0.7032967032967034}\n",
            "BLEU Score for Bangla QA: {'bleu': 0.0, 'precisions': [0.9102244389027432, 0.7567567567567568, 0.6666666666666666, 0.0], 'brevity_penalty': 0.9561047693657851, 'length_ratio': 0.9570405727923628, 'translation_length': 401, 'reference_length': 419}\n",
            "METEOR for Bangla QA: {'meteor': 0.47705089869779194}\n"
          ]
        }
      ]
    },
    {
      "cell_type": "code",
      "source": [
        "!pip install rouge-score"
      ],
      "metadata": {
        "colab": {
          "base_uri": "https://localhost:8080/"
        },
        "id": "_bBtYthf2pPn",
        "outputId": "4881eb16-7460-4fa5-8242-368ffb7d31c4"
      },
      "execution_count": null,
      "outputs": [
        {
          "output_type": "stream",
          "name": "stdout",
          "text": [
            "Requirement already satisfied: rouge-score in /usr/local/lib/python3.10/dist-packages (0.1.2)\n",
            "Requirement already satisfied: absl-py in /usr/local/lib/python3.10/dist-packages (from rouge-score) (1.4.0)\n",
            "Requirement already satisfied: nltk in /usr/local/lib/python3.10/dist-packages (from rouge-score) (3.8.1)\n",
            "Requirement already satisfied: numpy in /usr/local/lib/python3.10/dist-packages (from rouge-score) (1.23.5)\n",
            "Requirement already satisfied: six>=1.14.0 in /usr/local/lib/python3.10/dist-packages (from rouge-score) (1.16.0)\n",
            "Requirement already satisfied: click in /usr/local/lib/python3.10/dist-packages (from nltk->rouge-score) (8.1.7)\n",
            "Requirement already satisfied: joblib in /usr/local/lib/python3.10/dist-packages (from nltk->rouge-score) (1.3.2)\n",
            "Requirement already satisfied: regex>=2021.8.3 in /usr/local/lib/python3.10/dist-packages (from nltk->rouge-score) (2023.6.3)\n",
            "Requirement already satisfied: tqdm in /usr/local/lib/python3.10/dist-packages (from nltk->rouge-score) (4.66.1)\n",
            "\u001b[33mWARNING: Running pip as the 'root' user can result in broken permissions and conflicting behaviour with the system package manager. It is recommended to use a virtual environment instead: https://pip.pypa.io/warnings/venv\u001b[0m\u001b[33m\n",
            "\u001b[0m"
          ]
        }
      ]
    },
    {
      "cell_type": "code",
      "source": [
        "!pip install unidecode"
      ],
      "metadata": {
        "colab": {
          "base_uri": "https://localhost:8080/"
        },
        "id": "WCW2KCx42qmW",
        "outputId": "8d4168d4-d5cb-4673-a060-b2b49ad0bae0"
      },
      "execution_count": null,
      "outputs": [
        {
          "output_type": "stream",
          "name": "stdout",
          "text": [
            "Requirement already satisfied: unidecode in /usr/local/lib/python3.10/dist-packages (1.3.7)\n",
            "\u001b[33mWARNING: Running pip as the 'root' user can result in broken permissions and conflicting behaviour with the system package manager. It is recommended to use a virtual environment instead: https://pip.pypa.io/warnings/venv\u001b[0m\u001b[33m\n",
            "\u001b[0m"
          ]
        }
      ]
    },
    {
      "cell_type": "code",
      "source": [
        "from rouge_score import rouge_scorer\n",
        "from unidecode import unidecode\n",
        "\n",
        "# Initialize the Rouge scorer\n",
        "scorer = rouge_scorer.RougeScorer(['rouge1', 'rouge2', 'rougeL'], use_stemmer=False)\n",
        "\n",
        "# Preprocess the text\n",
        "def preprocess_text(text):\n",
        "    text = unidecode(text)\n",
        "    tokens = text.split()\n",
        "    return ' '.join(tokens)\n",
        "\n",
        "# Calculate scores for each pair of predictions and references\n",
        "rouge1_f1_scores = []\n",
        "rouge1_precision_scores = []\n",
        "rouge1_recall_scores = []\n",
        "rouge2_f1_scores = []\n",
        "rouge2_precision_scores = []\n",
        "rouge2_recall_scores = []\n",
        "rougeL_f1_scores = []\n",
        "rougeL_precision_scores = []\n",
        "rougeL_recall_scores = []\n",
        "\n",
        "for ref, pred in zip(decoded_references_batch, decoded_predictions_batch):\n",
        "    candidate_summary = preprocess_text(pred)\n",
        "    reference_summary = preprocess_text(' '.join(ref))\n",
        "    scores = scorer.score(reference_summary, candidate_summary)\n",
        "\n",
        "    rouge1_f1_scores.append(scores['rouge1'].fmeasure)\n",
        "    rouge1_precision_scores.append(scores['rouge1'].precision)\n",
        "    rouge1_recall_scores.append(scores['rouge1'].recall)\n",
        "    rouge2_f1_scores.append(scores['rouge2'].fmeasure)\n",
        "    rouge2_precision_scores.append(scores['rouge2'].precision)\n",
        "    rouge2_recall_scores.append(scores['rouge2'].recall)\n",
        "    rougeL_f1_scores.append(scores['rougeL'].fmeasure)\n",
        "    rougeL_precision_scores.append(scores['rougeL'].precision)\n",
        "    rougeL_recall_scores.append(scores['rougeL'].recall)\n",
        "\n",
        "# Calculate the average scores\n",
        "avg_rouge1_f1 = sum(rouge1_f1_scores) / len(rouge1_f1_scores)\n",
        "avg_rouge1_precision = sum(rouge1_precision_scores) / len(rouge1_precision_scores)\n",
        "avg_rouge1_recall = sum(rouge1_recall_scores) / len(rouge1_recall_scores)\n",
        "avg_rouge2_f1 = sum(rouge2_f1_scores) / len(rouge2_f1_scores)\n",
        "avg_rouge2_precision = sum(rouge2_precision_scores) / len(rouge2_precision_scores)\n",
        "avg_rouge2_recall = sum(rouge2_recall_scores) / len(rouge2_recall_scores)\n",
        "avg_rougeL_f1 = sum(rougeL_f1_scores) / len(rougeL_f1_scores)\n",
        "avg_rougeL_precision = sum(rougeL_precision_scores) / len(rougeL_precision_scores)\n",
        "avg_rougeL_recall = sum(rougeL_recall_scores) / len(rougeL_recall_scores)\n",
        "\n",
        "# Print the average scores\n",
        "print(\"Average Rouge-1 F1 Score:\", avg_rouge1_f1)\n",
        "print(\"Average Rouge-1 Precision:\", avg_rouge1_precision)\n",
        "print(\"Average Rouge-1 Recall:\", avg_rouge1_recall)\n",
        "\n",
        "print(\"Average Rouge-2 F1 Score:\", avg_rouge2_f1)\n",
        "print(\"Average Rouge-2 Precision:\", avg_rouge2_precision)\n",
        "print(\"Average Rouge-2 Recall:\", avg_rouge2_recall)\n",
        "\n",
        "print(\"Average Rouge-L F1 Score:\", avg_rougeL_f1)\n",
        "print(\"Average Rouge-L Precision:\", avg_rougeL_precision)\n",
        "print(\"Average Rouge-L Recall:\", avg_rougeL_recall)\n"
      ],
      "metadata": {
        "colab": {
          "base_uri": "https://localhost:8080/"
        },
        "id": "QHtHMnvM2xJ5",
        "outputId": "920bf88e-f490-4218-8b4c-2d76bad59885"
      },
      "execution_count": null,
      "outputs": [
        {
          "output_type": "stream",
          "name": "stdout",
          "text": [
            "Average Rouge-1 F1 Score: 0.004410866910866911\n",
            "Average Rouge-1 Precision: 0.009615384615384616\n",
            "Average Rouge-1 Recall: 0.0028671725100296525\n",
            "Average Rouge-2 F1 Score: 0.0\n",
            "Average Rouge-2 Precision: 0.0\n",
            "Average Rouge-2 Recall: 0.0\n",
            "Average Rouge-L F1 Score: 0.004410866910866911\n",
            "Average Rouge-L Precision: 0.009615384615384616\n",
            "Average Rouge-L Recall: 0.0028671725100296525\n"
          ]
        }
      ]
    },
    {
      "cell_type": "markdown",
      "source": [
        "# **Create csv file for storing passage, question, answers and generated answer**"
      ],
      "metadata": {
        "id": "e7l1G-TBvG5f"
      }
    },
    {
      "cell_type": "code",
      "source": [
        "\n",
        "# Create a DataFrame to store answers\n",
        "generated_answer_df = pd.DataFrame({\n",
        "    'Context': test_data['passage'],  # Assuming 'test_data' contains our test dataset\n",
        "    'Question': test_data['question'],  # Assuming 'test_data' contains our test dataset\n",
        "    'Reference_Answer': decoded_references_batch,\n",
        "    'Generated_Answer': decoded_predictions_batch\n",
        "})\n",
        "\n",
        "# Save generated answers to a CSV file\n",
        "generated_answer_df.to_csv(\"/content/drive/MyDrive/QA_Dataset/mT5_QA/mT5_generated_answers.csv\", index=False)\n"
      ],
      "metadata": {
        "id": "aZcCal7TI4xq"
      },
      "execution_count": null,
      "outputs": []
    }
  ]
}